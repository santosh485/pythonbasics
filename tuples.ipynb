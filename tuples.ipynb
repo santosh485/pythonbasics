{
 "cells": [
  {
   "cell_type": "code",
   "execution_count": 1,
   "id": "ed2bfc9a",
   "metadata": {},
   "outputs": [
    {
     "name": "stdout",
     "output_type": "stream",
     "text": [
      "(1, 2, 3, 4)\n"
     ]
    }
   ],
   "source": [
    "a = (1,2,3,4)\n",
    "print(a)"
   ]
  },
  {
   "cell_type": "code",
   "execution_count": 2,
   "id": "ab5dcbf0",
   "metadata": {},
   "outputs": [],
   "source": [
    "# Tuple for permanent\n",
    "# Indexing\n",
    "# ordered\n",
    "# duplicate\n",
    "# # imputable"
   ]
  },
  {
   "cell_type": "code",
   "execution_count": 3,
   "id": "6c820f72",
   "metadata": {},
   "outputs": [
    {
     "name": "stdout",
     "output_type": "stream",
     "text": [
      "Ball\n"
     ]
    }
   ],
   "source": [
    "a = (\"Apple\",\"Ball\")\n",
    "print(a[1])"
   ]
  },
  {
   "cell_type": "code",
   "execution_count": 10,
   "id": "9b62ee3d",
   "metadata": {},
   "outputs": [
    {
     "name": "stdout",
     "output_type": "stream",
     "text": [
      "('Apple', 'Ball', 'Cat', 'Dog', 'Fish')\n"
     ]
    }
   ],
   "source": [
    "a = (\"Apple\",\"Ball\",\"Cat\",\"Dog\")\n",
    "b = (\"Fish\",)\n",
    "c = a+b\n",
    "print(c)"
   ]
  },
  {
   "cell_type": "code",
   "execution_count": 8,
   "id": "1ae172de",
   "metadata": {},
   "outputs": [
    {
     "name": "stdout",
     "output_type": "stream",
     "text": [
      "<class 'tuple'>\n"
     ]
    }
   ],
   "source": [
    "a = (\"apple\",)\n",
    "print(type(a))"
   ]
  },
  {
   "cell_type": "code",
   "execution_count": 9,
   "id": "5880d9d3",
   "metadata": {},
   "outputs": [
    {
     "name": "stdout",
     "output_type": "stream",
     "text": [
      "('Apple', 'Ball')\n"
     ]
    }
   ],
   "source": [
    "a = tuple()\n",
    "b = (\"Apple\",)\n",
    "c = (\"Ball\",)\n",
    "print(a+b+c)"
   ]
  },
  {
   "cell_type": "code",
   "execution_count": 12,
   "id": "700e3a28",
   "metadata": {},
   "outputs": [
    {
     "name": "stdout",
     "output_type": "stream",
     "text": [
      "Enter n = 2\n",
      "Enter x = 5\n",
      "Enter x = 6\n",
      "(5, 6)\n"
     ]
    }
   ],
   "source": [
    "t = tuple()\n",
    "n = int(input(\"Enter n = \"))\n",
    "for i in range(n):\n",
    "    x = int(input(\"Enter x = \"))\n",
    "    t = t+(x,)\n",
    "    \n",
    "print(t)"
   ]
  },
  {
   "cell_type": "code",
   "execution_count": 13,
   "id": "fd3868a8",
   "metadata": {},
   "outputs": [
    {
     "name": "stdout",
     "output_type": "stream",
     "text": [
      "the sume of no is =  11\n",
      "The max value is =  6\n",
      "the miinimium =  5\n",
      "min 3.0\n"
     ]
    }
   ],
   "source": [
    "print(\"the sume of no is = \",sum(t)) #better than loop\n",
    "print(\"The max value is = \",max(t))\n",
    "print(\"the miinimium = \",min(t))\n",
    "print(\"min\",max(t)/n)"
   ]
  },
  {
   "cell_type": "code",
   "execution_count": 14,
   "id": "bda14ab4",
   "metadata": {},
   "outputs": [
    {
     "name": "stdout",
     "output_type": "stream",
     "text": [
      "(5, 6)\n"
     ]
    }
   ],
   "source": [
    "sorted(t)\n",
    "print(t)"
   ]
  },
  {
   "cell_type": "code",
   "execution_count": 15,
   "id": "5744f6e3",
   "metadata": {},
   "outputs": [
    {
     "name": "stdout",
     "output_type": "stream",
     "text": [
      "['Apple', 'Ball', 'Ball', 'Cat', 'Dog']\n"
     ]
    }
   ],
   "source": [
    "a = (\"Apple\",\"Ball\",\"Ball\",\"Cat\",\"Dog\") #convert\n",
    "b = list(a)\n",
    "print(b)"
   ]
  },
  {
   "cell_type": "code",
   "execution_count": 16,
   "id": "d31ed977",
   "metadata": {},
   "outputs": [
    {
     "name": "stdout",
     "output_type": "stream",
     "text": [
      "yes\n",
      "1\n"
     ]
    }
   ],
   "source": [
    "a = (\"Apple\",\"Ball\",\"Cat\",\"Dog\")\n",
    "if \"Apple\" in a:\n",
    "    print(\"yes\")\n",
    "    print(a.count(\"Apple\"))"
   ]
  },
  {
   "cell_type": "code",
   "execution_count": 17,
   "id": "23431179",
   "metadata": {},
   "outputs": [
    {
     "name": "stdout",
     "output_type": "stream",
     "text": [
      "Apple\n",
      "Cat\n",
      "Dog\n"
     ]
    }
   ],
   "source": [
    "a = (\"Apple\",\"Ball\",\"Cat\",\"Dog\")\n",
    "for i in a:\n",
    "    if i ==\"Ball\":\n",
    "        continue\n",
    "    print(i)"
   ]
  },
  {
   "cell_type": "code",
   "execution_count": 1,
   "id": "ba0d06f2",
   "metadata": {},
   "outputs": [
    {
     "ename": "AttributeError",
     "evalue": "'tuple' object has no attribute 'append'",
     "output_type": "error",
     "traceback": [
      "\u001b[1;31m---------------------------------------------------------------------------\u001b[0m",
      "\u001b[1;31mAttributeError\u001b[0m                            Traceback (most recent call last)",
      "\u001b[1;32m<ipython-input-1-c14d02098f70>\u001b[0m in \u001b[0;36m<module>\u001b[1;34m\u001b[0m\n\u001b[0;32m      2\u001b[0m \u001b[0ma\u001b[0m \u001b[1;33m=\u001b[0m \u001b[1;33m(\u001b[0m\u001b[1;34m\"Apple\"\u001b[0m\u001b[1;33m,\u001b[0m\u001b[1;34m\"Ball\"\u001b[0m\u001b[1;33m,\u001b[0m\u001b[1;34m\"Cat\"\u001b[0m\u001b[1;33m,\u001b[0m\u001b[1;34m\"Dog\"\u001b[0m\u001b[1;33m)\u001b[0m\u001b[1;33m\u001b[0m\u001b[1;33m\u001b[0m\u001b[0m\n\u001b[0;32m      3\u001b[0m \u001b[0mb\u001b[0m \u001b[1;33m=\u001b[0m \u001b[1;33m(\u001b[0m\u001b[1;34m\"Fish\"\u001b[0m\u001b[1;33m,\u001b[0m\u001b[1;33m)\u001b[0m\u001b[1;33m\u001b[0m\u001b[1;33m\u001b[0m\u001b[0m\n\u001b[1;32m----> 4\u001b[1;33m \u001b[0ma\u001b[0m\u001b[1;33m.\u001b[0m\u001b[0mappend\u001b[0m\u001b[1;33m(\u001b[0m\u001b[0mb\u001b[0m\u001b[1;33m,\u001b[0m\u001b[1;33m)\u001b[0m\u001b[1;33m\u001b[0m\u001b[1;33m\u001b[0m\u001b[0m\n\u001b[0m\u001b[0;32m      5\u001b[0m \u001b[0mprint\u001b[0m\u001b[1;33m(\u001b[0m\u001b[0ma\u001b[0m\u001b[1;33m)\u001b[0m\u001b[1;33m\u001b[0m\u001b[1;33m\u001b[0m\u001b[0m\n",
      "\u001b[1;31mAttributeError\u001b[0m: 'tuple' object has no attribute 'append'"
     ]
    }
   ],
   "source": [
    "#append(add to last) insert()\n",
    "a = (\"Apple\",\"Ball\",\"Cat\",\"Dog\")\n",
    "b = (\"Fish\",)\n",
    "a.append(b,)\n",
    "print(a)"
   ]
  },
  {
   "cell_type": "code",
   "execution_count": 19,
   "id": "42129f08",
   "metadata": {},
   "outputs": [
    {
     "name": "stdout",
     "output_type": "stream",
     "text": [
      "<class 'tuple'>\n",
      "2\n"
     ]
    }
   ],
   "source": [
    "#tuple inside tuple for multidimensional value\n",
    "a = ((),())\n",
    "print(type(a))\n",
    "print(len(a))"
   ]
  },
  {
   "cell_type": "code",
   "execution_count": 20,
   "id": "1e2dc1e9",
   "metadata": {},
   "outputs": [
    {
     "name": "stdout",
     "output_type": "stream",
     "text": [
      "((1, 3, 4, 5), (5, 6, 6, 5))\n"
     ]
    }
   ],
   "source": [
    "a = ((1,3,4,5),\n",
    "     (5,6,6,5))\n",
    "print(a)"
   ]
  },
  {
   "cell_type": "code",
   "execution_count": 21,
   "id": "310ba8b0",
   "metadata": {},
   "outputs": [
    {
     "name": "stdout",
     "output_type": "stream",
     "text": [
      "Enter n = 2\n",
      "Enter name = ram\n",
      "Enter ntc number = 3665544\n",
      "Enter ncell no = 256645\n",
      "Enter name = hair\n",
      "Enter ntc number = 35652\n",
      "Enter ncell no = 2564\n",
      "((0, 'ram', 3665544, 256645), (1, 'hair', 35652, 2564))\n"
     ]
    }
   ],
   "source": [
    "data = tuple() #append not \n",
    "n = int(input(\"Enter n = \"))\n",
    "for i in range(n):\n",
    "    name = input(\"Enter name = \")\n",
    "    ntc = int(input(\"Enter ntc number = \"))\n",
    "    ncell = int(input(\"Enter ncell no = \"))\n",
    "    info = (i,name,ntc,ncell)\n",
    "    data = data+(info,)\n",
    "    \n",
    "print(data)"
   ]
  },
  {
   "cell_type": "code",
   "execution_count": 22,
   "id": "65b7545b",
   "metadata": {},
   "outputs": [
    {
     "name": "stdout",
     "output_type": "stream",
     "text": [
      "(0, 'ram', 3665544, 256645)\n",
      "(1, 'hair', 35652, 2564)\n"
     ]
    }
   ],
   "source": [
    "for i in data: #read\n",
    "    print(i)"
   ]
  },
  {
   "cell_type": "code",
   "execution_count": 23,
   "id": "47d85951",
   "metadata": {},
   "outputs": [
    {
     "name": "stdout",
     "output_type": "stream",
     "text": [
      "Enter name = ram\n",
      "('ram', 356, 6524)\n"
     ]
    }
   ],
   "source": [
    "a = (('ram', 356, 6524), ('shyam', 254, 2535))\n",
    "name = input(\"Enter name = \")\n",
    "for i in a:\n",
    "    if name in i:\n",
    "        print(i)"
   ]
  },
  {
   "cell_type": "code",
   "execution_count": 26,
   "id": "032f2a87",
   "metadata": {},
   "outputs": [
    {
     "name": "stdout",
     "output_type": "stream",
     "text": [
      "2\n"
     ]
    }
   ],
   "source": [
    "a = ([1,3,4],[4,6,7,8])\n",
    "print(len(a))"
   ]
  },
  {
   "cell_type": "code",
   "execution_count": 27,
   "id": "6509e14c",
   "metadata": {},
   "outputs": [
    {
     "name": "stdout",
     "output_type": "stream",
     "text": [
      "[0, 'ram', 3665544, 256645]\n"
     ]
    }
   ],
   "source": [
    "a = ([0, 'ram', 3665544, 256645], [1, 'hair', 35652, 2564])\n",
    "print(a[0])"
   ]
  },
  {
   "cell_type": "code",
   "execution_count": 29,
   "id": "c808dcce",
   "metadata": {},
   "outputs": [
    {
     "name": "stdout",
     "output_type": "stream",
     "text": [
      "([0, 'Ram Prasad', 3665544, 256645], [1, 'hair', 35652, 2564])\n"
     ]
    }
   ],
   "source": [
    "a = ([0, 'ram', 3665544, 256645], [1, 'hair', 35652, 2564])\n",
    "a[0][1] = \"Ram Prasad\"\n",
    "print(a) #list change but tuple no change(list inside tuple)"
   ]
  },
  {
   "cell_type": "code",
   "execution_count": 31,
   "id": "cac4f931",
   "metadata": {},
   "outputs": [
    {
     "name": "stdout",
     "output_type": "stream",
     "text": [
      "([0, 'ram', 3665544], [1, 'hair', 35652, 2564])\n"
     ]
    }
   ],
   "source": [
    "a = ([0, 'ram', 3665544, 256645], [1, 'hair', 35652, 2564])\n",
    "del a[0][3]\n",
    "print(a) #list change but tuple no change"
   ]
  },
  {
   "cell_type": "code",
   "execution_count": 33,
   "id": "b14f6eec",
   "metadata": {},
   "outputs": [
    {
     "name": "stdout",
     "output_type": "stream",
     "text": [
      "[(1, 'hair', 35652, 2564)]\n"
     ]
    }
   ],
   "source": [
    "a = [(0, 'ram', 3665544, 256645), (1, 'hair', 35652, 2564)]\n",
    "del a[0]\n",
    "print(a) #tuple inside list"
   ]
  },
  {
   "cell_type": "code",
   "execution_count": 34,
   "id": "bbe02c1b",
   "metadata": {},
   "outputs": [
    {
     "name": "stdout",
     "output_type": "stream",
     "text": [
      "[(0, 1, 3, 4, 5), (1, 'hair', 35652, 2564)]\n"
     ]
    }
   ],
   "source": [
    "a = [(0, 'ram', 3665544, 256645), (1, 'hair', 35652, 2564)]\n",
    "a[0] = (0,1,3,4,5)\n",
    "print(a) #tuple inside list"
   ]
  },
  {
   "cell_type": "code",
   "execution_count": 1,
   "id": "1de8af0d",
   "metadata": {},
   "outputs": [
    {
     "name": "stdout",
     "output_type": "stream",
     "text": [
      "[1, 3, 4, 5]\n",
      "[5, 6, 6, 5]\n"
     ]
    }
   ],
   "source": [
    "a = ((1,3,4,5),\n",
    "     (5,6,6,5))\n",
    "b = list(list(a))\n",
    "for i in b:\n",
    "    print(list(i))"
   ]
  },
  {
   "cell_type": "code",
   "execution_count": 38,
   "id": "7efd1fd9",
   "metadata": {},
   "outputs": [
    {
     "name": "stdout",
     "output_type": "stream",
     "text": [
      "((1, 3, 4, 5), (5, 6, 6, 5))\n"
     ]
    }
   ],
   "source": [
    "c = ()\n",
    "a = [[1,3,4,5],\n",
    "     [5,6,6,5]]\n",
    "b = list(a)\n",
    "for i in b:\n",
    "    x = tuple(i)\n",
    "    c = c+(x,)\n",
    "print(c)"
   ]
  },
  {
   "cell_type": "code",
   "execution_count": null,
   "id": "894b1762",
   "metadata": {},
   "outputs": [],
   "source": []
  },
  {
   "cell_type": "code",
   "execution_count": 39,
   "id": "21d89bab",
   "metadata": {},
   "outputs": [
    {
     "name": "stdout",
     "output_type": "stream",
     "text": [
      "[[1, 3, 4, 5], [5, 6, 6, 5]]\n"
     ]
    }
   ],
   "source": [
    "c = []\n",
    "a = ((1,3,4,5),\n",
    "     (5,6,6,5))\n",
    "b = list(a)\n",
    "for i in b:\n",
    "    x = list(i)\n",
    "    c.append(x)\n",
    "print(c)"
   ]
  },
  {
   "cell_type": "code",
   "execution_count": 40,
   "id": "d09086c2",
   "metadata": {},
   "outputs": [
    {
     "data": {
      "text/plain": [
       "0"
      ]
     },
     "execution_count": 40,
     "metadata": {},
     "output_type": "execute_result"
    }
   ],
   "source": [
    "a = []\n",
    "len(a)"
   ]
  },
  {
   "cell_type": "code",
   "execution_count": 41,
   "id": "bb19f36b",
   "metadata": {},
   "outputs": [
    {
     "ename": "NameError",
     "evalue": "name 'isempty' is not defined",
     "output_type": "error",
     "traceback": [
      "\u001b[1;31m---------------------------------------------------------------------------\u001b[0m",
      "\u001b[1;31mNameError\u001b[0m                                 Traceback (most recent call last)",
      "\u001b[1;32m<ipython-input-41-b2e94545e4f6>\u001b[0m in \u001b[0;36m<module>\u001b[1;34m\u001b[0m\n\u001b[1;32m----> 1\u001b[1;33m \u001b[0misempty\u001b[0m\u001b[1;33m(\u001b[0m\u001b[0ma\u001b[0m\u001b[1;33m)\u001b[0m\u001b[1;33m\u001b[0m\u001b[1;33m\u001b[0m\u001b[0m\n\u001b[0m",
      "\u001b[1;31mNameError\u001b[0m: name 'isempty' is not defined"
     ]
    }
   ],
   "source": [
    "isempty(a)"
   ]
  },
  {
   "cell_type": "code",
   "execution_count": 42,
   "id": "98109902",
   "metadata": {},
   "outputs": [
    {
     "name": "stdout",
     "output_type": "stream",
     "text": [
      "[1, 2, 3, 1, 2, 3]\n"
     ]
    }
   ],
   "source": [
    "a = [1,2,3]\n",
    "print(a*2)"
   ]
  },
  {
   "cell_type": "code",
   "execution_count": 43,
   "id": "298ae8ce",
   "metadata": {},
   "outputs": [
    {
     "data": {
      "text/plain": [
       "array([3, 6, 9])"
      ]
     },
     "execution_count": 43,
     "metadata": {},
     "output_type": "execute_result"
    }
   ],
   "source": [
    "import numpy as np\n",
    "a = np.array([1,2,3])\n",
    "a*3"
   ]
  },
  {
   "cell_type": "code",
   "execution_count": 44,
   "id": "45ee06c8",
   "metadata": {},
   "outputs": [
    {
     "name": "stdout",
     "output_type": "stream",
     "text": [
      "6\n"
     ]
    }
   ],
   "source": [
    "x = 1\n",
    "a = [1,2,3]\n",
    "for i in a:\n",
    "    x = x*i\n",
    "print(x)"
   ]
  },
  {
   "cell_type": "code",
   "execution_count": null,
   "id": "d6d57b8b",
   "metadata": {},
   "outputs": [],
   "source": []
  }
 ],
 "metadata": {
  "kernelspec": {
   "display_name": "Python 3",
   "language": "python",
   "name": "python3"
  },
  "language_info": {
   "codemirror_mode": {
    "name": "ipython",
    "version": 3
   },
   "file_extension": ".py",
   "mimetype": "text/x-python",
   "name": "python",
   "nbconvert_exporter": "python",
   "pygments_lexer": "ipython3",
   "version": "3.8.8"
  }
 },
 "nbformat": 4,
 "nbformat_minor": 5
}
