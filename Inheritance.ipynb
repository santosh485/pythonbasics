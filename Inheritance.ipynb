{
 "cells": [
  {
   "cell_type": "code",
   "execution_count": 1,
   "id": "d453f1b0",
   "metadata": {},
   "outputs": [],
   "source": [
    "class A:\n",
    "    pass\n",
    "class B(A):\n",
    "    pass\n",
    "obj = B()"
   ]
  },
  {
   "cell_type": "code",
   "execution_count": 3,
   "id": "6819e822",
   "metadata": {},
   "outputs": [
    {
     "name": "stdout",
     "output_type": "stream",
     "text": [
      "Enter l = 5\n",
      "Enter b = 5\n",
      "The area is  25\n"
     ]
    }
   ],
   "source": [
    "class Profile: #inteheritance arko class bat copy\n",
    "    def __init__(self):\n",
    "        self.l = int(input(\"Enter l = \"))\n",
    "        self.b = int(input(\"Enter b = \"))\n",
    "        self.a = self.l*self.b\n",
    "        \n",
    "class Hr(Profile):\n",
    "    def area(self):\n",
    "        print(\"The area is \",self.a)\n",
    "obj = Hr()\n",
    "obj.area()"
   ]
  },
  {
   "cell_type": "code",
   "execution_count": 6,
   "id": "938e51f7",
   "metadata": {},
   "outputs": [
    {
     "name": "stdout",
     "output_type": "stream",
     "text": [
      "Enter l = 5\n",
      "Enter b = 5\n",
      "The volume is  250\n"
     ]
    }
   ],
   "source": [
    "class area: #inteheritance arko class bat copy\n",
    "    def __init__(self):\n",
    "        self.l = int(input(\"Enter l = \"))\n",
    "        self.b = int(input(\"Enter b = \"))\n",
    "        self.a = self.l*self.b\n",
    "        \n",
    "class volume(Profile):\n",
    "    def __init__(self,h): #talko h initialize\n",
    "        self.h = h\n",
    "        area.__init__(self) #copy from above\n",
    "    def volume(self):\n",
    "        v = self.a*self.h\n",
    "        print(\"The volume is \",v)\n",
    "obj = volume(10)\n",
    "obj.volume()"
   ]
  },
  {
   "cell_type": "code",
   "execution_count": 4,
   "id": "f9386377",
   "metadata": {},
   "outputs": [],
   "source": [
    "class A: #multilevlel\n",
    "    def __init__(self,add):\n",
    "        self.add = add\n",
    "class B(A):\n",
    "    def __init__(self,age,add):\n",
    "        self.age = age\n",
    "        A.__init__(self,add)\n",
    "class C(B):\n",
    "    def __init__(self,name,age,add):\n",
    "        self.name = name\n",
    "        B.__init__(self,age,add)\n",
    "obj = C(\"Ram\",34,\"Kathmandu\")"
   ]
  },
  {
   "cell_type": "code",
   "execution_count": 7,
   "id": "51efcf96",
   "metadata": {},
   "outputs": [
    {
     "name": "stdout",
     "output_type": "stream",
     "text": [
      "Ram\n",
      "34\n",
      "Kathmandu\n"
     ]
    }
   ],
   "source": [
    "class A: #multilevlel\n",
    "    def __init__(self,add):\n",
    "        self.add = add\n",
    "class B(A):\n",
    "    def __init__(self,age,add):\n",
    "        self.age = age\n",
    "        A.__init__(self,add)\n",
    "class C(B):\n",
    "    def __init__(self,name,age,add):\n",
    "        self.name = name\n",
    "        B.__init__(self,age,add)\n",
    "obj = C(\"Ram\",34,\"Kathmandu\")\n",
    "print(obj.name)\n",
    "print(obj.age)\n",
    "print(obj.add)"
   ]
  },
  {
   "cell_type": "code",
   "execution_count": 9,
   "id": "2e135c9c",
   "metadata": {},
   "outputs": [
    {
     "name": "stdout",
     "output_type": "stream",
     "text": [
      "Ram\n",
      "34\n",
      "Kathmandu\n"
     ]
    }
   ],
   "source": [
    "class A: #multiclass\n",
    "    def __init__(self,add):\n",
    "        self.add = add\n",
    "class B:\n",
    "    def __init__(self,age):\n",
    "        self.age = age\n",
    "        \n",
    "class C(A,B):\n",
    "    def __init__(self,name,age,add):\n",
    "        self.name = name\n",
    "        B.__init__(self,age)\n",
    "        A.__init__(self,add)\n",
    "obj = C(\"Ram\",34,\"Kathmandu\")\n",
    "print(obj.name)\n",
    "print(obj.age)\n",
    "print(obj.add)"
   ]
  },
  {
   "cell_type": "code",
   "execution_count": 11,
   "id": "14c28b7a",
   "metadata": {},
   "outputs": [
    {
     "name": "stdout",
     "output_type": "stream",
     "text": [
      "Enter name =Ram\n",
      "Enter age =25\n",
      "Enter add =Kathmandu\n",
      "Ram\n",
      "25\n",
      "Kathmandu\n"
     ]
    }
   ],
   "source": [
    "class A: #multi\n",
    "    def __init__(self):\n",
    "        self.add = input(\"Enter add =\")\n",
    "class B:\n",
    "    def __init__(self):\n",
    "        self.age = int(input(\"Enter age =\"))\n",
    "        \n",
    "class C(A,B):\n",
    "    def __init__(self):\n",
    "        self.name = input(\"Enter name =\")\n",
    "        B. __init__(self)\n",
    "        A. __init__(self)\n",
    "obj = C()\n",
    "print(obj.name)\n",
    "print(obj.age)\n",
    "print(obj.add)"
   ]
  },
  {
   "cell_type": "code",
   "execution_count": 13,
   "id": "cdd92248",
   "metadata": {},
   "outputs": [
    {
     "name": "stdout",
     "output_type": "stream",
     "text": [
      "Ramm\n",
      "23\n",
      "Kathmandu\n"
     ]
    }
   ],
   "source": [
    "# public\n",
    "class Profile:\n",
    "    def __init__(self):\n",
    "        self.name = \"Ramm\"\n",
    "        self.age= 23\n",
    "        self.add = \"Kathmandu\"\n",
    "obj = Profile()\n",
    "print(obj.name)\n",
    "print(obj.age)\n",
    "print(obj.add)"
   ]
  },
  {
   "cell_type": "code",
   "execution_count": 14,
   "id": "d044f735",
   "metadata": {},
   "outputs": [
    {
     "name": "stdout",
     "output_type": "stream",
     "text": [
      "Ramm\n",
      "23\n",
      "Kathmandu\n"
     ]
    }
   ],
   "source": [
    "# protected_\n",
    "class Profile:\n",
    "    def __init__(self):\n",
    "        self._name = \"Ramm\"\n",
    "        self._age= 23\n",
    "        self._add = \"Kathmandu\"\n",
    "obj = Profile()\n",
    "print(obj._name) #for debuging purpose but bibadit\n",
    "print(obj._age)\n",
    "print(obj._add)"
   ]
  },
  {
   "cell_type": "code",
   "execution_count": 16,
   "id": "7ac50a7a",
   "metadata": {},
   "outputs": [
    {
     "name": "stdout",
     "output_type": "stream",
     "text": [
      "Ramm\n",
      "23\n",
      "Kathmandu\n"
     ]
    }
   ],
   "source": [
    "# private__\n",
    "class Profile:\n",
    "    def __init__(self):\n",
    "        self.__name = \"Ramm\"\n",
    "        self.__age= 23\n",
    "        self.__add = \"Kathmandu\"\n",
    "obj = Profile()\n",
    "print(obj._Profile__name) #for debuging purpose only\n",
    "print(obj._Profile__age)\n",
    "print(obj._Profile__add)"
   ]
  },
  {
   "cell_type": "code",
   "execution_count": 18,
   "id": "e87ad04f",
   "metadata": {},
   "outputs": [
    {
     "name": "stdout",
     "output_type": "stream",
     "text": [
      "Enter name =ram\n",
      "Enter age =25\n",
      "Enter add =ktm\n",
      "ram\n",
      "Hello I am {self.name}. Iam from{self._add}. Iam {self.ag}\n"
     ]
    }
   ],
   "source": [
    "class A: \n",
    "    def __init__(self):\n",
    "        self._add = input(\"Enter add =\")\n",
    "class B:\n",
    "    def __init__(self):\n",
    "        self.__age = int(input(\"Enter age =\"))\n",
    "        self.ag = 23\n",
    "        \n",
    "class C(A,B):\n",
    "    def __init__(self):\n",
    "        self.name = input(\"Enter name =\")\n",
    "        B. __init__(self)\n",
    "        A. __init__(self)\n",
    "    def info(self):\n",
    "        print(\"Hello I am {self.name}. Iam from{self._add}. Iam {self.ag}\")\n",
    "obj = C()\n",
    "print(obj.name)\n",
    "obj.info()"
   ]
  },
  {
   "cell_type": "code",
   "execution_count": 19,
   "id": "8993788f",
   "metadata": {},
   "outputs": [
    {
     "name": "stdout",
     "output_type": "stream",
     "text": [
      "Enter name =ram\n",
      "Enter age =25\n",
      "Enter add =kathmandu\n",
      "ram\n",
      "Hello I am {self.name}. Iam from{self._add}. Iam {self._B__age}\n"
     ]
    }
   ],
   "source": [
    "class A: \n",
    "    def __init__(self):\n",
    "        self._add = input(\"Enter add =\")\n",
    "class B:\n",
    "    def __init__(self):\n",
    "        self.__age = int(input(\"Enter age =\"))\n",
    "        self.ag = 23\n",
    "        \n",
    "class C(A,B):\n",
    "    def __init__(self):\n",
    "        self.name = input(\"Enter name =\")\n",
    "        B. __init__(self)\n",
    "        A. __init__(self)\n",
    "    def info(self):\n",
    "        print(\"Hello I am {self.name}. Iam from{self._add}. Iam {self._B__age}\") #only for debugging superaddmin\n",
    "obj = C()\n",
    "print(obj.name)\n",
    "obj.info()"
   ]
  },
  {
   "cell_type": "code",
   "execution_count": 21,
   "id": "fe137081",
   "metadata": {},
   "outputs": [
    {
     "name": "stdout",
     "output_type": "stream",
     "text": [
      "Enter l = 25\n",
      "Enter b = 25\n",
      "The area is  625\n"
     ]
    }
   ],
   "source": [
    "#super function\n",
    "class Profile: \n",
    "    def __init__(self):\n",
    "        self.l = int(input(\"Enter l = \"))\n",
    "        self.b = int(input(\"Enter b = \"))\n",
    "        self.a = self.l*self.b\n",
    "    def area(self):\n",
    "        a = self.l*self.b\n",
    "        return a\n",
    "        \n",
    "class Hr(Profile):\n",
    "    def area(self):\n",
    "        ar = super().area()\n",
    "        print(\"The area is \",ar)\n",
    "obj = Hr()\n",
    "obj.area()"
   ]
  },
  {
   "cell_type": "code",
   "execution_count": null,
   "id": "1fa9bcce",
   "metadata": {},
   "outputs": [],
   "source": []
  }
 ],
 "metadata": {
  "kernelspec": {
   "display_name": "Python 3",
   "language": "python",
   "name": "python3"
  },
  "language_info": {
   "codemirror_mode": {
    "name": "ipython",
    "version": 3
   },
   "file_extension": ".py",
   "mimetype": "text/x-python",
   "name": "python",
   "nbconvert_exporter": "python",
   "pygments_lexer": "ipython3",
   "version": "3.8.8"
  }
 },
 "nbformat": 4,
 "nbformat_minor": 5
}
