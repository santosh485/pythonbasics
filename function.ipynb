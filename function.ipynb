{
 "cells": [
  {
   "cell_type": "code",
   "execution_count": 2,
   "id": "f8f5444c",
   "metadata": {},
   "outputs": [],
   "source": [
    "#print(), int() str() float() type() predefined function\n",
    "# a()"
   ]
  },
  {
   "cell_type": "code",
   "execution_count": 3,
   "id": "f1242756",
   "metadata": {},
   "outputs": [],
   "source": [
    "# def <funtion_name>():\n",
    "#     <operation>\n",
    "    \n",
    "# <function_name>()"
   ]
  },
  {
   "cell_type": "code",
   "execution_count": 5,
   "id": "682516f1",
   "metadata": {},
   "outputs": [
    {
     "name": "stdout",
     "output_type": "stream",
     "text": [
      "Hellow world\n"
     ]
    }
   ],
   "source": [
    "def hello():\n",
    "    print(\"Hellow world\")\n",
    "hello()"
   ]
  },
  {
   "cell_type": "code",
   "execution_count": 1,
   "id": "caf16341",
   "metadata": {},
   "outputs": [
    {
     "name": "stdout",
     "output_type": "stream",
     "text": [
      "Hellow World\n"
     ]
    }
   ],
   "source": [
    "def hello():\n",
    "    print(\"Hellow World\")\n",
    "hello()"
   ]
  },
  {
   "cell_type": "code",
   "execution_count": 8,
   "id": "5e0d90fc",
   "metadata": {},
   "outputs": [
    {
     "name": "stdout",
     "output_type": "stream",
     "text": [
      "Hello world\n",
      "Hello world\n"
     ]
    }
   ],
   "source": [
    "x = \"Hello world\"\n",
    "def hello():\n",
    "    print(x)\n",
    "hello()\n",
    "hello()"
   ]
  },
  {
   "cell_type": "code",
   "execution_count": 2,
   "id": "9253e834",
   "metadata": {},
   "outputs": [
    {
     "name": "stdout",
     "output_type": "stream",
     "text": [
      "HelLo World\n"
     ]
    }
   ],
   "source": [
    "x = \"HelLo World\"\n",
    "def hello():\n",
    "    print(x)\n",
    "hello()"
   ]
  },
  {
   "cell_type": "code",
   "execution_count": 10,
   "id": "bbb94857",
   "metadata": {},
   "outputs": [
    {
     "name": "stdout",
     "output_type": "stream",
     "text": [
      "Enter l = 5\n",
      "Enter b = 5\n",
      "25\n"
     ]
    }
   ],
   "source": [
    "def area():\n",
    "    l = int(input(\"Enter l = \")) #local variable\n",
    "    b = int(input(\"Enter b = \"))\n",
    "    a = l*b\n",
    "    print(a)\n",
    "area()"
   ]
  },
  {
   "cell_type": "code",
   "execution_count": 3,
   "id": "6af2968c",
   "metadata": {},
   "outputs": [
    {
     "name": "stdout",
     "output_type": "stream",
     "text": [
      "Enter vaule of l =5\n",
      "Enter vaule of b =5\n",
      "25\n"
     ]
    }
   ],
   "source": [
    "def area():\n",
    "    l = int(input(\"Enter vaule of l =\"))\n",
    "    b = int(input(\"Enter vaule of b =\"))\n",
    "    a = l*b\n",
    "    print(a)\n",
    "area()"
   ]
  },
  {
   "cell_type": "code",
   "execution_count": 5,
   "id": "a4d5a466",
   "metadata": {},
   "outputs": [
    {
     "name": "stdout",
     "output_type": "stream",
     "text": [
      "Enter l = 6\n",
      "Enter b = 6\n",
      "36\n",
      "This is outside the function 36\n"
     ]
    }
   ],
   "source": [
    "l = int(input(\"Enter l = \")) #global variable\n",
    "b = int(input(\"Enter b = \"))\n",
    "def area():\n",
    "    global a\n",
    "    a = l*b\n",
    "    print(a)\n",
    "area()\n",
    "print(\"This is outside the function\",a)"
   ]
  },
  {
   "cell_type": "code",
   "execution_count": null,
   "id": "b6cbc82d",
   "metadata": {},
   "outputs": [],
   "source": [
    "l = int(input(\"Enter l = \")) #global variable\n",
    "b = int(input(\"Enter b = \"))\n",
    "def area():\n",
    "    a = l*b\n",
    "    print(a)\n",
    "area()\n",
    "print(l,b)"
   ]
  },
  {
   "cell_type": "code",
   "execution_count": 4,
   "id": "f8ed2a26",
   "metadata": {},
   "outputs": [
    {
     "name": "stdout",
     "output_type": "stream",
     "text": [
      "Enter l = 6\n",
      "Enter b = 5\n",
      "30\n",
      "6 5\n"
     ]
    }
   ],
   "source": [
    "l = int(input(\"Enter l = \"))\n",
    "b = int(input(\"Enter b = \"))\n",
    "def area():\n",
    "    a = l*b\n",
    "    print(a)\n",
    "area()\n",
    "print(l,b)"
   ]
  },
  {
   "cell_type": "code",
   "execution_count": 13,
   "id": "67c1bd1c",
   "metadata": {},
   "outputs": [
    {
     "name": "stdout",
     "output_type": "stream",
     "text": [
      "Enter l = 3\n",
      "Enter b = 5\n",
      "15\n",
      "This is outside function 15\n"
     ]
    }
   ],
   "source": [
    "def area():\n",
    "    l = int(input(\"Enter l = \")) #local variable\n",
    "    b = int(input(\"Enter b = \"))\n",
    "    global a\n",
    "    a = l*b\n",
    "    print(a)\n",
    "area()\n",
    "print(\"This is outside function\",a)"
   ]
  },
  {
   "cell_type": "code",
   "execution_count": 14,
   "id": "77de229d",
   "metadata": {},
   "outputs": [],
   "source": [
    "# function with no arguments and no return type\n",
    "# function with arguments and no return type\n",
    "# function with no arguments and return type\n",
    "# function with arguments and return type"
   ]
  },
  {
   "cell_type": "code",
   "execution_count": 15,
   "id": "784d7ab8",
   "metadata": {},
   "outputs": [
    {
     "name": "stdout",
     "output_type": "stream",
     "text": [
      "Hello World\n"
     ]
    }
   ],
   "source": [
    "def hello(x): #parameters\n",
    "    print(x)\n",
    "hello(\"Hello World\") #arguments"
   ]
  },
  {
   "cell_type": "code",
   "execution_count": 7,
   "id": "ce15525e",
   "metadata": {},
   "outputs": [
    {
     "name": "stdout",
     "output_type": "stream",
     "text": [
      "Hellow world\n"
     ]
    }
   ],
   "source": [
    "def hello(x):\n",
    "    print(x)\n",
    "hello(\"Hellow world\")"
   ]
  },
  {
   "cell_type": "code",
   "execution_count": 18,
   "id": "db7170eb",
   "metadata": {},
   "outputs": [
    {
     "name": "stdout",
     "output_type": "stream",
     "text": [
      "Hello World\n"
     ]
    }
   ],
   "source": [
    "def hello(x,y): #parameters\n",
    "    print(x,y)\n",
    "hello(\"Hello\",\"World\") #arguments"
   ]
  },
  {
   "cell_type": "code",
   "execution_count": 20,
   "id": "245cf612",
   "metadata": {},
   "outputs": [
    {
     "name": "stdout",
     "output_type": "stream",
     "text": [
      "Enter l = 5\n",
      "Enter b = 5\n",
      "Enter b = 6\n",
      "150\n",
      "25\n"
     ]
    }
   ],
   "source": [
    "# function with no arguments and no return type\n",
    "def area(x,y):\n",
    "    a = x*y\n",
    "    print(a)\n",
    "def volume(x,y,z):\n",
    "    v = x*y*z\n",
    "    print(v)\n",
    "    \n",
    "l = int(input(\"Enter l = \"))\n",
    "b = int(input(\"Enter b = \"))\n",
    "h = int(input(\"Enter b = \"))\n",
    "volume(l,b,h)\n",
    "area(l,b)"
   ]
  },
  {
   "cell_type": "code",
   "execution_count": 8,
   "id": "5dc8e74b",
   "metadata": {},
   "outputs": [
    {
     "name": "stdout",
     "output_type": "stream",
     "text": [
      "Enter l = 5\n",
      "Enter b = 6\n",
      "30\n"
     ]
    }
   ],
   "source": [
    "def area(x,y):\n",
    "    a = l*b\n",
    "    print(a)\n",
    "l = int(input(\"Enter l = \"))\n",
    "b = int(input(\"Enter b = \"))\n",
    "area(l,b)"
   ]
  },
  {
   "cell_type": "code",
   "execution_count": 9,
   "id": "6220b314",
   "metadata": {},
   "outputs": [
    {
     "name": "stdout",
     "output_type": "stream",
     "text": [
      "C\n",
      "C++\n",
      "C#\n",
      "Python\n"
     ]
    }
   ],
   "source": [
    "def language(lan = \"Python\"):\n",
    "    print(lan)\n",
    "language(\"C\")\n",
    "language(\"C++\")\n",
    "language(\"C#\")\n",
    "language()"
   ]
  },
  {
   "cell_type": "code",
   "execution_count": 21,
   "id": "9256ff97",
   "metadata": {},
   "outputs": [
    {
     "name": "stdout",
     "output_type": "stream",
     "text": [
      "20\n"
     ]
    }
   ],
   "source": [
    "def hello():\n",
    "    l = 5\n",
    "    b = 4\n",
    "    a = l*b\n",
    "    return a\n",
    "print(hello())"
   ]
  },
  {
   "cell_type": "code",
   "execution_count": 11,
   "id": "c659d03b",
   "metadata": {},
   "outputs": [
    {
     "name": "stdout",
     "output_type": "stream",
     "text": [
      "20\n"
     ]
    }
   ],
   "source": [
    "def hello():\n",
    "    l = 4\n",
    "    b = 5\n",
    "    a = l*b\n",
    "    return a\n",
    "print(hello())"
   ]
  },
  {
   "cell_type": "code",
   "execution_count": null,
   "id": "7d97ca0e",
   "metadata": {},
   "outputs": [],
   "source": []
  },
  {
   "cell_type": "code",
   "execution_count": 22,
   "id": "affb30bd",
   "metadata": {},
   "outputs": [
    {
     "name": "stdout",
     "output_type": "stream",
     "text": [
      "20\n"
     ]
    }
   ],
   "source": [
    "def hello():\n",
    "    l = 5\n",
    "    b = 4\n",
    "    a = l*b\n",
    "    return a\n",
    "x = hello()\n",
    "print(x)"
   ]
  },
  {
   "cell_type": "code",
   "execution_count": 12,
   "id": "451fb095",
   "metadata": {},
   "outputs": [
    {
     "name": "stdout",
     "output_type": "stream",
     "text": [
      "20\n"
     ]
    }
   ],
   "source": [
    "def hello():\n",
    "    l = 5\n",
    "    b = 4\n",
    "    a = l*b\n",
    "    return a\n",
    "y = hello()\n",
    "print(y)"
   ]
  },
  {
   "cell_type": "code",
   "execution_count": 14,
   "id": "0f93876c",
   "metadata": {},
   "outputs": [
    {
     "name": "stdout",
     "output_type": "stream",
     "text": [
      "the area is y  20\n",
      "the volume is v  60\n"
     ]
    }
   ],
   "source": [
    "def hello():\n",
    "    l = 5\n",
    "    b = 4\n",
    "    a = l*b\n",
    "    return a\n",
    "y = hello()\n",
    "h = 3\n",
    "v = y*h\n",
    "print(\"the area is y \",y)\n",
    "print(\"the volume is v \",v)"
   ]
  },
  {
   "cell_type": "code",
   "execution_count": 25,
   "id": "6184afd0",
   "metadata": {},
   "outputs": [
    {
     "name": "stdout",
     "output_type": "stream",
     "text": [
      "the area is 20\n",
      "the volume is 200\n"
     ]
    }
   ],
   "source": [
    "def hello():\n",
    "    l = 5\n",
    "    b = 4\n",
    "    a = l*b\n",
    "    return a\n",
    "x = hello()\n",
    "h = 10\n",
    "v = x*h\n",
    "print(\"the area is\",x)\n",
    "print(\"the volume is\",v)"
   ]
  },
  {
   "cell_type": "code",
   "execution_count": 26,
   "id": "afa6bcd5",
   "metadata": {},
   "outputs": [
    {
     "name": "stdout",
     "output_type": "stream",
     "text": [
      "(20, 10)\n",
      "the area is (20, 10)\n",
      "the volume is 200\n"
     ]
    }
   ],
   "source": [
    "def hello():\n",
    "    l = 5\n",
    "    b = 4\n",
    "    h = 10\n",
    "    a = l*b\n",
    "    v = a*h\n",
    "    return a,h\n",
    "x = hello()\n",
    "print(x)\n",
    "\n",
    "\n",
    "print(\"the area is\",x)\n",
    "print(\"the volume is\",v)"
   ]
  },
  {
   "cell_type": "code",
   "execution_count": 17,
   "id": "46951105",
   "metadata": {},
   "outputs": [
    {
     "name": "stdout",
     "output_type": "stream",
     "text": [
      "(20, 200)\n",
      "the area is 20\n",
      "the volume is 200\n"
     ]
    }
   ],
   "source": [
    "def hello():\n",
    "    l = 5\n",
    "    b = 4\n",
    "    a = l*b\n",
    "    h = 10\n",
    "    v = a*h\n",
    "    return a,v\n",
    "x = hello()\n",
    "area,volume = x\n",
    "print(x)\n",
    "print(\"the area is\",area)\n",
    "print(\"the volume is\",volume)"
   ]
  },
  {
   "cell_type": "code",
   "execution_count": 18,
   "id": "c8e3b616",
   "metadata": {},
   "outputs": [
    {
     "name": "stdout",
     "output_type": "stream",
     "text": [
      "Enter l = 5\n",
      "Enter b = 5\n",
      "25\n"
     ]
    }
   ],
   "source": [
    "# function with arguments and return type\n",
    "def area(x,y):\n",
    "    a = x*y\n",
    "    return a\n",
    "    \n",
    "l = int(input(\"Enter l = \"))\n",
    "b = int(input(\"Enter b = \"))\n",
    "print(area(l,b))"
   ]
  },
  {
   "cell_type": "code",
   "execution_count": null,
   "id": "a2005087",
   "metadata": {},
   "outputs": [],
   "source": []
  },
  {
   "cell_type": "code",
   "execution_count": 28,
   "id": "d83ee04e",
   "metadata": {},
   "outputs": [
    {
     "name": "stdout",
     "output_type": "stream",
     "text": [
      "Enter l = 5\n",
      "Enter b = 5\n",
      "Enter b = 5\n",
      "25\n",
      "125\n"
     ]
    }
   ],
   "source": [
    "# function with arguments and return type\n",
    "def cal(x,y,z):\n",
    "    a = x*y\n",
    "    v = a*z\n",
    "    return a,v\n",
    "    \n",
    "l = int(input(\"Enter l = \"))\n",
    "b = int(input(\"Enter b = \"))\n",
    "h = int(input(\"Enter b = \"))\n",
    "area,volume = cal(l,b,h)\n",
    "print(area)\n",
    "print(volume)"
   ]
  },
  {
   "cell_type": "code",
   "execution_count": 1,
   "id": "d77c8781",
   "metadata": {},
   "outputs": [],
   "source": [
    "# math function and recursive function"
   ]
  },
  {
   "cell_type": "code",
   "execution_count": 2,
   "id": "3ef3b174",
   "metadata": {},
   "outputs": [
    {
     "name": "stdout",
     "output_type": "stream",
     "text": [
      "3.141592653589793\n"
     ]
    }
   ],
   "source": [
    "import math as m\n",
    "print(m.pi)"
   ]
  },
  {
   "cell_type": "code",
   "execution_count": 3,
   "id": "6c983b7d",
   "metadata": {},
   "outputs": [
    {
     "data": {
      "text/plain": [
       "9.0"
      ]
     },
     "execution_count": 3,
     "metadata": {},
     "output_type": "execute_result"
    }
   ],
   "source": [
    "m.pow(3,2)"
   ]
  },
  {
   "cell_type": "code",
   "execution_count": 2,
   "id": "d51b4fdc",
   "metadata": {},
   "outputs": [
    {
     "name": "stdout",
     "output_type": "stream",
     "text": [
      "3.141592653589793\n"
     ]
    }
   ],
   "source": [
    "import math as m\n",
    "print(m.pi)"
   ]
  },
  {
   "cell_type": "code",
   "execution_count": 3,
   "id": "858e7074",
   "metadata": {},
   "outputs": [
    {
     "data": {
      "text/plain": [
       "9.0"
      ]
     },
     "execution_count": 3,
     "metadata": {},
     "output_type": "execute_result"
    }
   ],
   "source": [
    "m.pow(3,2)"
   ]
  },
  {
   "cell_type": "code",
   "execution_count": 5,
   "id": "eef5eb0e",
   "metadata": {},
   "outputs": [
    {
     "name": "stdout",
     "output_type": "stream",
     "text": [
      "0.8939966636005579\n"
     ]
    }
   ],
   "source": [
    "a = 90\n",
    "print(m.sin(a))"
   ]
  },
  {
   "cell_type": "code",
   "execution_count": 6,
   "id": "1cd67eb1",
   "metadata": {},
   "outputs": [
    {
     "name": "stdout",
     "output_type": "stream",
     "text": [
      "1.0\n"
     ]
    }
   ],
   "source": [
    "a = m.pi/2\n",
    "print(m.sin(a))"
   ]
  },
  {
   "cell_type": "code",
   "execution_count": 7,
   "id": "bec2a55e",
   "metadata": {},
   "outputs": [
    {
     "data": {
      "text/plain": [
       "120"
      ]
     },
     "execution_count": 7,
     "metadata": {},
     "output_type": "execute_result"
    }
   ],
   "source": [
    "m.factorial(5)"
   ]
  },
  {
   "cell_type": "code",
   "execution_count": 9,
   "id": "0aa54eb9",
   "metadata": {},
   "outputs": [
    {
     "name": "stdout",
     "output_type": "stream",
     "text": [
      "Enter r = 5\n",
      "78.53981633974483\n"
     ]
    }
   ],
   "source": [
    "import math as m\n",
    "r = int(input(\"Enter r = \"))\n",
    "a = m.pi*m.pow(r,2)\n",
    "print(a)"
   ]
  },
  {
   "cell_type": "code",
   "execution_count": 5,
   "id": "526bf1e0",
   "metadata": {},
   "outputs": [
    {
     "name": "stdout",
     "output_type": "stream",
     "text": [
      "enter r = 5\n",
      "392.6990816987241\n"
     ]
    }
   ],
   "source": [
    "import math as m\n",
    "r = int(input(\"enter r = \"))\n",
    "a = m.pi*m.pow(r,3)\n",
    "print(a)"
   ]
  },
  {
   "cell_type": "code",
   "execution_count": 10,
   "id": "c250699c",
   "metadata": {},
   "outputs": [
    {
     "name": "stdout",
     "output_type": "stream",
     "text": [
      "Hello World\n",
      "Entner y for more print yy\n"
     ]
    }
   ],
   "source": [
    "# recursive function\n",
    "def hello():\n",
    "    print(\"Hello World\")\n",
    "    x = input(\"Entner y for more print \")\n",
    "    if x == \"y\":\n",
    "        hello()\n",
    "    \n",
    "hello()"
   ]
  },
  {
   "cell_type": "code",
   "execution_count": 6,
   "id": "bbcb5700",
   "metadata": {},
   "outputs": [
    {
     "name": "stdout",
     "output_type": "stream",
     "text": [
      "Hello World\n",
      "Enter y for more printy\n",
      "Hello World\n",
      "Enter y for more printy\n",
      "Hello World\n",
      "Enter y for more printy\n",
      "Hello World\n",
      "Enter y for more printa\n"
     ]
    }
   ],
   "source": [
    "def hello():\n",
    "    print(\"Hello World\")\n",
    "    x = input(\"Enter y for more print\")\n",
    "    if x == \"y\":\n",
    "        hello()\n",
    "        \n",
    "hello()"
   ]
  },
  {
   "cell_type": "code",
   "execution_count": 11,
   "id": "63812166",
   "metadata": {},
   "outputs": [
    {
     "name": "stdout",
     "output_type": "stream",
     "text": [
      "Enter p =2\n",
      "Enter t =5\n",
      "Enter r =5\n",
      "0.5\n",
      "Enter x = y\n",
      "Enter p =6\n",
      "Enter t =5\n",
      "Enter r =3\n",
      "0.9\n",
      "Enter x = t\n"
     ]
    }
   ],
   "source": [
    "def cal():\n",
    "    p = float(input(\"Enter p =\"))\n",
    "    t = float(input(\"Enter t =\"))\n",
    "    r = float(input(\"Enter r =\"))\n",
    "    i = p*t*r/100\n",
    "    print(i)\n",
    "    x = input(\"Enter x = \")\n",
    "    if x ==\"y\":\n",
    "        cal()\n",
    "        \n",
    "cal()"
   ]
  },
  {
   "cell_type": "code",
   "execution_count": 7,
   "id": "79c858cf",
   "metadata": {},
   "outputs": [
    {
     "name": "stdout",
     "output_type": "stream",
     "text": [
      "Enter p = 5\n",
      "Enter t = 5\n",
      "Enter r = 5\n",
      "1.25\n",
      "Enter x = l\n"
     ]
    }
   ],
   "source": [
    "def cal():\n",
    "    p = int(input(\"Enter p = \"))\n",
    "    t = int(input(\"Enter t = \"))\n",
    "    r = int(input(\"Enter r = \"))\n",
    "    i = p*t*r/100\n",
    "    print(i)\n",
    "    x = input(\"Enter x = \")\n",
    "    if x ==\"y\":\n",
    "        cal()\n",
    "        \n",
    "cal()"
   ]
  },
  {
   "cell_type": "code",
   "execution_count": 16,
   "id": "53f22ff9",
   "metadata": {},
   "outputs": [
    {
     "name": "stdout",
     "output_type": "stream",
     "text": [
      "Enter n = 1\n",
      "Enter p =6\n",
      "Enter t =5\n",
      "Enter r =6\n",
      "1.8\n"
     ]
    }
   ],
   "source": [
    "def cal():\n",
    "    p = float(input(\"Enter p =\"))\n",
    "    t = float(input(\"Enter t =\"))\n",
    "    r = float(input(\"Enter r =\"))\n",
    "    i = p*t*r/100\n",
    "    print(i)\n",
    "   \n",
    "n = int(input(\"Enter n = \"))\n",
    "for i in range(n):\n",
    "    cal()"
   ]
  },
  {
   "cell_type": "code",
   "execution_count": 19,
   "id": "7beea3b8",
   "metadata": {},
   "outputs": [
    {
     "name": "stdout",
     "output_type": "stream",
     "text": [
      "Enter n = 1\n",
      "Enter p =5\n",
      "Enter t =5\n",
      "Enter r =5\n",
      "1.25\n",
      "None\n"
     ]
    }
   ],
   "source": [
    "def cal(p,t,r):\n",
    "    \n",
    "    i = p*t*r/100\n",
    "    print(i)\n",
    "   \n",
    "n = int(input(\"Enter n = \"))\n",
    "for i in range(n):\n",
    "    p = float(input(\"Enter p =\"))\n",
    "    t = float(input(\"Enter t =\"))\n",
    "    r = float(input(\"Enter r =\"))\n",
    "    print(cal(p,t,r))"
   ]
  },
  {
   "cell_type": "code",
   "execution_count": null,
   "id": "940b8650",
   "metadata": {},
   "outputs": [],
   "source": []
  },
  {
   "cell_type": "code",
   "execution_count": 12,
   "id": "751382c1",
   "metadata": {},
   "outputs": [
    {
     "name": "stdout",
     "output_type": "stream",
     "text": [
      "Enter a = 5\n",
      "Enter b = 6\n",
      "Enter + - * / /\n",
      "0.8333333333333334\n",
      "Enter y for mol cal =y\n",
      "Enter a = 6\n",
      "Enter b = 6\n",
      "Enter + - * / +\n",
      "12\n",
      "Enter y for mol cal =5\n"
     ]
    }
   ],
   "source": [
    "def cal():\n",
    "    a = int(input(\"Enter a = \"))\n",
    "    b = int(input(\"Enter b = \"))\n",
    "    o = input(\"Enter + - * / \")\n",
    "    if o == \"+\":\n",
    "        print(a+b)\n",
    "    elif o == \"-\":\n",
    "        print(a-b)\n",
    "    elif o == \"*\":\n",
    "        print(a*b)\n",
    "    elif o == \"/\":\n",
    "        if b !=0:\n",
    "            print(a/b)\n",
    "        else: print(\"b shold not be zero\")\n",
    "    else:\n",
    "        print(\"Invalid operator\")\n",
    "    x = input(\"Enter y for mol cal =\")\n",
    "    if x ==\"y\":\n",
    "        cal()\n",
    "cal()"
   ]
  },
  {
   "cell_type": "code",
   "execution_count": 14,
   "id": "4ed17724",
   "metadata": {
    "scrolled": true
   },
   "outputs": [
    {
     "ename": "SyntaxError",
     "evalue": "invalid syntax (<ipython-input-14-5c67dac71420>, line 15)",
     "output_type": "error",
     "traceback": [
      "\u001b[1;36m  File \u001b[1;32m\"<ipython-input-14-5c67dac71420>\"\u001b[1;36m, line \u001b[1;32m15\u001b[0m\n\u001b[1;33m    elif o == \"-\":\u001b[0m\n\u001b[1;37m    ^\u001b[0m\n\u001b[1;31mSyntaxError\u001b[0m\u001b[1;31m:\u001b[0m invalid syntax\n"
     ]
    }
   ],
   "source": [
    "def add(a,b):\n",
    "    return a+b\n",
    "def sub(a,b):\n",
    "    return a-b\n",
    "def mul(a,b):\n",
    "    return a*b\n",
    "def div(a,b):\n",
    "    return a/b\n",
    "def cal():\n",
    "    a = int(input(\"Enter a = \"))\n",
    "    b = int(input(\"Enter b = \"))\n",
    "    o = input(\"Enter + - * / \")\n",
    "    if o == \"+\":\n",
    "        print(add((a,b))\n",
    "    elif o == \"-\":\n",
    "        print(sub(a,b))\n",
    "    elif o == \"*\":\n",
    "        print(mul(a,b))\n",
    "    elif o == \"/\":\n",
    "        if b !=0:\n",
    "            print(div(a,b))\n",
    "        else: print(\"b shold not be zero\")\n",
    "    else:\n",
    "        print(\"Invalid operator\")\n",
    "    x = input(\"Enter y for mol cal =\")\n",
    "    if x ==\"y\":\n",
    "        cal()\n",
    "              \n",
    "              \n",
    "cal()"
   ]
  },
  {
   "cell_type": "code",
   "execution_count": 8,
   "id": "336e0425",
   "metadata": {},
   "outputs": [
    {
     "name": "stdout",
     "output_type": "stream",
     "text": [
      "Enter n =1\n",
      "Enter name = ram\n",
      "Enter phone= 2554\n",
      "ram2554\n",
      "\n",
      "\n",
      "ram2554\n",
      "\n",
      "\n"
     ]
    }
   ],
   "source": [
    "s =\"\"\n",
    "def phone_no(x=\"\",y=\"\"):\n",
    "    global s\n",
    "    s = s+x+y+\"\\n\"\n",
    "    return s\n",
    "n = int(input(\"Enter n =\"))\n",
    "\n",
    "for i in range(n):\n",
    "    name = input(\"Enter name = \")\n",
    "    phone = input(\"Enter phone= \")\n",
    "    phone_no(name,phone)\n",
    "\n",
    "print(phone_no())\n",
    "print(s)"
   ]
  },
  {
   "cell_type": "code",
   "execution_count": 30,
   "id": "1a705a4e",
   "metadata": {},
   "outputs": [
    {
     "name": "stdout",
     "output_type": "stream",
     "text": [
      "Enter n = \n"
     ]
    },
    {
     "ename": "ValueError",
     "evalue": "invalid literal for int() with base 10: ''",
     "output_type": "error",
     "traceback": [
      "\u001b[1;31m---------------------------------------------------------------------------\u001b[0m",
      "\u001b[1;31mValueError\u001b[0m                                Traceback (most recent call last)",
      "\u001b[1;32m<ipython-input-30-0c1d72e18883>\u001b[0m in \u001b[0;36m<module>\u001b[1;34m\u001b[0m\n\u001b[0;32m      6\u001b[0m     \u001b[0mtotal\u001b[0m \u001b[1;33m=\u001b[0m \u001b[0mtotal\u001b[0m\u001b[1;33m+\u001b[0m\u001b[0mprice\u001b[0m\u001b[1;33m\u001b[0m\u001b[1;33m\u001b[0m\u001b[0m\n\u001b[0;32m      7\u001b[0m \u001b[1;33m\u001b[0m\u001b[0m\n\u001b[1;32m----> 8\u001b[1;33m \u001b[0mn\u001b[0m \u001b[1;33m=\u001b[0m \u001b[0mint\u001b[0m\u001b[1;33m(\u001b[0m\u001b[0minput\u001b[0m\u001b[1;33m(\u001b[0m\u001b[1;34m\"Enter n = \"\u001b[0m\u001b[1;33m)\u001b[0m\u001b[1;33m)\u001b[0m\u001b[1;33m\u001b[0m\u001b[1;33m\u001b[0m\u001b[0m\n\u001b[0m\u001b[0;32m      9\u001b[0m \u001b[1;32mfor\u001b[0m \u001b[0mi\u001b[0m \u001b[1;32min\u001b[0m \u001b[0mrange\u001b[0m\u001b[1;33m(\u001b[0m\u001b[0mn\u001b[0m\u001b[1;33m)\u001b[0m\u001b[1;33m:\u001b[0m\u001b[1;33m\u001b[0m\u001b[1;33m\u001b[0m\u001b[0m\n\u001b[0;32m     10\u001b[0m     \u001b[0mname\u001b[0m \u001b[1;33m=\u001b[0m \u001b[0minput\u001b[0m\u001b[1;33m(\u001b[0m\u001b[1;34m\"Enter name = \"\u001b[0m\u001b[1;33m)\u001b[0m\u001b[1;33m\u001b[0m\u001b[1;33m\u001b[0m\u001b[0m\n",
      "\u001b[1;31mValueError\u001b[0m: invalid literal for int() with base 10: ''"
     ]
    }
   ],
   "source": [
    "s =\"\"\n",
    "total = 0\n",
    "def bill(name,price):\n",
    "    global s,total\n",
    "    s = s+name+str(price)+\"\\n\"\n",
    "    total = total+price\n",
    "\n",
    "n = int(input(\"Enter n = \"))\n",
    "for i in range(n):\n",
    "    name = input(\"Enter name = \")\n",
    "    price = int(input(\"Enter age = \"))\n",
    "    bill(name,price)\n",
    "\n",
    "print(s,total)"
   ]
  },
  {
   "cell_type": "code",
   "execution_count": null,
   "id": "80886eba",
   "metadata": {},
   "outputs": [],
   "source": [
    "def cal(p,t,r)"
   ]
  },
  {
   "cell_type": "code",
   "execution_count": null,
   "id": "00204650",
   "metadata": {},
   "outputs": [],
   "source": []
  }
 ],
 "metadata": {
  "kernelspec": {
   "display_name": "Python 3",
   "language": "python",
   "name": "python3"
  },
  "language_info": {
   "codemirror_mode": {
    "name": "ipython",
    "version": 3
   },
   "file_extension": ".py",
   "mimetype": "text/x-python",
   "name": "python",
   "nbconvert_exporter": "python",
   "pygments_lexer": "ipython3",
   "version": "3.8.8"
  }
 },
 "nbformat": 4,
 "nbformat_minor": 5
}
