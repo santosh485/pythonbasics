{
 "cells": [
  {
   "cell_type": "code",
   "execution_count": 2,
   "id": "a3e4ca3e",
   "metadata": {},
   "outputs": [],
   "source": [
    "# if <condition>:\n",
    "#     <operation>\n",
    "# elif <condition>:\n",
    "#     <operation>\n",
    "# #...\n",
    "# #...\n",
    "\n",
    "# else:\n",
    "#     <operation>"
   ]
  },
  {
   "cell_type": "code",
   "execution_count": 3,
   "id": "7fcf3d7f",
   "metadata": {},
   "outputs": [],
   "source": [
    "# < > <= >= == !=\n",
    "# and or not"
   ]
  },
  {
   "cell_type": "code",
   "execution_count": 8,
   "id": "892c756f",
   "metadata": {},
   "outputs": [
    {
     "name": "stdout",
     "output_type": "stream",
     "text": [
      "False\n",
      "<class 'bool'>\n"
     ]
    }
   ],
   "source": [
    "a = 10\n",
    "b = 5\n",
    "print(a<b)\n",
    "print(type(a<b))"
   ]
  },
  {
   "cell_type": "code",
   "execution_count": 5,
   "id": "8a31ac4e",
   "metadata": {},
   "outputs": [
    {
     "name": "stdout",
     "output_type": "stream",
     "text": [
      "Enter a=12\n",
      "Enter b=4\n",
      "a is greater\n"
     ]
    }
   ],
   "source": [
    "a = int(input(\"Enter a=\"))\n",
    "b = int(input(\"Enter b=\"))\n",
    "if a>b:\n",
    "    print(\"a is greater\")\n",
    "elif b>a:\n",
    "    print(\"b is greater\")\n",
    "else:\n",
    "    print(\"a and b both are equal\")"
   ]
  },
  {
   "cell_type": "code",
   "execution_count": 1,
   "id": "b8d5578a",
   "metadata": {},
   "outputs": [
    {
     "name": "stdout",
     "output_type": "stream",
     "text": [
      "Enter a = 12\n",
      "Enter b = 12\n",
      "a and b are aequal\n"
     ]
    }
   ],
   "source": [
    "a = input(\"Enter a = \")\n",
    "b = input(\"Enter b = \")\n",
    "if a>b:\n",
    "    print(\"a is greater\")\n",
    "elif b>a:\n",
    "    print(\"b is greater\")\n",
    "else:\n",
    "    print(\"a and b are aequal\")"
   ]
  },
  {
   "cell_type": "code",
   "execution_count": 6,
   "id": "4765a059",
   "metadata": {},
   "outputs": [
    {
     "name": "stdout",
     "output_type": "stream",
     "text": [
      "Enter a=12\n",
      "Enter b=4\n",
      "a is greater\n"
     ]
    }
   ],
   "source": [
    "a = int(input(\"Enter a=\"))\n",
    "b = int(input(\"Enter b=\"))\n",
    "if a>=b:\n",
    "    print(\"a is greater\")\n",
    "elif b>=a:\n",
    "    print(\"b is greater\")\n",
    "else:\n",
    "    print(\"a and b both are equal\")"
   ]
  },
  {
   "cell_type": "code",
   "execution_count": 3,
   "id": "bca10ce0",
   "metadata": {},
   "outputs": [
    {
     "name": "stdout",
     "output_type": "stream",
     "text": [
      "Enter a = 12\n",
      "Enter b = 13\n",
      "b is greater\n"
     ]
    }
   ],
   "source": [
    "a = input(\"Enter a = \")\n",
    "b = input(\"Enter b = \")\n",
    "if a>=b:\n",
    "    print(\"a is greater\")\n",
    "elif b>=a:\n",
    "    print(\"b is greater\")\n",
    "else:\n",
    "    print(\"a and b are aequal\")"
   ]
  },
  {
   "cell_type": "code",
   "execution_count": 7,
   "id": "f7d4bde9",
   "metadata": {},
   "outputs": [
    {
     "name": "stdout",
     "output_type": "stream",
     "text": [
      "Enter a=ram\n",
      "Enter b=shyam\n",
      "b is greater\n"
     ]
    }
   ],
   "source": [
    "a = input(\"Enter a=\")\n",
    "b = input(\"Enter b=\") #askey value string\n",
    "if a>b:\n",
    "    print(\"a is greater\")\n",
    "elif b>a:\n",
    "    print(\"b is greater\")\n",
    "else:\n",
    "    print(\"a and b both are equal\")"
   ]
  },
  {
   "cell_type": "code",
   "execution_count": 10,
   "id": "b653ff4a",
   "metadata": {},
   "outputs": [
    {
     "data": {
      "text/plain": [
       "True"
      ]
     },
     "execution_count": 10,
     "metadata": {},
     "output_type": "execute_result"
    }
   ],
   "source": [
    "a = 20\n",
    "b = 20\n",
    "a==b"
   ]
  },
  {
   "cell_type": "code",
   "execution_count": 11,
   "id": "15d4207b",
   "metadata": {},
   "outputs": [
    {
     "data": {
      "text/plain": [
       "True"
      ]
     },
     "execution_count": 11,
     "metadata": {},
     "output_type": "execute_result"
    }
   ],
   "source": [
    "a = 10\n",
    "b = 20\n",
    "a!=b"
   ]
  },
  {
   "cell_type": "code",
   "execution_count": 13,
   "id": "ccf2f917",
   "metadata": {},
   "outputs": [
    {
     "name": "stdout",
     "output_type": "stream",
     "text": [
      "Enter a = 5\n",
      "5 Is odd\n"
     ]
    }
   ],
   "source": [
    "a = int(input(\"Enter a = \"))\n",
    "if a%2==0:\n",
    "    print(a,\"Is even\")\n",
    "else:\n",
    "    print(a,\"Is odd\")"
   ]
  },
  {
   "cell_type": "code",
   "execution_count": 4,
   "id": "2746431e",
   "metadata": {},
   "outputs": [
    {
     "name": "stdout",
     "output_type": "stream",
     "text": [
      "Enter a = 5\n",
      "5 Is odd\n"
     ]
    }
   ],
   "source": [
    "a = int(input(\"Enter a = \"))\n",
    "if a%2==0:\n",
    "    print(a, \"Is even\")\n",
    "else:\n",
    "    print(a, \"Is odd\")"
   ]
  },
  {
   "cell_type": "code",
   "execution_count": 14,
   "id": "99b01556",
   "metadata": {},
   "outputs": [
    {
     "name": "stdout",
     "output_type": "stream",
     "text": [
      "Enter a = 10\n",
      "10 Is divisible by 5\n"
     ]
    }
   ],
   "source": [
    "a = int(input(\"Enter a = \"))\n",
    "if a%5==0:\n",
    "    print(a,\"Is divisible by 5\")\n",
    "else:\n",
    "    print(a,\"Is not divisible by 5\")"
   ]
  },
  {
   "cell_type": "code",
   "execution_count": 15,
   "id": "0c89a17a",
   "metadata": {},
   "outputs": [
    {
     "name": "stdout",
     "output_type": "stream",
     "text": [
      "Enter a = 10\n",
      "10 Is not divisible by 5\n"
     ]
    }
   ],
   "source": [
    "a = int(input(\"Enter a = \"))\n",
    "if a%5!=0:\n",
    "    print(a,\"Is divisible by 5\")\n",
    "else:\n",
    "    print(a,\"Is not divisible by 5\")"
   ]
  },
  {
   "cell_type": "code",
   "execution_count": 3,
   "id": "19c088db",
   "metadata": {},
   "outputs": [
    {
     "name": "stdout",
     "output_type": "stream",
     "text": [
      "Enter a = 12\n",
      "Enter b = 12\n",
      "Enter + - * / sf\n",
      "Invalid operator\n"
     ]
    }
   ],
   "source": [
    "a = int(input(\"Enter a = \"))\n",
    "b = int(input(\"Enter b = \"))\n",
    "o = input(\"Enter + - * / \")\n",
    "if o == \"+\":\n",
    "    print(a+b)\n",
    "elif o == \"-\":\n",
    "    print(a-b)\n",
    "elif o == \"*\":\n",
    "    print(a*b)\n",
    "elif o == \"/\":\n",
    "    if b !=0:\n",
    "        print(a/b)\n",
    "    else: print(\"b shold not be zero\")\n",
    "else:\n",
    "    print(\"Invalid operator\")"
   ]
  },
  {
   "cell_type": "code",
   "execution_count": 5,
   "id": "3d317b11",
   "metadata": {},
   "outputs": [
    {
     "name": "stdout",
     "output_type": "stream",
     "text": [
      "Enter a = 5\n",
      "Enter b = 0\n",
      "Enter + - / /\n",
      "b should not be zero\n"
     ]
    }
   ],
   "source": [
    "a = int(input(\"Enter a = \"))\n",
    "b = int(input(\"Enter b = \"))\n",
    "o = input(\"Enter + - / \")\n",
    "if o == \"+\":\n",
    "    print(a+b)\n",
    "elif o == \"/\":\n",
    "    if b !=0:\n",
    "        print(a/b)\n",
    "    else:\n",
    "        print(\"b should not be zero\")\n",
    "else:\n",
    "    print(\"Invalid\")"
   ]
  },
  {
   "cell_type": "code",
   "execution_count": 22,
   "id": "3e2dfca9",
   "metadata": {},
   "outputs": [],
   "source": [
    "# if <condition>: #two if or esle\n",
    "#     if <condition>:\n",
    "#         <operation>\n",
    "#     elif <condition>:\n",
    "#         <operation>\n",
    "# else:\n",
    "#     <operations>\n",
    "    "
   ]
  },
  {
   "cell_type": "code",
   "execution_count": 23,
   "id": "8abc5a4e",
   "metadata": {},
   "outputs": [],
   "source": [
    "a = 10\n",
    "b = 0\n",
    "o = '/'\n",
    "if o == '/':\n",
    "    if b != 0:\n",
    "        print(a/b)"
   ]
  },
  {
   "cell_type": "code",
   "execution_count": 25,
   "id": "d4a3cf60",
   "metadata": {},
   "outputs": [],
   "source": [
    "#and &\n",
    "#or |"
   ]
  },
  {
   "cell_type": "code",
   "execution_count": 28,
   "id": "7642eca8",
   "metadata": {},
   "outputs": [
    {
     "name": "stdout",
     "output_type": "stream",
     "text": [
      "Enter a=10\n",
      "Enter b=10\n",
      "Enter c=20\n",
      "c is greater\n"
     ]
    }
   ],
   "source": [
    "a = int(input(\"Enter a=\"))\n",
    "b = int(input(\"Enter b=\"))\n",
    "c = int(input(\"Enter c=\"))\n",
    "if a>b and a>c:\n",
    "    print(\"a is greater\")\n",
    "elif b>a and b>c:\n",
    "    print(\"b is greater\")\n",
    "elif c>a and c>a:\n",
    "    print(\"c is greater\")\n",
    "else:\n",
    "    print(\"a,b,c all are equal\")"
   ]
  },
  {
   "cell_type": "code",
   "execution_count": 30,
   "id": "d7b159ff",
   "metadata": {},
   "outputs": [
    {
     "name": "stdout",
     "output_type": "stream",
     "text": [
      "Enter a = 10\n",
      "Theis is required no\n"
     ]
    }
   ],
   "source": [
    "a = int(input(\"Enter a = \"))\n",
    "if (a%2==0) or (a%3==0):\n",
    "    print(\"Theis is required no\")\n",
    "else:\n",
    "    print(\"the no is invalid\")\n",
    "    "
   ]
  },
  {
   "cell_type": "code",
   "execution_count": null,
   "id": "c71d246c",
   "metadata": {},
   "outputs": [],
   "source": [
    "a = int(input(\"Enter a =  \"))\n",
    "if (a%2==0) or (a%3==0):\n",
    "    print()"
   ]
  },
  {
   "cell_type": "code",
   "execution_count": 3,
   "id": "23e8aaaf",
   "metadata": {},
   "outputs": [
    {
     "name": "stdout",
     "output_type": "stream",
     "text": [
      "2\n"
     ]
    }
   ],
   "source": [
    "print(b)"
   ]
  },
  {
   "cell_type": "code",
   "execution_count": null,
   "id": "8160c860",
   "metadata": {},
   "outputs": [],
   "source": []
  }
 ],
 "metadata": {
  "kernelspec": {
   "display_name": "Python 3",
   "language": "python",
   "name": "python3"
  },
  "language_info": {
   "codemirror_mode": {
    "name": "ipython",
    "version": 3
   },
   "file_extension": ".py",
   "mimetype": "text/x-python",
   "name": "python",
   "nbconvert_exporter": "python",
   "pygments_lexer": "ipython3",
   "version": "3.8.8"
  }
 },
 "nbformat": 4,
 "nbformat_minor": 5
}
