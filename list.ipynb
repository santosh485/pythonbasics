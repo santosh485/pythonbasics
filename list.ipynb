{
 "cells": [
  {
   "cell_type": "code",
   "execution_count": 1,
   "id": "14c8f280",
   "metadata": {},
   "outputs": [
    {
     "name": "stdout",
     "output_type": "stream",
     "text": [
      "<class 'list'>\n"
     ]
    }
   ],
   "source": [
    "a = [\"Apple\",\"Ball\"]\n",
    "print(type(a))"
   ]
  },
  {
   "cell_type": "code",
   "execution_count": 2,
   "id": "0ffe474e",
   "metadata": {},
   "outputs": [],
   "source": [
    "# Indexing\n",
    "# Order\n",
    "# Duplicate\n",
    "# Mutable"
   ]
  },
  {
   "cell_type": "code",
   "execution_count": 3,
   "id": "3d521206",
   "metadata": {},
   "outputs": [
    {
     "name": "stdout",
     "output_type": "stream",
     "text": [
      "8\n"
     ]
    }
   ],
   "source": [
    "a = [1,2,4,5,6,7,8,9] #Element\n",
    "print(len(a))"
   ]
  },
  {
   "cell_type": "code",
   "execution_count": 5,
   "id": "1e3fd1ea",
   "metadata": {},
   "outputs": [
    {
     "name": "stdout",
     "output_type": "stream",
     "text": [
      "['Apple', 'Cat', 'Ball', 'Dog']\n",
      "Apple\n"
     ]
    }
   ],
   "source": [
    "a = [\"Apple\",\"Cat\",\"Ball\",\"Dog\"] #Autoindex\n",
    "print(a)\n",
    "print(a[0])"
   ]
  },
  {
   "cell_type": "code",
   "execution_count": 6,
   "id": "3f5f13ae",
   "metadata": {},
   "outputs": [
    {
     "name": "stdout",
     "output_type": "stream",
     "text": [
      "['Apple', 'Cat', 'Ball', 'Dog']\n",
      "['Apple', 'Cat', 'Ball']\n"
     ]
    }
   ],
   "source": [
    "a = [\"Apple\",\"Cat\",\"Ball\",\"Dog\"] #Autoindex\n",
    "print(a)\n",
    "print(a[0:3])"
   ]
  },
  {
   "cell_type": "code",
   "execution_count": 1,
   "id": "bb8590f4",
   "metadata": {},
   "outputs": [
    {
     "name": "stdout",
     "output_type": "stream",
     "text": [
      "['Apple', 'Cat', 'Ball']\n"
     ]
    }
   ],
   "source": [
    "a = [\"Apple\",\"Cat\",\"Ball\",\"Dog\"]\n",
    "print(a[0:3])"
   ]
  },
  {
   "cell_type": "code",
   "execution_count": 7,
   "id": "69773656",
   "metadata": {},
   "outputs": [
    {
     "name": "stdout",
     "output_type": "stream",
     "text": [
      "['Apple', 'Cat', 'Ball', 'Dog']\n",
      "['Apple', 'Ball']\n"
     ]
    }
   ],
   "source": [
    "a = [\"Apple\",\"Cat\",\"Ball\",\"Dog\"] #Autoindex\n",
    "print(a)\n",
    "print(a[0:5:2])"
   ]
  },
  {
   "cell_type": "code",
   "execution_count": 9,
   "id": "1515d971",
   "metadata": {},
   "outputs": [
    {
     "name": "stdout",
     "output_type": "stream",
     "text": [
      "['Apple', 'Cat', 'Ball', 'Dog', 'Ram']\n"
     ]
    }
   ],
   "source": [
    "a = [\"Apple\",\"Cat\",\"Ball\",\"Dog\"] #Autoindex\n",
    "b = [\"Ram\"]\n",
    "c = a+b\n",
    "print(c)"
   ]
  },
  {
   "cell_type": "code",
   "execution_count": 10,
   "id": "f5d1fae2",
   "metadata": {},
   "outputs": [
    {
     "name": "stdout",
     "output_type": "stream",
     "text": [
      "['Apple', 'Cat', 'Ball', 'Dog', 'Ram', 'Apple', 'Cat', 'Ball', 'Dog', 'Ram']\n"
     ]
    }
   ],
   "source": [
    "a = [\"Apple\",\"Cat\",\"Ball\",\"Dog\"] #Autoindex\n",
    "b = [\"Ram\"]\n",
    "c = a+b\n",
    "print(c*2)"
   ]
  },
  {
   "cell_type": "code",
   "execution_count": 3,
   "id": "baead64b",
   "metadata": {},
   "outputs": [
    {
     "name": "stdout",
     "output_type": "stream",
     "text": [
      "['Apple', 'Ram', 'Cat', 'Dog', 'Ball', 'Fish', 'Gai', 'Apple', 'Ram', 'Cat', 'Dog', 'Ball', 'Fish', 'Gai', 'Apple', 'Ram', 'Cat', 'Dog', 'Ball', 'Fish', 'Gai', 'Apple', 'Ram', 'Cat', 'Dog', 'Ball', 'Fish', 'Gai']\n"
     ]
    }
   ],
   "source": [
    "a = ['Apple','Ram','Cat','Dog','Ball','Fish']\n",
    "b = ['Gai']\n",
    "c = a+b\n",
    "print(c*4)"
   ]
  },
  {
   "cell_type": "code",
   "execution_count": 11,
   "id": "b4e5cc61",
   "metadata": {},
   "outputs": [
    {
     "name": "stdout",
     "output_type": "stream",
     "text": [
      "['Ant', 'Cat', 'Ball', 'Dog']\n"
     ]
    }
   ],
   "source": [
    "a = [\"Apple\",\"Cat\",\"Ball\",\"Dog\"] #Autoindex\n",
    "a[0] = 'Ant'\n",
    "print(a)"
   ]
  },
  {
   "cell_type": "code",
   "execution_count": 4,
   "id": "e7fafaea",
   "metadata": {},
   "outputs": [
    {
     "name": "stdout",
     "output_type": "stream",
     "text": [
      "['Gai', 'Ram', 'Cat', 'Dog', 'Ball', 'Fish']\n"
     ]
    }
   ],
   "source": [
    "a = ['Apple','Ram','Cat','Dog','Ball','Fish']\n",
    "a[0] = 'Gai'\n",
    "print(a)"
   ]
  },
  {
   "cell_type": "code",
   "execution_count": 13,
   "id": "12a54621",
   "metadata": {},
   "outputs": [
    {
     "name": "stdout",
     "output_type": "stream",
     "text": [
      "Enter n = 2\n",
      "Enter name = Ram\n",
      "Enter name = Shyam\n",
      "['Ram', 'Shyam']\n"
     ]
    }
   ],
   "source": [
    "l = list()\n",
    "n = int(input(\"Enter n = \"))\n",
    "for i in range(n):\n",
    "    name = input(\"Enter name = \")\n",
    "    l = l+[name]\n",
    "print(l)"
   ]
  },
  {
   "cell_type": "code",
   "execution_count": 5,
   "id": "3a94d554",
   "metadata": {},
   "outputs": [
    {
     "name": "stdout",
     "output_type": "stream",
     "text": [
      "Enter n = 2\n",
      "Enter name = ram\n",
      "Enter name = ram\n",
      "['ram', 'ram']\n"
     ]
    }
   ],
   "source": [
    "l = list()\n",
    "n = int(input(\"Enter n = \"))\n",
    "for i in range(n):\n",
    "    name = input(\"Enter name = \")\n",
    "    l = l+[name]\n",
    "print(l)"
   ]
  },
  {
   "cell_type": "code",
   "execution_count": 14,
   "id": "e6a08ad6",
   "metadata": {},
   "outputs": [
    {
     "name": "stdout",
     "output_type": "stream",
     "text": [
      "Apple\n",
      "Cat\n",
      "Ball\n",
      "Dog\n"
     ]
    }
   ],
   "source": [
    "a = [\"Apple\",\"Cat\",\"Ball\",\"Dog\"] #Autoindex\n",
    "for i in a:\n",
    "    print(i)"
   ]
  },
  {
   "cell_type": "code",
   "execution_count": 15,
   "id": "1d225863",
   "metadata": {},
   "outputs": [
    {
     "name": "stdout",
     "output_type": "stream",
     "text": [
      "Enter n = 5\n",
      "Enteer x = 25\n",
      "Enteer x = 25\n",
      "Enteer x = 525\n",
      "Enteer x = 525\n",
      "Enteer x = 5\n",
      "[25, 25, 525, 525, 5]\n"
     ]
    }
   ],
   "source": [
    "l = list()\n",
    "n = int(input(\"Enter n = \"))\n",
    "for i in range(n):\n",
    "    x = int(input(\"Enteer x = \"))\n",
    "    l = l+[x]\n",
    "print(l)"
   ]
  },
  {
   "cell_type": "code",
   "execution_count": 7,
   "id": "a262c5cd",
   "metadata": {},
   "outputs": [
    {
     "name": "stdout",
     "output_type": "stream",
     "text": [
      "Enter n = 5\n",
      "Enteer x = 2535\n",
      "Enteer x = 545\n",
      "Enteer x = 5426\n",
      "Enteer x = 5454\n",
      "Enteer x = 514\n",
      "[2535, 545, 5426, 5454, 514]\n",
      "the sume of no is =  14474\n",
      "The max value is =  5454\n",
      "the miinimium =  514\n",
      "min 1090.8\n"
     ]
    }
   ],
   "source": [
    "l = list()\n",
    "n = int(input(\"Enter n = \"))\n",
    "for i in range(n):\n",
    "    x = int(input(\"Enteer x = \"))\n",
    "    l = l+[x]\n",
    "print(l)\n",
    "print(\"the sume of no is = \",sum(l)) #better than loop\n",
    "print(\"The max value is = \",max(l))\n",
    "print(\"the miinimium = \",min(l))\n",
    "print(\"min\",max(l)/n)"
   ]
  },
  {
   "cell_type": "code",
   "execution_count": 9,
   "id": "eeed703f",
   "metadata": {},
   "outputs": [
    {
     "name": "stdout",
     "output_type": "stream",
     "text": [
      "[514, 545, 2535, 5426, 5454]\n"
     ]
    }
   ],
   "source": [
    "l.sort()\n",
    "print(l)"
   ]
  },
  {
   "cell_type": "code",
   "execution_count": null,
   "id": "3a427f4a",
   "metadata": {},
   "outputs": [],
   "source": []
  },
  {
   "cell_type": "code",
   "execution_count": 20,
   "id": "3d67c1d3",
   "metadata": {},
   "outputs": [
    {
     "name": "stdout",
     "output_type": "stream",
     "text": [
      "[5, 25, 25, 525, 525]\n"
     ]
    }
   ],
   "source": [
    "l.sort() #l. not required print\n",
    "print(l)"
   ]
  },
  {
   "cell_type": "code",
   "execution_count": 21,
   "id": "23985f22",
   "metadata": {},
   "outputs": [
    {
     "data": {
      "text/plain": [
       "[5, 25, 25, 525, 525]"
      ]
     },
     "execution_count": 21,
     "metadata": {},
     "output_type": "execute_result"
    }
   ],
   "source": [
    "sorted(l)"
   ]
  },
  {
   "cell_type": "code",
   "execution_count": 26,
   "id": "9e08db3f",
   "metadata": {},
   "outputs": [
    {
     "name": "stdout",
     "output_type": "stream",
     "text": [
      "Enter n = 5\n",
      "Enteer x = ra4\n",
      "Enteer x = ram\n",
      "Enteer x = wre\n",
      "Enteer x = re\n",
      "Enteer x = rwh\n",
      "['ra4', 'ram', 'wre', 're', 'rwh']\n"
     ]
    }
   ],
   "source": [
    "l = list()\n",
    "n = int(input(\"Enter n = \"))\n",
    "for i in range(n):\n",
    "    x = input(\"Enteer x = \")\n",
    "    l = l+[x]\n",
    "print(l)"
   ]
  },
  {
   "cell_type": "code",
   "execution_count": 27,
   "id": "966dab77",
   "metadata": {},
   "outputs": [
    {
     "name": "stdout",
     "output_type": "stream",
     "text": [
      "['ra4', 'ram', 're', 'rwh', 'wre']\n"
     ]
    }
   ],
   "source": [
    "l.sort()\n",
    "print(l)"
   ]
  },
  {
   "cell_type": "code",
   "execution_count": 28,
   "id": "bad5efa3",
   "metadata": {},
   "outputs": [
    {
     "name": "stdout",
     "output_type": "stream",
     "text": [
      "yes\n",
      "1\n"
     ]
    }
   ],
   "source": [
    "a = [\"Apple\",\"Ball\",\"Cat\",\"Dog\"]\n",
    "if \"Apple\" in a:\n",
    "    print(\"yes\")\n",
    "    print(a.count(\"Apple\"))"
   ]
  },
  {
   "cell_type": "code",
   "execution_count": 36,
   "id": "3c15e6b3",
   "metadata": {},
   "outputs": [
    {
     "name": "stdout",
     "output_type": "stream",
     "text": [
      "Apple\n",
      "Cat\n",
      "Dog\n"
     ]
    }
   ],
   "source": [
    "a = [\"Apple\",\"Ball\",\"Cat\",\"Dog\"]\n",
    "for i in a:\n",
    "    if i ==\"Ball\":\n",
    "        continue\n",
    "    print(i)"
   ]
  },
  {
   "cell_type": "code",
   "execution_count": 39,
   "id": "e0d6c963",
   "metadata": {},
   "outputs": [
    {
     "name": "stdout",
     "output_type": "stream",
     "text": [
      "['Apple', 'Ball', 'Cat', 'Dog', 'Fish']\n"
     ]
    }
   ],
   "source": [
    "#append(add to last) insert()\n",
    "a = [\"Apple\",\"Ball\",\"Cat\",\"Dog\"]\n",
    "b = \"Fish\"\n",
    "a.append(b)\n",
    "print(a)"
   ]
  },
  {
   "cell_type": "code",
   "execution_count": 40,
   "id": "938046c2",
   "metadata": {},
   "outputs": [
    {
     "name": "stdout",
     "output_type": "stream",
     "text": [
      "['Apple', 'Ball', 'Fish', 'Cat', 'Dog']\n"
     ]
    }
   ],
   "source": [
    "#append(add to last) insert()\n",
    "a = [\"Apple\",\"Ball\",\"Cat\",\"Dog\"]\n",
    "\n",
    "a.insert(2,\"Fish\")\n",
    "print(a)"
   ]
  },
  {
   "cell_type": "code",
   "execution_count": 41,
   "id": "f036489e",
   "metadata": {},
   "outputs": [
    {
     "name": "stdout",
     "output_type": "stream",
     "text": [
      "Enter n = 2\n",
      "Enteer x = Ram\n",
      "Enteer x = Shyam\n",
      "['Ram', 'Shyam']\n"
     ]
    }
   ],
   "source": [
    "l = list()\n",
    "n = int(input(\"Enter n = \"))\n",
    "for i in range(n):\n",
    "    x = input(\"Enteer x = \")\n",
    "    l.append(x)\n",
    "print(l)"
   ]
  },
  {
   "cell_type": "code",
   "execution_count": 43,
   "id": "dcf139fe",
   "metadata": {},
   "outputs": [
    {
     "name": "stdout",
     "output_type": "stream",
     "text": [
      "['Ball', 'Dog']\n"
     ]
    }
   ],
   "source": [
    "# del remove() pop()\n",
    "a = [\"Apple\",\"Ball\",\"Cat\",\"Dog\"]\n",
    "del a[0::2]\n",
    "print(a)"
   ]
  },
  {
   "cell_type": "code",
   "execution_count": 44,
   "id": "951e7a32",
   "metadata": {},
   "outputs": [
    {
     "name": "stdout",
     "output_type": "stream",
     "text": [
      "['Apple', 'Cat', 'Dog']\n"
     ]
    }
   ],
   "source": [
    "# remove() \n",
    "a = [\"Apple\",\"Ball\",\"Cat\",\"Dog\"]\n",
    "a.remove(\"Ball\")\n",
    "print(a)"
   ]
  },
  {
   "cell_type": "code",
   "execution_count": 45,
   "id": "ea1b9e8a",
   "metadata": {},
   "outputs": [
    {
     "name": "stdout",
     "output_type": "stream",
     "text": [
      "['Apple', 'Ball', 'Cat', 'Dog']\n"
     ]
    }
   ],
   "source": [
    "# remove() \n",
    "a = [\"Apple\",\"Ball\",\"Ball\",\"Cat\",\"Dog\"]\n",
    "a.remove(\"Ball\")\n",
    "print(a)"
   ]
  },
  {
   "cell_type": "code",
   "execution_count": 46,
   "id": "8d064562",
   "metadata": {},
   "outputs": [
    {
     "name": "stdout",
     "output_type": "stream",
     "text": [
      "['Apple', 'Cat', 'Dog']\n"
     ]
    }
   ],
   "source": [
    "# remove() \n",
    "a = [\"Apple\",\"Ball\",\"Ball\",\"Cat\",\"Dog\"]\n",
    "n = a.count(\"Ball\")\n",
    "for i in range(n):\n",
    "    a.remove(\"Ball\")\n",
    "print(a)"
   ]
  },
  {
   "cell_type": "code",
   "execution_count": 48,
   "id": "1f1526f9",
   "metadata": {
    "scrolled": true
   },
   "outputs": [
    {
     "name": "stdout",
     "output_type": "stream",
     "text": [
      "Apple\n",
      "Ball\n",
      "Ball\n",
      "Cat\n",
      "Dog\n"
     ]
    }
   ],
   "source": [
    "# remove() \n",
    "a = [\"Apple\",\"Ball\",\"Ball\",\"Cat\",\"Dog\"]\n",
    "n = len(a)\n",
    "for i in range(n):\n",
    "    print(a[i])"
   ]
  },
  {
   "cell_type": "code",
   "execution_count": 50,
   "id": "023dbb93",
   "metadata": {},
   "outputs": [
    {
     "name": "stdout",
     "output_type": "stream",
     "text": [
      "['Apple', 'ball', 'Ball', 'Cat', 'Dog']\n"
     ]
    }
   ],
   "source": [
    "# remove() \n",
    "a = [\"Apple\",\"Ball\",\"Ball\",\"Cat\",\"Dog\"]\n",
    "n = a.count(\"Ball\")\n",
    "for i in range(n):\n",
    "    if a[i] == \"Ball\":\n",
    "        a[i] = \"ball\"\n",
    "        \n",
    "print(a)"
   ]
  },
  {
   "cell_type": "code",
   "execution_count": 51,
   "id": "27b02577",
   "metadata": {},
   "outputs": [
    {
     "name": "stdout",
     "output_type": "stream",
     "text": [
      "1\n",
      "2\n"
     ]
    }
   ],
   "source": [
    "# remove() \n",
    "a = [\"Apple\",\"Ball\",\"Ball\",\"Cat\",\"Dog\"]\n",
    "for i in range(len(a)):\n",
    "    if a[i] == \"Ball\":\n",
    "        print(i)"
   ]
  },
  {
   "cell_type": "code",
   "execution_count": 10,
   "id": "2a63e5b1",
   "metadata": {},
   "outputs": [
    {
     "name": "stdout",
     "output_type": "stream",
     "text": [
      "1\n",
      "2\n"
     ]
    }
   ],
   "source": [
    "# remove() \n",
    "a = [\"Apple\",\"Ball\",\"Ball\",\"Cat\",\"Dog\"]\n",
    "for i in range(len(a)):\n",
    "    if a[i] == \"Ball\":\n",
    "        print(i)"
   ]
  },
  {
   "cell_type": "code",
   "execution_count": null,
   "id": "f356343b",
   "metadata": {},
   "outputs": [],
   "source": [
    "# remove() \n",
    "a = [\"Apple\",\"Ball\",\"Ball\",\"Cat\",\"Dog\"]\n",
    "for i in range(len(a)):\n",
    "    if a[i] == \"Ball\":\n",
    "        print(i)"
   ]
  },
  {
   "cell_type": "code",
   "execution_count": 52,
   "id": "cd59b329",
   "metadata": {},
   "outputs": [
    {
     "name": "stdout",
     "output_type": "stream",
     "text": [
      "['Apple', 'Ball', 'ball', 'Cat', 'Dog']\n"
     ]
    }
   ],
   "source": [
    "# remove() \n",
    "a = [\"Apple\",\"Ball\",\"Ball\",\"Cat\",\"Dog\"]\n",
    "a[2] = \"ball\"\n",
    "print(a)"
   ]
  },
  {
   "cell_type": "code",
   "execution_count": 54,
   "id": "b50fb409",
   "metadata": {},
   "outputs": [
    {
     "data": {
      "text/plain": [
       "1"
      ]
     },
     "execution_count": 54,
     "metadata": {},
     "output_type": "execute_result"
    }
   ],
   "source": [
    "# remove() \n",
    "a = [\"Apple\",\"Ball\",\"Ball\",\"Cat\",\"Dog\"]\n",
    "a.index(\"Ball\")"
   ]
  },
  {
   "cell_type": "code",
   "execution_count": 55,
   "id": "27cfe661",
   "metadata": {},
   "outputs": [
    {
     "name": "stdout",
     "output_type": "stream",
     "text": [
      "['Apple', 'Ball', 'Ball', 'Cat']\n"
     ]
    }
   ],
   "source": [
    "# remove() \n",
    "a = [\"Apple\",\"Ball\",\"Ball\",\"Cat\",\"Dog\"]\n",
    "a.pop()\n",
    "print(a)"
   ]
  },
  {
   "cell_type": "code",
   "execution_count": 56,
   "id": "4048c38a",
   "metadata": {},
   "outputs": [
    {
     "name": "stdout",
     "output_type": "stream",
     "text": [
      "['Apple', 'Ball', 'Cat', 'Dog']\n"
     ]
    }
   ],
   "source": [
    "# remove() \n",
    "a = [\"Apple\",\"Ball\",\"Ball\",\"Cat\",\"Dog\"]\n",
    "a.pop(2)\n",
    "print(a)"
   ]
  },
  {
   "cell_type": "code",
   "execution_count": 57,
   "id": "c248199a",
   "metadata": {},
   "outputs": [
    {
     "name": "stdout",
     "output_type": "stream",
     "text": [
      "['Apple', 'Ball', 'Cat', 'Dog']\n",
      "Ball\n"
     ]
    }
   ],
   "source": [
    "# remove() \n",
    "a = [\"\"Apple\",\"Ball\",\"Ball\",\"Cat\",\"Dog]\n",
    "b = a.pop(2)\n",
    "print(a)\n",
    "print(b)"
   ]
  },
  {
   "cell_type": "code",
   "execution_count": 1,
   "id": "f3a29f0e",
   "metadata": {},
   "outputs": [
    {
     "name": "stdout",
     "output_type": "stream",
     "text": [
      "<class 'list'>\n",
      "3\n"
     ]
    }
   ],
   "source": [
    "#List inside list for multidimensional value\n",
    "a = [[],[],[]]\n",
    "print(type(a))\n",
    "print(len(a))"
   ]
  },
  {
   "cell_type": "code",
   "execution_count": 2,
   "id": "b3043fa0",
   "metadata": {},
   "outputs": [
    {
     "name": "stdout",
     "output_type": "stream",
     "text": [
      "[[1, 3, 4], [4, 5, 6], [5, 6, 7]]\n"
     ]
    }
   ],
   "source": [
    "a = [[1,3,4],[4,5,6],[5,6,7]]\n",
    "print(a)"
   ]
  },
  {
   "cell_type": "code",
   "execution_count": 3,
   "id": "2aa8f1cc",
   "metadata": {},
   "outputs": [
    {
     "name": "stdout",
     "output_type": "stream",
     "text": [
      "[5, 6, 7]\n"
     ]
    }
   ],
   "source": [
    "print(a[2])"
   ]
  },
  {
   "cell_type": "code",
   "execution_count": 4,
   "id": "1d7d79b1",
   "metadata": {},
   "outputs": [
    {
     "name": "stdout",
     "output_type": "stream",
     "text": [
      "1\n"
     ]
    }
   ],
   "source": [
    "print(a[0][0])"
   ]
  },
  {
   "cell_type": "code",
   "execution_count": 5,
   "id": "8d5edbe0",
   "metadata": {},
   "outputs": [
    {
     "name": "stdout",
     "output_type": "stream",
     "text": [
      "[[1, 3, 4], [4, 5, 6], [5, 6, 7]]\n"
     ]
    }
   ],
   "source": [
    "a = [[1,3,4],\n",
    "     [4,5,6],\n",
    "     [5,6,7]]\n",
    "print(a)"
   ]
  },
  {
   "cell_type": "code",
   "execution_count": 6,
   "id": "09b54f34",
   "metadata": {},
   "outputs": [
    {
     "name": "stdout",
     "output_type": "stream",
     "text": [
      "Enter n = 2\n",
      "Enter name = ram\n",
      "Enter ntc number = 356\n",
      "Enter ncell no = 6524\n",
      "Enter name = shyam\n",
      "Enter ntc number = 254\n",
      "Enter ncell no = 2535\n",
      "[['ram', 356, 6524], ['shyam', 254, 2535]]\n"
     ]
    }
   ],
   "source": [
    "data = []\n",
    "n = int(input(\"Enter n = \"))\n",
    "for i in range(n):\n",
    "    name = input(\"Enter name = \")\n",
    "    ntc = int(input(\"Enter ntc number = \"))\n",
    "    ncell = int(input(\"Enter ncell no = \"))\n",
    "    info = [name,ntc,ncell]\n",
    "    data.append(info)\n",
    "    \n",
    "print(data)"
   ]
  },
  {
   "cell_type": "code",
   "execution_count": 7,
   "id": "e954e938",
   "metadata": {},
   "outputs": [
    {
     "name": "stdout",
     "output_type": "stream",
     "text": [
      "['ram', 356, 6524]\n",
      "['shyam', 254, 2535]\n"
     ]
    }
   ],
   "source": [
    "for i in data: #read\n",
    "    print(i)"
   ]
  },
  {
   "cell_type": "code",
   "execution_count": 9,
   "id": "606428eb",
   "metadata": {},
   "outputs": [
    {
     "data": {
      "text/plain": [
       "[['ram', 9860620772, 6524], ['shyam', 254, 2535]]"
      ]
     },
     "execution_count": 9,
     "metadata": {},
     "output_type": "execute_result"
    }
   ],
   "source": [
    "a = [['ram', 356, 6524], ['shyam', 254, 2535]]\n",
    "a[0][1] = 9860620772\n",
    "a"
   ]
  },
  {
   "cell_type": "code",
   "execution_count": 11,
   "id": "2f3088d1",
   "metadata": {},
   "outputs": [
    {
     "data": {
      "text/plain": [
       "[['ram', 356, 6524, 60620772], ['shyam', 254, 2535]]"
      ]
     },
     "execution_count": 11,
     "metadata": {},
     "output_type": "execute_result"
    }
   ],
   "source": [
    "a = [['ram', 356, 6524], ['shyam', 254, 2535]]\n",
    "a[0].append(60620772)\n",
    "a"
   ]
  },
  {
   "cell_type": "code",
   "execution_count": 13,
   "id": "11dd42ea",
   "metadata": {},
   "outputs": [
    {
     "name": "stdout",
     "output_type": "stream",
     "text": [
      "['ram', 356, 6524]\n"
     ]
    }
   ],
   "source": [
    "a = [['ram', 356, 6524], ['shyam', 254, 2535]]\n",
    "for i in a:\n",
    "    if \"ram\" in i:\n",
    "        print(i)"
   ]
  },
  {
   "cell_type": "code",
   "execution_count": 14,
   "id": "a7499dd1",
   "metadata": {},
   "outputs": [
    {
     "name": "stdout",
     "output_type": "stream",
     "text": [
      "Enter name = shyam\n",
      "['shyam', 254, 2535]\n"
     ]
    }
   ],
   "source": [
    "a = [['ram', 356, 6524], ['shyam', 254, 2535]]\n",
    "name = input(\"Enter name = \")\n",
    "for i in a:\n",
    "    if name in i:\n",
    "        print(i)"
   ]
  },
  {
   "cell_type": "code",
   "execution_count": 17,
   "id": "d0636964",
   "metadata": {},
   "outputs": [
    {
     "name": "stdout",
     "output_type": "stream",
     "text": [
      "Enter n = 2\n",
      "Enter name = ram\n",
      "Enter marks25\n",
      "Enter marks25\n",
      "Enter marks25\n",
      "Enter marks36\n",
      "Enter name = hari\n",
      "Enter marks36\n",
      "Enter marks25\n",
      "Enter marks253\n",
      "Enter marks25\n",
      "[['ram', 25, 25, 25, 36, 111, 27.75], ['hari', 36, 25, 253, 25, 339, 84.75]]\n"
     ]
    }
   ],
   "source": [
    "result = []\n",
    "n = int(input(\"Enter n = \"))\n",
    "for i in range(1,n+1):\n",
    "    name = input(\"Enter name = \")\n",
    "    physics = int(input(\"Enter marks\"))\n",
    "    chemistry = int(input(\"Enter marks\"))\n",
    "    math = int(input(\"Enter marks\"))\n",
    "    english = int(input(\"Enter marks\"))\n",
    "    total = sum([physics,chemistry,math,english])\n",
    "    per = total/4\n",
    "    marks = [name,physics,chemistry,math,english,total,per]\n",
    "    result.append(marks)\n",
    "print(result)"
   ]
  },
  {
   "cell_type": "code",
   "execution_count": null,
   "id": "b915dc17",
   "metadata": {},
   "outputs": [],
   "source": [
    "result = []\n",
    "n= int(input)\n",
    "for i in range(1,n+1):\n",
    "    name = input()\n",
    "    phys"
   ]
  },
  {
   "cell_type": "code",
   "execution_count": 18,
   "id": "6f9aacf9",
   "metadata": {},
   "outputs": [
    {
     "data": {
      "text/plain": [
       "[[3, 4], [4, 5, 6], [5, 6, 7]]"
      ]
     },
     "execution_count": 18,
     "metadata": {},
     "output_type": "execute_result"
    }
   ],
   "source": [
    "a = [[1,3,4],[4,5,6],[5,6,7]]\n",
    "del a[0][0]\n",
    "a"
   ]
  },
  {
   "cell_type": "code",
   "execution_count": 19,
   "id": "36a1ea8e",
   "metadata": {},
   "outputs": [
    {
     "name": "stdout",
     "output_type": "stream",
     "text": [
      "Enter name = ram\n",
      "[['shyam', 254, 2535]]\n"
     ]
    }
   ],
   "source": [
    "a = [['ram', 356, 6524], ['shyam', 254, 2535]]\n",
    "name = input(\"Enter name = \")\n",
    "for i in a:\n",
    "    if name in i:\n",
    "        a.remove(i)\n",
    "        \n",
    "print(a)"
   ]
  },
  {
   "cell_type": "code",
   "execution_count": 10,
   "id": "17590684",
   "metadata": {},
   "outputs": [
    {
     "name": "stdout",
     "output_type": "stream",
     "text": [
      "Enter name = slf\n",
      "[['ram', 'sfsf', 'fslfs'], ['slfsls', 'slfsjlsf', 9999]]\n",
      "[['ram', 'sfsf', 'fslfs'], ['slfsls', 'slfsjlsf', 9999]]\n"
     ]
    }
   ],
   "source": [
    "a = [['ram','sfsf','fslfs'],['slfsls','slfsjlsf',9999]]\n",
    "name = input(\"Enter name = \")\n",
    "for i in a:\n",
    "    if name in i:\n",
    "        a.remove in(i)\n",
    "    print(a)"
   ]
  },
  {
   "cell_type": "code",
   "execution_count": 20,
   "id": "947074bc",
   "metadata": {},
   "outputs": [
    {
     "name": "stdout",
     "output_type": "stream",
     "text": [
      "Enter row = 3\n",
      "Enter col = 3\n",
      "Enter the value o f x= 1\n",
      "Enter the value o f x= 2\n",
      "Enter the value o f x= 3\n",
      "Enter the value o f x= 4\n",
      "Enter the value o f x= 2\n",
      "Enter the value o f x= 5\n",
      "Enter the value o f x= 5\n",
      "Enter the value o f x= 5\n",
      "Enter the value o f x= 6\n"
     ]
    }
   ],
   "source": [
    "data = []\n",
    "r = int(input(\"Enter row = \"))\n",
    "c = int(input(\"Enter col = \"))\n",
    "for i in range(r):\n",
    "    z = []\n",
    "    for j in range(c):\n",
    "        x = int(input(\"Enter the value o f x= \"))\n",
    "        z.append(x)\n",
    "    data.append(z)"
   ]
  },
  {
   "cell_type": "code",
   "execution_count": 6,
   "id": "aa18618a",
   "metadata": {},
   "outputs": [
    {
     "name": "stdout",
     "output_type": "stream",
     "text": [
      "Enter row = 2\n",
      "enter column = 2\n",
      "enter the value of x = 1\n",
      "enter the value of x = 2\n",
      "enter the value of x = 2\n",
      "enter the value of x = 3\n"
     ]
    }
   ],
   "source": [
    "data = []\n",
    "r = int(input(\"Enter row = \"))\n",
    "c = int(input(\"enter column = \"))\n",
    "for i in range(r):\n",
    "    z = []\n",
    "    for j in range(c):\n",
    "        x = int(input(\"enter the value of x = \"))\n",
    "        z.append(x)\n",
    "        data.append(z)"
   ]
  },
  {
   "cell_type": "code",
   "execution_count": 7,
   "id": "9b205807",
   "metadata": {},
   "outputs": [
    {
     "data": {
      "text/plain": [
       "[[1, 2], [1, 2], [2, 3], [2, 3]]"
      ]
     },
     "execution_count": 7,
     "metadata": {},
     "output_type": "execute_result"
    }
   ],
   "source": [
    "data"
   ]
  },
  {
   "cell_type": "code",
   "execution_count": null,
   "id": "e5083deb",
   "metadata": {},
   "outputs": [],
   "source": []
  },
  {
   "cell_type": "code",
   "execution_count": 21,
   "id": "b5127562",
   "metadata": {},
   "outputs": [
    {
     "data": {
      "text/plain": [
       "[[1, 2, 3], [4, 2, 5], [5, 5, 6]]"
      ]
     },
     "execution_count": 21,
     "metadata": {},
     "output_type": "execute_result"
    }
   ],
   "source": [
    "data"
   ]
  },
  {
   "cell_type": "code",
   "execution_count": 22,
   "id": "33f705b0",
   "metadata": {},
   "outputs": [
    {
     "name": "stdout",
     "output_type": "stream",
     "text": [
      "Enter row = 3\n",
      "Enter col = 1\n",
      "Enter the value o f x= 2\n",
      "Enter the value o f x= 3\n",
      "Enter the value o f x= 6\n"
     ]
    }
   ],
   "source": [
    "data = []\n",
    "r = int(input(\"Enter row = \"))\n",
    "c = int(input(\"Enter col = \"))\n",
    "for i in range(r):\n",
    "    z = []\n",
    "    for j in range(c):\n",
    "        x = int(input(\"Enter the value o f x= \"))\n",
    "        z.append(x)\n",
    "    data.append(z)"
   ]
  },
  {
   "cell_type": "code",
   "execution_count": 23,
   "id": "37d28056",
   "metadata": {},
   "outputs": [
    {
     "data": {
      "text/plain": [
       "[[2], [3], [6]]"
      ]
     },
     "execution_count": 23,
     "metadata": {},
     "output_type": "execute_result"
    }
   ],
   "source": [
    "data"
   ]
  },
  {
   "cell_type": "code",
   "execution_count": 24,
   "id": "dcbb7b94",
   "metadata": {},
   "outputs": [
    {
     "name": "stdout",
     "output_type": "stream",
     "text": [
      "[[1, 2, 3], [4, 5, 6], [1, 2, 4]]\n"
     ]
    }
   ],
   "source": [
    "a = [[1,2,3],[4,5,6]]\n",
    "b = [[1,2,4]]\n",
    "print(a+b)"
   ]
  },
  {
   "cell_type": "code",
   "execution_count": 26,
   "id": "bf1d6769",
   "metadata": {},
   "outputs": [
    {
     "name": "stdout",
     "output_type": "stream",
     "text": [
      "Enter n = 2\n",
      "Enter name = df2\n",
      "Enter price = 254\n",
      "Enter quantity = 52\n",
      "Enter name = sf\n",
      "Enter price = 25\n",
      "Enter quantity = 25\n",
      "['sf', 25, 25, 625]\n",
      "625\n"
     ]
    }
   ],
   "source": [
    "bill = []\n",
    "total = 0\n",
    "n = int(input(\"Enter n = \"))\n",
    "for i in range(n):\n",
    "    name = input(\"Enter name = \")\n",
    "    price = int(input(\"Enter price = \")) #toral\n",
    "    quantity = int(input(\"Enter quantity = \"))\n",
    "    total = quantity*price\n",
    "    s = [name,price,quantity,total]\n",
    "    bill.append(s)\n",
    "        \n",
    "print(s)\n",
    "print(total)"
   ]
  },
  {
   "cell_type": "code",
   "execution_count": 2,
   "id": "c9f47a47",
   "metadata": {},
   "outputs": [
    {
     "name": "stdout",
     "output_type": "stream",
     "text": [
      "Enter n = 2\n",
      "Enter name =ram\n",
      "ente price =25\n",
      "Enter quantity = 25\n",
      "Enter name =cocacola\n",
      "ente price =25\n",
      "Enter quantity = 25\n",
      "['cocacola', 25, 25, 625]\n",
      "625\n"
     ]
    }
   ],
   "source": [
    "bill = []\n",
    "total = 0\n",
    "n = int(input(\"Enter n = \"))\n",
    "for i in range(n):\n",
    "    name = input(\"Enter name =\")\n",
    "    price = int(input(\"ente price =\"))\n",
    "    quantity = int(input(\"Enter quantity = \"))\n",
    "    total = quantity*price\n",
    "    s = [name,price,quantity,total]\n",
    "    bill.append(s)\n",
    "    \n",
    "print(s)\n",
    "print(total)"
   ]
  },
  {
   "cell_type": "code",
   "execution_count": 5,
   "id": "3a1d4912",
   "metadata": {},
   "outputs": [
    {
     "name": "stdout",
     "output_type": "stream",
     "text": [
      "[]\n"
     ]
    }
   ],
   "source": [
    "data = []\n",
    "print(data)"
   ]
  },
  {
   "cell_type": "code",
   "execution_count": null,
   "id": "47fe37da",
   "metadata": {},
   "outputs": [],
   "source": []
  }
 ],
 "metadata": {
  "kernelspec": {
   "display_name": "Python 3",
   "language": "python",
   "name": "python3"
  },
  "language_info": {
   "codemirror_mode": {
    "name": "ipython",
    "version": 3
   },
   "file_extension": ".py",
   "mimetype": "text/x-python",
   "name": "python",
   "nbconvert_exporter": "python",
   "pygments_lexer": "ipython3",
   "version": "3.8.8"
  }
 },
 "nbformat": 4,
 "nbformat_minor": 5
}
