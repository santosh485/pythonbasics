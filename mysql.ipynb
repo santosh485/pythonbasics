{
 "cells": [
  {
   "cell_type": "code",
   "execution_count": 4,
   "id": "ce5b749c",
   "metadata": {},
   "outputs": [],
   "source": [
    "import mysql.connector\n",
    "database = mysql.connector.connect(\n",
    "    host=\"localhost\",\n",
    "    user=\"root\",\n",
    "    password=\"\",\n",
    "    database = \"class6pm\"\n",
    ")\n",
    "db = database.cursor()"
   ]
  },
  {
   "cell_type": "code",
   "execution_count": 6,
   "id": "181e2025",
   "metadata": {},
   "outputs": [
    {
     "name": "stdout",
     "output_type": "stream",
     "text": [
      "(1, 'Acer Laptop', 60000, 50000, 'This is latest acer laptop', 5, datetime.datetime(2021, 6, 17, 18, 26, 53), 10)\n",
      "(2, 'Ipad', 100000, 80000, 'This is the latest ipad', 4, datetime.datetime(2021, 6, 17, 18, 29, 3), 10)\n",
      "(3, 'Samsung TV', 60000, 50000, 'This is the latest tv', 4, datetime.datetime(2021, 6, 17, 18, 30, 7), 10)\n"
     ]
    }
   ],
   "source": [
    "db.execute(\"SELECT * FROM products\") #data thanane\n",
    "result = db.fetchall()\n",
    "for x in result:\n",
    "    print(x)"
   ]
  },
  {
   "cell_type": "code",
   "execution_count": 9,
   "id": "d8d32372",
   "metadata": {},
   "outputs": [
    {
     "name": "stdout",
     "output_type": "stream",
     "text": [
      "('Acer Laptop', 60000, 5)\n",
      "('Ipad', 100000, 4)\n",
      "('Samsung TV', 60000, 4)\n"
     ]
    }
   ],
   "source": [
    "db.execute(\"SELECT name,cost_price,quantity FROM products\") #particular fetch\n",
    "result = db.fetchall()\n",
    "for x in result:\n",
    "    print(x)"
   ]
  },
  {
   "cell_type": "code",
   "execution_count": 11,
   "id": "0014e0d8",
   "metadata": {},
   "outputs": [
    {
     "name": "stdout",
     "output_type": "stream",
     "text": [
      "('Acer Laptop', 60000, 5)\n",
      "('Ipad', 100000, 4)\n",
      "('Samsung TV', 60000, 4)\n"
     ]
    }
   ],
   "source": [
    "db.execute(\"SELECT name,cost_price,quantity FROM products WHERE stock>5\")  \n",
    "result = db.fetchall()\n",
    "for x in result:\n",
    "    print(x)"
   ]
  },
  {
   "cell_type": "code",
   "execution_count": 14,
   "id": "31b803f3",
   "metadata": {},
   "outputs": [
    {
     "name": "stdout",
     "output_type": "stream",
     "text": [
      "('Acer Laptop', 60000, 5)\n"
     ]
    }
   ],
   "source": [
    "db.execute(\"SELECT name,cost_price,quantity FROM products WHERE description LIKE '%laptop%' \")  \n",
    "result = db.fetchall() #search\n",
    "for x in result:\n",
    "    print(x)"
   ]
  },
  {
   "cell_type": "code",
   "execution_count": 15,
   "id": "08ca2a9e",
   "metadata": {},
   "outputs": [
    {
     "name": "stdout",
     "output_type": "stream",
     "text": [
      "('Acer Laptop', 60000, 5)\n"
     ]
    }
   ],
   "source": [
    "db.execute(\"SELECT name,cost_price,quantity FROM products WHERE description LIKE '%laptop' \") #last tir key word xa  \n",
    "result = db.fetchall()\n",
    "for x in result:\n",
    "    print(x)"
   ]
  },
  {
   "cell_type": "code",
   "execution_count": 16,
   "id": "5fc7bcfc",
   "metadata": {},
   "outputs": [
    {
     "name": "stdout",
     "output_type": "stream",
     "text": [
      "('Acer Laptop', 60000, 5)\n",
      "('Ipad', 100000, 4)\n",
      "('Samsung TV', 60000, 4)\n"
     ]
    }
   ],
   "source": [
    "db.execute(\"SELECT name,cost_price,quantity FROM products WHERE description LIKE '%This%' \")  \n",
    "result = db.fetchall()\n",
    "for x in result:\n",
    "    print(x)"
   ]
  },
  {
   "cell_type": "code",
   "execution_count": 21,
   "id": "d815ae4d",
   "metadata": {},
   "outputs": [
    {
     "name": "stdout",
     "output_type": "stream",
     "text": [
      "INSERT INTO products(name,cost_price,sell_price,description,quantity,stock) VALUES('mouse',200,150,'This is gaming mouse',4,10)\n"
     ]
    }
   ],
   "source": [
    "name = \"mouse\"\n",
    "cost_price = 200\n",
    "sell_price = 150\n",
    "description = \"This is gaming mouse\" #add\n",
    "quantity = 4\n",
    "stock = 10\n",
    "\n",
    "sql = f\"INSERT INTO products(name,cost_price,sell_price,description,quantity,stock) VALUES('{name}',{cost_price},{sell_price},'{description}',{quantity},{stock})\"\n",
    "print(sql)\n",
    "db.execute(sql)\n",
    "database.commit()"
   ]
  },
  {
   "cell_type": "code",
   "execution_count": 23,
   "id": "a07f9900",
   "metadata": {},
   "outputs": [],
   "source": [
    "sql = \"DELETE FROM products WHERE id = 4 \"\n",
    "db.execute(sql)  #delete\n",
    "database.commit()"
   ]
  },
  {
   "cell_type": "code",
   "execution_count": 25,
   "id": "d6a6617a",
   "metadata": {},
   "outputs": [],
   "source": [
    "sql = \"UPDATE products SET stock = 45 WHERE id  = 3\"\n",
    "db.execute(sql)\n",
    "database.commit() #commit for change(delete, write update)"
   ]
  },
  {
   "cell_type": "code",
   "execution_count": null,
   "id": "d11b626a",
   "metadata": {},
   "outputs": [],
   "source": []
  }
 ],
 "metadata": {
  "kernelspec": {
   "display_name": "Python 3",
   "language": "python",
   "name": "python3"
  },
  "language_info": {
   "codemirror_mode": {
    "name": "ipython",
    "version": 3
   },
   "file_extension": ".py",
   "mimetype": "text/x-python",
   "name": "python",
   "nbconvert_exporter": "python",
   "pygments_lexer": "ipython3",
   "version": "3.8.8"
  }
 },
 "nbformat": 4,
 "nbformat_minor": 5
}
