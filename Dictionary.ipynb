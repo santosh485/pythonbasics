{
 "cells": [
  {
   "cell_type": "code",
   "execution_count": 2,
   "id": "422ccec9",
   "metadata": {},
   "outputs": [
    {
     "name": "stdout",
     "output_type": "stream",
     "text": [
      "<class 'dict'>\n"
     ]
    }
   ],
   "source": [
    "d = {}\n",
    "print(type(d))\n"
   ]
  },
  {
   "cell_type": "code",
   "execution_count": 4,
   "id": "99f25e7e",
   "metadata": {},
   "outputs": [],
   "source": [
    "# -Indexing\n",
    "# -Ordered\n",
    "# -Duplicate Values Only no key\n",
    "# -Mutable"
   ]
  },
  {
   "cell_type": "code",
   "execution_count": 5,
   "id": "517062d9",
   "metadata": {},
   "outputs": [],
   "source": [
    "# d = {<key>:<value>,<key>:<value>,...}"
   ]
  },
  {
   "cell_type": "code",
   "execution_count": 8,
   "id": "f30cc8ad",
   "metadata": {},
   "outputs": [
    {
     "name": "stdout",
     "output_type": "stream",
     "text": [
      "<class 'dict'>\n",
      "3\n",
      "<class 'dict'>\n"
     ]
    }
   ],
   "source": [
    "d = {\"a\":\"Apple\",\"b\":\"Ball\",\"c\":\"Cat\"} #called items or elements\n",
    "e = {1:\"Apple\",2:\"Ball\",3:\"cat\"}\n",
    "print(type(d))\n",
    "print(len(d))\n",
    "print(type(e))"
   ]
  },
  {
   "cell_type": "code",
   "execution_count": 9,
   "id": "bba40099",
   "metadata": {},
   "outputs": [
    {
     "name": "stdout",
     "output_type": "stream",
     "text": [
      "Apple\n"
     ]
    }
   ],
   "source": [
    "print(d[\"a\"])"
   ]
  },
  {
   "cell_type": "code",
   "execution_count": 10,
   "id": "519a60ee",
   "metadata": {},
   "outputs": [
    {
     "name": "stdout",
     "output_type": "stream",
     "text": [
      "<class 'dict'>\n",
      "3\n",
      "<class 'dict'>\n"
     ]
    }
   ],
   "source": [
    "d = {\"a\":\"Apple\",\"b\":\"Ball\",\"c\":\"Cat\"} #called items or elements\n",
    "e = {1:1,2:2,3:3}\n",
    "print(type(d))\n",
    "print(len(d))\n",
    "print(type(e))"
   ]
  },
  {
   "cell_type": "code",
   "execution_count": 11,
   "id": "1408f26e",
   "metadata": {},
   "outputs": [
    {
     "ename": "TypeError",
     "evalue": "unhashable type: 'slice'",
     "output_type": "error",
     "traceback": [
      "\u001b[1;31m---------------------------------------------------------------------------\u001b[0m",
      "\u001b[1;31mTypeError\u001b[0m                                 Traceback (most recent call last)",
      "\u001b[1;32m<ipython-input-11-c4ab864930e8>\u001b[0m in \u001b[0;36m<module>\u001b[1;34m\u001b[0m\n\u001b[1;32m----> 1\u001b[1;33m \u001b[0mprint\u001b[0m\u001b[1;33m(\u001b[0m\u001b[0md\u001b[0m\u001b[1;33m[\u001b[0m\u001b[1;36m1\u001b[0m\u001b[1;33m:\u001b[0m\u001b[1;36m3\u001b[0m\u001b[1;33m]\u001b[0m\u001b[1;33m)\u001b[0m\u001b[1;33m\u001b[0m\u001b[1;33m\u001b[0m\u001b[0m\n\u001b[0m",
      "\u001b[1;31mTypeError\u001b[0m: unhashable type: 'slice'"
     ]
    }
   ],
   "source": [
    "print(d[1:3]) #no slcing"
   ]
  },
  {
   "cell_type": "code",
   "execution_count": 12,
   "id": "12b0ccfe",
   "metadata": {},
   "outputs": [
    {
     "name": "stdout",
     "output_type": "stream",
     "text": [
      "{'a': 'Apple', 'b': 'Ball', 'c': 'Cat'}\n"
     ]
    }
   ],
   "source": [
    "d = {\"a\":\"Apple\",\"b\":\"Ball\",\"c\":\"Cat\"} #called items or elements\n",
    "print(d)"
   ]
  },
  {
   "cell_type": "code",
   "execution_count": 14,
   "id": "9c2ac59c",
   "metadata": {},
   "outputs": [
    {
     "name": "stdout",
     "output_type": "stream",
     "text": [
      "{'a': 'Apple', 'b': 'Ball', 'c': 'Cat', 1: 'Apple', 2: 'Ball', 3: 'cat'}\n"
     ]
    }
   ],
   "source": [
    "d = {\"a\":\"Apple\",\"b\":\"Ball\",\"c\":\"Cat\"} #called items or elements\n",
    "e = {1:\"Apple\",2:\"Ball\",3:\"cat\"}\n",
    "d.update(e) #concatination \n",
    "print(d)"
   ]
  },
  {
   "cell_type": "code",
   "execution_count": 17,
   "id": "e7bbe011",
   "metadata": {},
   "outputs": [
    {
     "data": {
      "text/plain": [
       "{'a': 'Apple', 'b': 'Ball', 'c': 'Cat', 'A': 'Apple'}"
      ]
     },
     "execution_count": 17,
     "metadata": {},
     "output_type": "execute_result"
    }
   ],
   "source": [
    "d = {\"a\":\"Apple\",\"b\":\"Ball\",\"c\":\"Cat\",\"a\":\"Apple\"} #called items or elements\n",
    "d\n",
    "d = {\"a\":\"Apple\",\"b\":\"Ball\",\"c\":\"Cat\",\"A\":\"Apple\"} #no duplicate key\n",
    "d\n"
   ]
  },
  {
   "cell_type": "code",
   "execution_count": 20,
   "id": "f6a5b3df",
   "metadata": {},
   "outputs": [
    {
     "data": {
      "text/plain": [
       "{'a': 'Ant', 'b': 'Ball'}"
      ]
     },
     "execution_count": 20,
     "metadata": {},
     "output_type": "execute_result"
    }
   ],
   "source": [
    "a = {}\n",
    "a['a'] = 'Apple'\n",
    "a['b'] = 'Ball' #application \n",
    "a['a'] = 'Ant'\n",
    "a"
   ]
  },
  {
   "cell_type": "code",
   "execution_count": 21,
   "id": "0ac3dba6",
   "metadata": {},
   "outputs": [
    {
     "name": "stdout",
     "output_type": "stream",
     "text": [
      "{1: 1, 2: 4, 3: 9, 4: 16, 5: 25}\n"
     ]
    }
   ],
   "source": [
    "d = {}\n",
    "for i in range(1,6): #application\n",
    "    d[i] = i**2\n",
    "    \n",
    "print(d)"
   ]
  },
  {
   "cell_type": "code",
   "execution_count": 23,
   "id": "5aca2fee",
   "metadata": {},
   "outputs": [
    {
     "name": "stdout",
     "output_type": "stream",
     "text": [
      "Enter n = 2\n",
      "Enter name Ram\n",
      "Enter phone = 26586\n",
      "Enter name Shyam\n",
      "Enter phone = 2535\n",
      "{'Ram': '26586', 'Shyam': '2535'}\n"
     ]
    }
   ],
   "source": [
    "d = {}\n",
    "n = int(input(\"Enter n = \"))\n",
    "for i in range(n):\n",
    "    name = input(\"Enter name \") #way to create dictionary\n",
    "    phone = input(\"Enter phone = \")\n",
    "    key = name\n",
    "    value = phone\n",
    "    d[key] = value\n",
    "print(d)"
   ]
  },
  {
   "cell_type": "code",
   "execution_count": 24,
   "id": "b2cbb9ce",
   "metadata": {},
   "outputs": [
    {
     "data": {
      "text/plain": [
       "{'Ram': '9856655452', 'Shyam': '2565532'}"
      ]
     },
     "execution_count": 24,
     "metadata": {},
     "output_type": "execute_result"
    }
   ],
   "source": [
    "d = [(\"Ram\", \"9856655452\"),(\"Shyam\", \"2565532\")]\n",
    "dict(d)"
   ]
  },
  {
   "cell_type": "code",
   "execution_count": 30,
   "id": "6f264f7d",
   "metadata": {},
   "outputs": [
    {
     "data": {
      "text/plain": [
       "{'a': 'Ant', 'b': 'Ball', 'GAVai': 998899}"
      ]
     },
     "execution_count": 30,
     "metadata": {},
     "output_type": "execute_result"
    }
   ],
   "source": [
    "d = [(\"Ram\", \"9856655452\"),(\"Shyam\", \"2565532\")]\n",
    "a[\"GAVai\"] = 998899\n",
    "a"
   ]
  },
  {
   "cell_type": "code",
   "execution_count": 31,
   "id": "453dcc15",
   "metadata": {},
   "outputs": [
    {
     "name": "stdout",
     "output_type": "stream",
     "text": [
      "a\n",
      "b\n",
      "GAVai\n"
     ]
    }
   ],
   "source": [
    "for i in a:\n",
    "    print(i)"
   ]
  },
  {
   "cell_type": "code",
   "execution_count": 33,
   "id": "9565afd0",
   "metadata": {},
   "outputs": [
    {
     "name": "stdout",
     "output_type": "stream",
     "text": [
      "Ant\n",
      "Ball\n",
      "998899\n"
     ]
    }
   ],
   "source": [
    "for i in a.values(): #values\n",
    "    print(i)"
   ]
  },
  {
   "cell_type": "code",
   "execution_count": 34,
   "id": "79d2efbd",
   "metadata": {},
   "outputs": [
    {
     "name": "stdout",
     "output_type": "stream",
     "text": [
      "('a', 'Ant')\n",
      "('b', 'Ball')\n",
      "('GAVai', 998899)\n"
     ]
    }
   ],
   "source": [
    "for i in a.items():\n",
    "    print(i)"
   ]
  },
  {
   "cell_type": "code",
   "execution_count": 35,
   "id": "57509bb1",
   "metadata": {},
   "outputs": [
    {
     "data": {
      "text/plain": [
       "dict_items([('a', 'Ant'), ('b', 'Ball'), ('GAVai', 998899)])"
      ]
     },
     "execution_count": 35,
     "metadata": {},
     "output_type": "execute_result"
    }
   ],
   "source": [
    "a.items()"
   ]
  },
  {
   "cell_type": "code",
   "execution_count": 36,
   "id": "e260d7be",
   "metadata": {},
   "outputs": [
    {
     "data": {
      "text/plain": [
       "dict_values(['Ant', 'Ball', 998899])"
      ]
     },
     "execution_count": 36,
     "metadata": {},
     "output_type": "execute_result"
    }
   ],
   "source": [
    "a.values()"
   ]
  },
  {
   "cell_type": "code",
   "execution_count": 37,
   "id": "8d6d21b0",
   "metadata": {},
   "outputs": [
    {
     "data": {
      "text/plain": [
       "{'Ram': '9856655452', 'Shyam': '2565532'}"
      ]
     },
     "execution_count": 37,
     "metadata": {},
     "output_type": "execute_result"
    }
   ],
   "source": [
    "a = {('Ram'): '9856655452', ('Shyam'): '2565532'} #only tuple inside not list\n",
    "a"
   ]
  },
  {
   "cell_type": "code",
   "execution_count": 38,
   "id": "533f67dc",
   "metadata": {},
   "outputs": [
    {
     "name": "stdout",
     "output_type": "stream",
     "text": [
      "Enter n = 2\n",
      "Enter name ram\n",
      "Enter phone = 25665\n",
      "Enter phone = 2356\n",
      "Enter name shyam\n",
      "Enter phone = 235\n",
      "Enter phone = 653\n",
      "{'ram': '25665 2356', 'shyam': '235 653'}\n"
     ]
    }
   ],
   "source": [
    "d = {}\n",
    "n = int(input(\"Enter n = \"))\n",
    "for i in range(n):\n",
    "    name = input(\"Enter name \") #way to create dictionary\n",
    "    ntc = input(\"Enter phone = \")\n",
    "    ncell = input(\"Enter phone = \") #way to multiple value\n",
    "    key = name\n",
    "    value = f\"{ntc} {ncell}\"\n",
    "    d[key] = value\n",
    "print(d)"
   ]
  },
  {
   "cell_type": "code",
   "execution_count": 40,
   "id": "7fa23014",
   "metadata": {},
   "outputs": [
    {
     "name": "stdout",
     "output_type": "stream",
     "text": [
      "Enter name = ram\n",
      "['25665', '2356']\n"
     ]
    }
   ],
   "source": [
    "name = input(\"Enter name = \")\n",
    "x = d[name]\n",
    "print(x.split())"
   ]
  },
  {
   "cell_type": "code",
   "execution_count": 41,
   "id": "d7a202f6",
   "metadata": {},
   "outputs": [
    {
     "data": {
      "text/plain": [
       "{'ram': ['25665 2356'], 'shyam': ['235 653']}"
      ]
     },
     "execution_count": 41,
     "metadata": {},
     "output_type": "execute_result"
    }
   ],
   "source": [
    "# a = {'ram': ['25665 2356'], 'shyam': ['235 653']} #list inside dict\n",
    "# a \n",
    "# #dict inside list (shortcut)\n",
    "# a = [{\"Name\":\"Ram\",\"Ntc\"}]\n",
    "# #tuple iside dict\n",
    "# {'ram': ('25665 2356'), 'shyam': ('235 653')}\n",
    "# #dict inside tuple\n",
    "# ('ram': {'25665 2356'}, 'shyam': ('235 653'})\n",
    "# #dict inside dict\n",
    "#  a = {'ram': {'25665 2356'}, 'shyam': {'235 653'}}"
   ]
  },
  {
   "cell_type": "code",
   "execution_count": 2,
   "id": "46e53255",
   "metadata": {},
   "outputs": [],
   "source": [
    "a = {'ram': ['25665 2356'], 'shyam': ['235 653']}\n"
   ]
  },
  {
   "cell_type": "code",
   "execution_count": 4,
   "id": "57ea18ca",
   "metadata": {},
   "outputs": [
    {
     "name": "stdout",
     "output_type": "stream",
     "text": [
      "Enter n = 2\n",
      "Enter name ram\n",
      "Enter phone = 25655\n",
      "Enter phone = 52658\n",
      "Enter name hari\n",
      "Enter phone = 2356\n",
      "Enter phone = 56585\n",
      "{'ram': [25655, 52658], 'hari': [2356, 56585]}\n"
     ]
    }
   ],
   "source": [
    "d = {}\n",
    "n = int(input(\"Enter n = \"))\n",
    "for i in range(n):\n",
    "    name = input(\"Enter name \") #way to create dictionary\n",
    "    ntc = int(input(\"Enter phone = \"))\n",
    "    ncell = int(input(\"Enter phone = \")) #way to multiple value\n",
    "    key = name\n",
    "    value = [ntc,ncell]\n",
    "    d[key] = value\n",
    "print(d)"
   ]
  },
  {
   "cell_type": "code",
   "execution_count": 3,
   "id": "e1d212ec",
   "metadata": {},
   "outputs": [
    {
     "name": "stdout",
     "output_type": "stream",
     "text": [
      "{'ram': [8556555, 582254, 9989889]}\n"
     ]
    }
   ],
   "source": [
    "a = {'ram': [8556555, 582254]}\n",
    "a['ram'].append(9989889)\n",
    "print(a)"
   ]
  },
  {
   "cell_type": "code",
   "execution_count": 5,
   "id": "22665641",
   "metadata": {},
   "outputs": [
    {
     "data": {
      "text/plain": [
       "{'ram': [25655, 52658], 'hari': [2356, 56585], 'Sita': [899888, 9898889]}"
      ]
     },
     "execution_count": 5,
     "metadata": {},
     "output_type": "execute_result"
    }
   ],
   "source": [
    "a = {'ram': [25655, 52658], 'hari': [2356, 56585]}\n",
    "a[\"Sita\"] = [899888,9898889]\n",
    "a"
   ]
  },
  {
   "cell_type": "code",
   "execution_count": 6,
   "id": "db936dae",
   "metadata": {},
   "outputs": [
    {
     "name": "stdout",
     "output_type": "stream",
     "text": [
      "{'ram': [25655, 52658], 'hari': [2356, 56585]}\n"
     ]
    }
   ],
   "source": [
    "a = {'ram': [25655, 52658], 'hari': [2356, 56585]}\n",
    "a[\"Sita\"] = [899888,9898889]\n",
    "del a[\"Sita\"]\n",
    "print(a)"
   ]
  },
  {
   "cell_type": "code",
   "execution_count": 8,
   "id": "ed836b87",
   "metadata": {},
   "outputs": [
    {
     "ename": "TypeError",
     "evalue": "'builtin_function_or_method' object is not subscriptable",
     "output_type": "error",
     "traceback": [
      "\u001b[1;31m---------------------------------------------------------------------------\u001b[0m",
      "\u001b[1;31mTypeError\u001b[0m                                 Traceback (most recent call last)",
      "\u001b[1;32m<ipython-input-8-6a71c447df3c>\u001b[0m in \u001b[0;36m<module>\u001b[1;34m\u001b[0m\n\u001b[0;32m      1\u001b[0m \u001b[0ma\u001b[0m \u001b[1;33m=\u001b[0m \u001b[1;33m{\u001b[0m\u001b[1;34m'ram'\u001b[0m\u001b[1;33m:\u001b[0m \u001b[1;33m[\u001b[0m\u001b[1;36m25655\u001b[0m\u001b[1;33m,\u001b[0m \u001b[1;36m52658\u001b[0m\u001b[1;33m]\u001b[0m\u001b[1;33m,\u001b[0m \u001b[1;34m'hari'\u001b[0m\u001b[1;33m:\u001b[0m \u001b[1;33m[\u001b[0m\u001b[1;36m2356\u001b[0m\u001b[1;33m,\u001b[0m \u001b[1;36m56585\u001b[0m\u001b[1;33m]\u001b[0m\u001b[1;33m,\u001b[0m \u001b[1;34m'Sita'\u001b[0m\u001b[1;33m:\u001b[0m \u001b[1;33m[\u001b[0m\u001b[1;36m899888\u001b[0m\u001b[1;33m,\u001b[0m \u001b[1;36m9898889\u001b[0m\u001b[1;33m]\u001b[0m\u001b[1;33m}\u001b[0m\u001b[1;33m\u001b[0m\u001b[1;33m\u001b[0m\u001b[0m\n\u001b[1;32m----> 2\u001b[1;33m \u001b[0ma\u001b[0m\u001b[1;33m.\u001b[0m\u001b[0mpop\u001b[0m\u001b[1;33m[\u001b[0m\u001b[1;34m\"Sita\"\u001b[0m\u001b[1;33m]\u001b[0m\u001b[1;33m\u001b[0m\u001b[1;33m\u001b[0m\u001b[0m\n\u001b[0m\u001b[0;32m      3\u001b[0m \u001b[0mprint\u001b[0m\u001b[1;33m(\u001b[0m\u001b[0ma\u001b[0m\u001b[1;33m)\u001b[0m\u001b[1;33m\u001b[0m\u001b[1;33m\u001b[0m\u001b[0m\n",
      "\u001b[1;31mTypeError\u001b[0m: 'builtin_function_or_method' object is not subscriptable"
     ]
    }
   ],
   "source": [
    "a = {'ram': [25655, 52658], 'hari': [2356, 56585], 'Sita': [899888, 9898889]}\n",
    "a.pop[\"Sita\"]\n",
    "print(a)"
   ]
  },
  {
   "cell_type": "code",
   "execution_count": 11,
   "id": "056223c9",
   "metadata": {},
   "outputs": [
    {
     "name": "stdout",
     "output_type": "stream",
     "text": [
      "{'ram': 52658}\n",
      "{'Hari': 52658}\n"
     ]
    }
   ],
   "source": [
    "a = [{'ram': 52658}, {'Hari': 52658}]\n",
    "for i in a:\n",
    "    print(i)"
   ]
  },
  {
   "cell_type": "code",
   "execution_count": 12,
   "id": "d4b557dd",
   "metadata": {},
   "outputs": [
    {
     "ename": "SyntaxError",
     "evalue": "invalid syntax (<ipython-input-12-7be3236e4ed4>, line 3)",
     "output_type": "error",
     "traceback": [
      "\u001b[1;36m  File \u001b[1;32m\"<ipython-input-12-7be3236e4ed4>\"\u001b[1;36m, line \u001b[1;32m3\u001b[0m\n\u001b[1;33m    for j in i.items()\"\"\u001b[0m\n\u001b[1;37m                      ^\u001b[0m\n\u001b[1;31mSyntaxError\u001b[0m\u001b[1;31m:\u001b[0m invalid syntax\n"
     ]
    }
   ],
   "source": [
    "a = [{'ram': 52658}, {'Hari': 52658}]\n",
    "for i in a:\n",
    "    for j in i.items()\"\"\n",
    "    print(j)"
   ]
  },
  {
   "cell_type": "code",
   "execution_count": 13,
   "id": "a300128e",
   "metadata": {},
   "outputs": [
    {
     "name": "stdout",
     "output_type": "stream",
     "text": [
      "[{'ram': 52658}, {'Hari': 52658}, {'sflsfsam': 52658}]\n"
     ]
    }
   ],
   "source": [
    "a = [{'ram': 52658}, {'Hari': 52658}]\n",
    "x = {'sflsfsam': 52658}\n",
    "a.append(x)\n",
    "print(a)"
   ]
  },
  {
   "cell_type": "code",
   "execution_count": 14,
   "id": "c2db828a",
   "metadata": {},
   "outputs": [
    {
     "name": "stdout",
     "output_type": "stream",
     "text": [
      "{'ram': 52658}\n"
     ]
    }
   ],
   "source": [
    "a = [{'ram': 52658}, {'Hari': 52658}, {'sflsfsam': 52658}]\n",
    "print(a[0])"
   ]
  },
  {
   "cell_type": "code",
   "execution_count": 17,
   "id": "014e6d3d",
   "metadata": {},
   "outputs": [
    {
     "data": {
      "text/plain": [
       "[{'ram': 52658, 'Name': 'Ram Prasadsf'}, {'Hari': 52658}, {'sflsfsam': 52658}]"
      ]
     },
     "execution_count": 17,
     "metadata": {},
     "output_type": "execute_result"
    }
   ],
   "source": [
    "a = [{'ram': 52658}, {'Hari': 52658}, {'sflsfsam': 52658}]\n",
    "a[0][\"Name\"] = \"Ram Prasadsf\"\n",
    "a"
   ]
  },
  {
   "cell_type": "code",
   "execution_count": 18,
   "id": "8c5c59b2",
   "metadata": {},
   "outputs": [
    {
     "data": {
      "text/plain": [
       "[{'ram': 52658}, {'Hari': 52658}]"
      ]
     },
     "execution_count": 18,
     "metadata": {},
     "output_type": "execute_result"
    }
   ],
   "source": [
    "a = [{'ram': 52658}, {'Hari': 52658}, {'sflsfsam': 52658}]\n",
    "del a[2]\n",
    "a"
   ]
  },
  {
   "cell_type": "code",
   "execution_count": 20,
   "id": "16d48d35",
   "metadata": {},
   "outputs": [
    {
     "ename": "NameError",
     "evalue": "name 'sflsfsam' is not defined",
     "output_type": "error",
     "traceback": [
      "\u001b[1;31m---------------------------------------------------------------------------\u001b[0m",
      "\u001b[1;31mNameError\u001b[0m                                 Traceback (most recent call last)",
      "\u001b[1;32m<ipython-input-20-a211a03155df>\u001b[0m in \u001b[0;36m<module>\u001b[1;34m\u001b[0m\n\u001b[0;32m      1\u001b[0m \u001b[0ma\u001b[0m \u001b[1;33m=\u001b[0m \u001b[1;33m[\u001b[0m\u001b[1;33m{\u001b[0m\u001b[1;34m'ram'\u001b[0m\u001b[1;33m:\u001b[0m \u001b[1;36m52658\u001b[0m\u001b[1;33m}\u001b[0m\u001b[1;33m,\u001b[0m \u001b[1;33m{\u001b[0m\u001b[1;34m'Hari'\u001b[0m\u001b[1;33m:\u001b[0m \u001b[1;36m52658\u001b[0m\u001b[1;33m}\u001b[0m\u001b[1;33m,\u001b[0m \u001b[1;33m{\u001b[0m\u001b[1;34m'sflsfsam'\u001b[0m\u001b[1;33m:\u001b[0m \u001b[1;36m52658\u001b[0m\u001b[1;33m}\u001b[0m\u001b[1;33m]\u001b[0m\u001b[1;33m\u001b[0m\u001b[1;33m\u001b[0m\u001b[0m\n\u001b[1;32m----> 2\u001b[1;33m \u001b[1;32mdel\u001b[0m \u001b[0ma\u001b[0m\u001b[1;33m[\u001b[0m\u001b[1;36m2\u001b[0m\u001b[1;33m]\u001b[0m\u001b[1;33m[\u001b[0m\u001b[0msflsfsam\u001b[0m\u001b[1;33m]\u001b[0m\u001b[1;33m\u001b[0m\u001b[1;33m\u001b[0m\u001b[0m\n\u001b[0m\u001b[0;32m      3\u001b[0m \u001b[0ma\u001b[0m\u001b[1;33m\u001b[0m\u001b[1;33m\u001b[0m\u001b[0m\n",
      "\u001b[1;31mNameError\u001b[0m: name 'sflsfsam' is not defined"
     ]
    }
   ],
   "source": [
    "a = [{'ram': 52658}, {'Hari': 52658}, {'sflsfsam': 52658}]\n",
    "del a[2][sflsfsam]\n",
    "a"
   ]
  },
  {
   "cell_type": "code",
   "execution_count": 21,
   "id": "ad5835b8",
   "metadata": {},
   "outputs": [
    {
     "ename": "SyntaxError",
     "evalue": "invalid syntax (<ipython-input-21-54aa53b51133>, line 3)",
     "output_type": "error",
     "traceback": [
      "\u001b[1;36m  File \u001b[1;32m\"<ipython-input-21-54aa53b51133>\"\u001b[1;36m, line \u001b[1;32m3\u001b[0m\n\u001b[1;33m    2: {shyam': '235 653'}}\u001b[0m\n\u001b[1;37m             ^\u001b[0m\n\u001b[1;31mSyntaxError\u001b[0m\u001b[1;31m:\u001b[0m invalid syntax\n"
     ]
    }
   ],
   "source": [
    "#dict inside dicyt\n",
    "a = {1:{'ram': '25665 2356'}, \n",
    "     2: {shyam': '235 653'}}\n",
    "         "
   ]
  },
  {
   "cell_type": "code",
   "execution_count": 22,
   "id": "4dd90e2e",
   "metadata": {},
   "outputs": [
    {
     "name": "stdout",
     "output_type": "stream",
     "text": [
      "Enter n = 2\n",
      "Enter name = Santosh\n",
      "Enter ntc = 56855\n",
      "Enter ncell = 26535\n",
      "Enter name = Hari\n",
      "Enter ntc = 565235\n",
      "Enter ncell = 5625654\n",
      "{1: {'Name': 'Santosh', 'ntc': 56855, 'ncell': 26535}, 2: {'Name': 'Hari', 'ntc': 565235, 'ncell': 5625654}}\n"
     ]
    }
   ],
   "source": [
    "d = {}\n",
    "n = int(input(\"Enter n = \"))\n",
    "for i in range(1,n+1):\n",
    "    name = input(\"Enter name = \")\n",
    "    ntc = int(input(\"Enter ntc = \"))\n",
    "    ncell = int(input(\"Enter ncell = \"))\n",
    "    key = i\n",
    "    value = {\"Name\":name,\"ntc\":ntc,\"ncell\":ncell}\n",
    "    d[key] = value\n",
    "print(d)"
   ]
  },
  {
   "cell_type": "code",
   "execution_count": 24,
   "id": "dab9fbc7",
   "metadata": {},
   "outputs": [
    {
     "name": "stdout",
     "output_type": "stream",
     "text": [
      "{'Name': 'Santosh', 'ntc': 56855, 'ncell': 26535}\n",
      "{'Name': 'Hari', 'ntc': 565235, 'ncell': 5625654}\n"
     ]
    }
   ],
   "source": [
    "for i in d.values():\n",
    "    print(i)"
   ]
  },
  {
   "cell_type": "code",
   "execution_count": 26,
   "id": "05662c67",
   "metadata": {},
   "outputs": [
    {
     "data": {
      "text/plain": [
       "'Santosh'"
      ]
     },
     "execution_count": 26,
     "metadata": {},
     "output_type": "execute_result"
    }
   ],
   "source": [
    "d[1][\"Name\"]"
   ]
  },
  {
   "cell_type": "code",
   "execution_count": 27,
   "id": "f04631f0",
   "metadata": {},
   "outputs": [
    {
     "data": {
      "text/plain": [
       "{'Name': 'Santosh', 'ntc': 56855, 'ncell': 26535}"
      ]
     },
     "execution_count": 27,
     "metadata": {},
     "output_type": "execute_result"
    }
   ],
   "source": [
    "d[1]"
   ]
  },
  {
   "cell_type": "code",
   "execution_count": 29,
   "id": "1abf60f1",
   "metadata": {},
   "outputs": [
    {
     "data": {
      "text/plain": [
       "{1: {'Name': 'Balram', 'ntc': 56855, 'ncell': 26535},\n",
       " 2: {'Name': 'Hari', 'ntc': 565235, 'ncell': 5625654}}"
      ]
     },
     "execution_count": 29,
     "metadata": {},
     "output_type": "execute_result"
    }
   ],
   "source": [
    "d[1][\"Name\"] = \"Balram\"\n",
    "d"
   ]
  },
  {
   "cell_type": "code",
   "execution_count": 32,
   "id": "c55544e6",
   "metadata": {},
   "outputs": [
    {
     "data": {
      "text/plain": [
       "{1: {'Name': 'Balram', 'ntc': [98586855858, 985658265354], 'ncell': 26535},\n",
       " 2: {'Name': 'Hari', 'ntc': 565235, 'ncell': 5625654}}"
      ]
     },
     "execution_count": 32,
     "metadata": {},
     "output_type": "execute_result"
    }
   ],
   "source": [
    "a = {1: {'Name': 'Balram', 'ntc': 56855, 'ncell': 26535},\n",
    "     2: {'Name': 'Hari', 'ntc': 565235, 'ncell': 5625654}}\n",
    "a[1]['ntc'] = [98586855858,985658265354]\n",
    "a"
   ]
  },
  {
   "cell_type": "code",
   "execution_count": 33,
   "id": "6dbfc957",
   "metadata": {},
   "outputs": [
    {
     "name": "stdout",
     "output_type": "stream",
     "text": [
      "{'Name': 'Balram', 'ntc': 56855, 'ncell': 26535}\n",
      "{'Name': 'Hari', 'ntc': 565235, 'ncell': 5625654}\n"
     ]
    }
   ],
   "source": [
    "a = {1: {'Name': 'Balram', 'ntc': 56855, 'ncell': 26535},\n",
    "     2: {'Name': 'Hari', 'ntc': 565235, 'ncell': 5625654}}\n",
    "for i in a.values():\n",
    "    print(i)"
   ]
  },
  {
   "cell_type": "code",
   "execution_count": 34,
   "id": "83c1436d",
   "metadata": {},
   "outputs": [
    {
     "name": "stdout",
     "output_type": "stream",
     "text": [
      "('Name', 'Balram')\n",
      "('ntc', 56855)\n",
      "('ncell', 26535)\n",
      "('Name', 'Hari')\n",
      "('ntc', 565235)\n",
      "('ncell', 5625654)\n"
     ]
    }
   ],
   "source": [
    "a = {1: {'Name': 'Balram', 'ntc': 56855, 'ncell': 26535},\n",
    "     2: {'Name': 'Hari', 'ntc': 565235, 'ncell': 5625654}}\n",
    "for i in a.values():\n",
    "    for j in i.items():\n",
    "        print(j)"
   ]
  },
  {
   "cell_type": "code",
   "execution_count": 38,
   "id": "1e7ed816",
   "metadata": {},
   "outputs": [
    {
     "name": "stdout",
     "output_type": "stream",
     "text": [
      "Enter n = 2\n",
      "Enter name = 25\n",
      "Enter price = 25\n",
      "Enter quty = 25\n",
      "Enter name = fanta\n",
      "Enter price = 25\n",
      "Enter quty = 25\n",
      "{1: {'Name': '25', 'price': 25, 'quantity': 25, 'total': 625}, 2: {'Name': 'fanta', 'price': 25, 'quantity': 25, 'total': 625}}\n"
     ]
    }
   ],
   "source": [
    "d = {}\n",
    "n = int(input(\"Enter n = \"))\n",
    "for i in range(1,n+1):\n",
    "    name = input(\"Enter name = \")\n",
    "    price = int(input(\"Enter price = \"))\n",
    "    quantity = int(input(\"Enter quty = \"))\n",
    "    total = price*quantity\n",
    "    key = i\n",
    "    value = {\"Name\":name,\"price\":price,\"quantity\":quantity,\"total\":total}\n",
    "    d[key] = value\n",
    "print(d)"
   ]
  },
  {
   "cell_type": "code",
   "execution_count": 39,
   "id": "c62a7af6",
   "metadata": {},
   "outputs": [
    {
     "name": "stdout",
     "output_type": "stream",
     "text": [
      "Enter n = 2\n",
      "Enter name = Apple\n",
      "Enter quty = 45\n",
      "Enter name = Banana\n",
      "Enter quty = 25\n",
      "{1: {'Name': 'Apple', 'price': 100, 'quantity': 45, 'total': 4500}, 2: {'Name': 'Banana', 'price': 50, 'quantity': 25, 'total': 1250}}\n"
     ]
    }
   ],
   "source": [
    "d = {}\n",
    "product = {\"Apple\":100,\"Banana\":50}\n",
    "n = int(input(\"Enter n = \"))\n",
    "for i in range(1,n+1):\n",
    "    name = input(\"Enter name = \")\n",
    "    price = product[name]\n",
    "    quantity = int(input(\"Enter quty = \"))\n",
    "    total = price*quantity\n",
    "    key = i\n",
    "    value = {\"Name\":name,\"price\":price,\"quantity\":quantity,\"total\":total}\n",
    "    d[key] = value\n",
    "print(d)"
   ]
  },
  {
   "cell_type": "code",
   "execution_count": 40,
   "id": "dc927c80",
   "metadata": {},
   "outputs": [
    {
     "ename": "SyntaxError",
     "evalue": "invalid syntax (<ipython-input-40-c83a3c34117d>, line 2)",
     "output_type": "error",
     "traceback": [
      "\u001b[1;36m  File \u001b[1;32m\"<ipython-input-40-c83a3c34117d>\"\u001b[1;36m, line \u001b[1;32m2\u001b[0m\n\u001b[1;33m    b = ({'Name': 56855, 26535})\u001b[0m\n\u001b[1;37m                              ^\u001b[0m\n\u001b[1;31mSyntaxError\u001b[0m\u001b[1;31m:\u001b[0m invalid syntax\n"
     ]
    }
   ],
   "source": [
    "a = {'Name': (56855, 26535), 'Hari': (56855, 26535)} #tuple if constant\n",
    "b = ({'Name': 56855, 26535})"
   ]
  },
  {
   "cell_type": "code",
   "execution_count": 41,
   "id": "19463516",
   "metadata": {},
   "outputs": [
    {
     "data": {
      "text/plain": [
       "{'Name': (56855, 26535), 'Hari': (56855, 26535)}"
      ]
     },
     "execution_count": 41,
     "metadata": {},
     "output_type": "execute_result"
    }
   ],
   "source": [
    "a = {'Name': (56855, 26535), 'Hari': (56855, 26535)}\n",
    "a[\"Sita\"]: (990999,99889889)\n",
    "a"
   ]
  },
  {
   "cell_type": "code",
   "execution_count": 44,
   "id": "23436d83",
   "metadata": {},
   "outputs": [
    {
     "ename": "SyntaxError",
     "evalue": "invalid syntax (<ipython-input-44-d34580add1b1>, line 1)",
     "output_type": "error",
     "traceback": [
      "\u001b[1;36m  File \u001b[1;32m\"<ipython-input-44-d34580add1b1>\"\u001b[1;36m, line \u001b[1;32m1\u001b[0m\n\u001b[1;33m    a = ({'Name':56855,26535},)\u001b[0m\n\u001b[1;37m                            ^\u001b[0m\n\u001b[1;31mSyntaxError\u001b[0m\u001b[1;31m:\u001b[0m invalid syntax\n"
     ]
    }
   ],
   "source": [
    "a = ({'Name':56855,26535},)\n",
    "a[0]"
   ]
  },
  {
   "cell_type": "code",
   "execution_count": 1,
   "id": "09c4adc6",
   "metadata": {},
   "outputs": [
    {
     "name": "stdout",
     "output_type": "stream",
     "text": [
      "Enter n = 2\n",
      "Enter name = Santosh\n",
      "Enter ntc = 9865623658\n",
      "Enter ncell = 9865986586\n",
      "Enter name = Ram\n",
      "Enter ntc = 9685689575\n",
      "Enter ncell = 9856895648\n",
      "{'Santosh': '9865623658 9865986586', 'Ram': '9685689575 9856895648'}\n"
     ]
    }
   ],
   "source": [
    "d = {}\n",
    "n = int(input(\"Enter n = \"))\n",
    "for i in range(n):\n",
    "    name = input(\"Enter name = \")\n",
    "    ntc = int(input(\"Enter ntc = \"))\n",
    "    ncell = int(input(\"Enter ncell = \"))\n",
    "    key = name\n",
    "    value = f\"{ntc} {ncell}\"\n",
    "    d[key] = value\n",
    "    \n",
    "print(d)"
   ]
  },
  {
   "cell_type": "code",
   "execution_count": 3,
   "id": "89aa6711",
   "metadata": {},
   "outputs": [
    {
     "name": "stdout",
     "output_type": "stream",
     "text": [
      "['9685689575 9856895648']\n"
     ]
    }
   ],
   "source": [
    "#list inside dict\n",
    "a = {'Santosh': ['9865623658 9865986586'], 'Ram': ['9685689575 9856895648']}\n",
    "print(a['Ram'])"
   ]
  },
  {
   "cell_type": "code",
   "execution_count": 4,
   "id": "8378354b",
   "metadata": {},
   "outputs": [
    {
     "name": "stdout",
     "output_type": "stream",
     "text": [
      "('Santosh', ['9865623658 9865986586'])\n",
      "('Ram', ['9685689575 9856895648'])\n"
     ]
    }
   ],
   "source": [
    "for i in a.items():\n",
    "    print(i)"
   ]
  },
  {
   "cell_type": "code",
   "execution_count": 5,
   "id": "61138cda",
   "metadata": {},
   "outputs": [
    {
     "name": "stdout",
     "output_type": "stream",
     "text": [
      "Enter n = 2\n",
      "Enter name = Santosh\n",
      "Enter ntc = 98652365\n",
      "Enter ncell = 986596859\n",
      "Enter name = Hari\n",
      "Enter ntc = 98659865\n",
      "Enter ncell = 9856989\n",
      "{'Santosh': [98652365, 986596859], 'Hari': [98659865, 9856989]}\n"
     ]
    }
   ],
   "source": [
    "d = {}\n",
    "n = int(input(\"Enter n = \"))\n",
    "for i in range(n):\n",
    "    name = input(\"Enter name = \")\n",
    "    ntc = int(input(\"Enter ntc = \"))\n",
    "    ncell = int(input(\"Enter ncell = \"))\n",
    "    key = name\n",
    "    value = [ntc,ncell]\n",
    "    d[key] = value\n",
    "    \n",
    "print(d)"
   ]
  },
  {
   "cell_type": "code",
   "execution_count": 6,
   "id": "0dc705fd",
   "metadata": {},
   "outputs": [
    {
     "name": "stdout",
     "output_type": "stream",
     "text": [
      "[98652365, 986596859]\n"
     ]
    }
   ],
   "source": [
    "a = {'Santosh': [98652365, 986596859], 'Hari': [98659865, 9856989]}\n",
    "print(a['Santosh'])"
   ]
  },
  {
   "cell_type": "code",
   "execution_count": 7,
   "id": "d301093b",
   "metadata": {},
   "outputs": [
    {
     "name": "stdout",
     "output_type": "stream",
     "text": [
      "{'Santosh': [98652365, 986596859, 98756455266], 'Hari': [98659865, 9856989]}\n"
     ]
    }
   ],
   "source": [
    "a['Santosh'].append(98756455266)\n",
    "print(a)"
   ]
  },
  {
   "cell_type": "code",
   "execution_count": 8,
   "id": "c4725a96",
   "metadata": {},
   "outputs": [
    {
     "data": {
      "text/plain": [
       "{'Santosh': [98652365, 986596859],\n",
       " 'Hari': [98659865, 9856989],\n",
       " 'Ram': [98985658955, 98556524115]}"
      ]
     },
     "execution_count": 8,
     "metadata": {},
     "output_type": "execute_result"
    }
   ],
   "source": [
    "a = {'Santosh': [98652365, 986596859], 'Hari': [98659865, 9856989]}\n",
    "a['Ram'] = [98985658955,98556524115]\n",
    "a"
   ]
  },
  {
   "cell_type": "code",
   "execution_count": 9,
   "id": "d21653ea",
   "metadata": {},
   "outputs": [
    {
     "name": "stdout",
     "output_type": "stream",
     "text": [
      "{'Santosh': [98652365, 986596859], 'Hari': [98659865, 9856989]}\n"
     ]
    }
   ],
   "source": [
    "a = {'Santosh': [98652365, 986596859],\n",
    " 'Hari': [98659865, 9856989],\n",
    " 'Ram': [98985658955, 98556524115]}\n",
    "del a[\"Ram\"]\n",
    "print(a)"
   ]
  },
  {
   "cell_type": "code",
   "execution_count": 12,
   "id": "57b6fb75",
   "metadata": {},
   "outputs": [
    {
     "name": "stdout",
     "output_type": "stream",
     "text": [
      "{'Santosh': [98652365, 986596859], 'Hari': [98659865, 9856989]}\n"
     ]
    }
   ],
   "source": [
    "a = {'Santosh': [98652365, 986596859],\n",
    " 'Hari': [98659865, 9856989],\n",
    " 'Ram': [98985658955, 98556524115]}\n",
    "a.pop(\"Ram\")\n",
    "print(a)"
   ]
  },
  {
   "cell_type": "code",
   "execution_count": 13,
   "id": "e9ccbda8",
   "metadata": {},
   "outputs": [
    {
     "name": "stdout",
     "output_type": "stream",
     "text": [
      "{'Name': 'Ram', 'Ntc': 98606201725, 'Ncell': 9856895265}\n",
      "{'Name': 'Santosh', 'Ntc': 985689568, 'Ncell': 985658565}\n"
     ]
    }
   ],
   "source": [
    "#dict inside list\n",
    "a = [{\"Name\":\"Ram\",\"Ntc\":98606201725,\"Ncell\":9856895265},\n",
    "     {\"Name\":\"Santosh\",\"Ntc\":985689568,\"Ncell\":985658565}]\n",
    "for i in a:\n",
    "    print(i)"
   ]
  },
  {
   "cell_type": "code",
   "execution_count": 14,
   "id": "de4b1634",
   "metadata": {},
   "outputs": [
    {
     "name": "stdout",
     "output_type": "stream",
     "text": [
      "('Name', 'Ram')\n",
      "('Ntc', 98606201725)\n",
      "('Ncell', 9856895265)\n",
      "('Name', 'Santosh')\n",
      "('Ntc', 985689568)\n",
      "('Ncell', 985658565)\n"
     ]
    }
   ],
   "source": [
    "#dict inside list\n",
    "a = [{\"Name\":\"Ram\",\"Ntc\":98606201725,\"Ncell\":9856895265},\n",
    "     {\"Name\":\"Santosh\",\"Ntc\":985689568,\"Ncell\":985658565}]\n",
    "for i in a:\n",
    "    for j in i.items():\n",
    "        print(j)"
   ]
  },
  {
   "cell_type": "code",
   "execution_count": 15,
   "id": "bae71e00",
   "metadata": {},
   "outputs": [
    {
     "name": "stdout",
     "output_type": "stream",
     "text": [
      "[{'Name': 'Ram', 'Ntc': 98606201725, 'Ncell': 9856895265}, {'Name': 'Santosh', 'Ntc': 985689568, 'Ncell': 985658565}, {'Name': 'Sita', 'Ntc': 9865625635, 'Ncell': 985658988}]\n"
     ]
    }
   ],
   "source": [
    "a = [{\"Name\":\"Ram\",\"Ntc\":98606201725,\"Ncell\":9856895265},\n",
    "     {\"Name\":\"Santosh\",\"Ntc\":985689568,\"Ncell\":985658565}]\n",
    "x = {\"Name\":\"Sita\",\"Ntc\":9865625635,\"Ncell\":985658988}\n",
    "a.append(x)\n",
    "print(a)"
   ]
  },
  {
   "cell_type": "code",
   "execution_count": 2,
   "id": "7dfa3f10",
   "metadata": {},
   "outputs": [
    {
     "data": {
      "text/plain": [
       "[{'Name': 'Ramprasad', 'Ntc': 98606201725, 'Ncell': 9856895265},\n",
       " {'Name': 'Santosh', 'Ntc': 985689568, 'Ncell': 985658565},\n",
       " {'Name': 'Sita', 'Ntc': 9865625635, 'Ncell': 985658988}]"
      ]
     },
     "execution_count": 2,
     "metadata": {},
     "output_type": "execute_result"
    }
   ],
   "source": [
    "a = [{'Name': 'Ram', 'Ntc': 98606201725, 'Ncell': 9856895265}, \n",
    "     {'Name': 'Santosh', 'Ntc': 985689568, 'Ncell': 985658565}, \n",
    "     {'Name': 'Sita', 'Ntc': 9865625635, 'Ncell': 985658988}]\n",
    "a[0]['Name'] = \"Ramprasad\"\n",
    "a"
   ]
  },
  {
   "cell_type": "code",
   "execution_count": 4,
   "id": "6f0ef2e3",
   "metadata": {},
   "outputs": [
    {
     "name": "stdout",
     "output_type": "stream",
     "text": [
      "[{'Name': 'Ramprasad', 'Ntc': 98606201725, 'Ncell': 9856895265}, {'Name': 'Santosh', 'Ntc': 985689568, 'Ncell': 985658565}, {'Name': 'Sita', 'Ncell': 985658988}]\n"
     ]
    }
   ],
   "source": [
    "a = [{'Name': 'Ramprasad', 'Ntc': 98606201725, 'Ncell': 9856895265},\n",
    " {'Name': 'Santosh', 'Ntc': 985689568, 'Ncell': 985658565},\n",
    " {'Name': 'Sita', 'Ntc': 9865625635, 'Ncell': 985658988}]\n",
    "del a[2][\"Ntc\"]\n",
    "print(a)"
   ]
  },
  {
   "cell_type": "code",
   "execution_count": 5,
   "id": "d92a078f",
   "metadata": {},
   "outputs": [
    {
     "name": "stdout",
     "output_type": "stream",
     "text": [
      "{1: {'Name': 'Ramprasad', 'Ntc': 98606201725, 'Ncell': 9856895265}, 2: {'Name': 'Santosh', 'Ntc': 985689568, 'Ncell': 985658565}}\n"
     ]
    }
   ],
   "source": [
    "# dict inside dict\n",
    "a = {1:{'Name': 'Ramprasad', 'Ntc': 98606201725, 'Ncell': 9856895265},\n",
    " 2:{'Name': 'Santosh', 'Ntc': 985689568, 'Ncell': 985658565}}\n",
    "print(a)"
   ]
  },
  {
   "cell_type": "code",
   "execution_count": 8,
   "id": "d6c78af6",
   "metadata": {},
   "outputs": [
    {
     "name": "stdout",
     "output_type": "stream",
     "text": [
      "Enter n = 2\n",
      "Enter name = Santosh\n",
      "Enter ntc = 98652652\n",
      "Enter ncell = 9865965856\n",
      "Enter name = Hari\n",
      "Enter ntc = 985652653\n",
      "Enter ncell = 9865236568\n",
      "{1: {'Name': 'Santosh', 'ntc': 98652652, 'ncell': 9865965856}, 2: {'Name': 'Hari', 'ntc': 985652653, 'ncell': 9865236568}}\n"
     ]
    }
   ],
   "source": [
    "d = {}\n",
    "n = int(input(\"Enter n = \"))\n",
    "for i in range(1,n+1):\n",
    "    name = input(\"Enter name = \")\n",
    "    ntc = int(input(\"Enter ntc = \"))\n",
    "    ncell = int(input(\"Enter ncell = \"))\n",
    "    key = i\n",
    "    value = {\"Name\":name,\"ntc\":ntc,\"ncell\":ncell} \n",
    "    d[key] = value\n",
    "    \n",
    "print(d)"
   ]
  },
  {
   "cell_type": "code",
   "execution_count": 10,
   "id": "b1fd00e2",
   "metadata": {},
   "outputs": [
    {
     "name": "stdout",
     "output_type": "stream",
     "text": [
      "{'Name': 'Santosh', 'ntc': 98652652, 'ncell': 9865965856}\n",
      "{'Name': 'Hari', 'ntc': 985652653, 'ncell': 9865236568}\n"
     ]
    }
   ],
   "source": [
    "for i in d.values():\n",
    "    print(i)"
   ]
  },
  {
   "cell_type": "code",
   "execution_count": 11,
   "id": "04251c0c",
   "metadata": {},
   "outputs": [
    {
     "data": {
      "text/plain": [
       "{'Name': 'Santosh', 'ntc': 98652652, 'ncell': 9865965856}"
      ]
     },
     "execution_count": 11,
     "metadata": {},
     "output_type": "execute_result"
    }
   ],
   "source": [
    "d[1]"
   ]
  },
  {
   "cell_type": "code",
   "execution_count": 14,
   "id": "a0fcca28",
   "metadata": {},
   "outputs": [
    {
     "data": {
      "text/plain": [
       "{1: {'Name': 'Ram', 'ntc': 98652652, 'ncell': 9865965856},\n",
       " 2: {'Name': 'Hari', 'ntc': 985652653, 'ncell': 9865236568}}"
      ]
     },
     "execution_count": 14,
     "metadata": {},
     "output_type": "execute_result"
    }
   ],
   "source": [
    "d[1][\"Name\"] = \"Ram\"\n",
    "d"
   ]
  },
  {
   "cell_type": "code",
   "execution_count": 19,
   "id": "3ecd5dfd",
   "metadata": {},
   "outputs": [
    {
     "data": {
      "text/plain": [
       "{1: {'Name': 'Ram', 'ntc': [985887554], 'ncell': 9865965856},\n",
       " 2: {'Name': 'Hari', 'ntc': 985652653, 'ncell': 9865236568}}"
      ]
     },
     "execution_count": 19,
     "metadata": {},
     "output_type": "execute_result"
    }
   ],
   "source": [
    "a = {1: {'Name': 'Ram', 'ntc': 98652652, 'ncell': 9865965856},\n",
    " 2: {'Name': 'Hari', 'ntc': 985652653, 'ncell': 9865236568}}\n",
    "a[1]['ntc'] = [985887554]\n",
    "a"
   ]
  },
  {
   "cell_type": "code",
   "execution_count": 20,
   "id": "cc5954f0",
   "metadata": {},
   "outputs": [
    {
     "name": "stdout",
     "output_type": "stream",
     "text": [
      "{'Name': 'Ram', 'ntc': [985887554], 'ncell': 9865965856}\n",
      "{'Name': 'Hari', 'ntc': 985652653, 'ncell': 9865236568}\n"
     ]
    }
   ],
   "source": [
    "for i in a.values():\n",
    "    print(i)"
   ]
  },
  {
   "cell_type": "code",
   "execution_count": 21,
   "id": "c66d69d6",
   "metadata": {},
   "outputs": [
    {
     "name": "stdout",
     "output_type": "stream",
     "text": [
      "('Name', 'Ram')\n",
      "('ntc', [985887554])\n",
      "('ncell', 9865965856)\n",
      "('Name', 'Hari')\n",
      "('ntc', 985652653)\n",
      "('ncell', 9865236568)\n"
     ]
    }
   ],
   "source": [
    "for i in a.values():\n",
    "    for j in i.items():\n",
    "        print(j)"
   ]
  },
  {
   "cell_type": "code",
   "execution_count": 28,
   "id": "b1084e27",
   "metadata": {},
   "outputs": [
    {
     "name": "stdout",
     "output_type": "stream",
     "text": [
      "Enter n = 2\n",
      "Enter name = coke\n",
      "Enter price = 25\n",
      "Enter quantity = 25\n",
      "Enter name = fanta\n",
      "Enter price = 25\n",
      "Enter quantity = 25\n",
      "{1: {'Nam': 'coke', 'price': 25, 'quantity': 25, 'Total': 625}, 2: {'Nam': 'fanta', 'price': 25, 'quantity': 25, 'Total': 625}}\n"
     ]
    }
   ],
   "source": [
    "d = {}\n",
    "n = int(input(\"Enter n = \"))\n",
    "for i in range(1,n+1):\n",
    "    name = input(\"Enter name = \")\n",
    "    price = int(input(\"Enter price = \"))\n",
    "    quantity = int(input(\"Enter quantity = \"))\n",
    "    Total = price*quantity\n",
    "    key = i\n",
    "    value = {\"Nam\":name,\"price\":price,\"quantity\":quantity,\"Total\":Total} \n",
    "    d[key] = value\n",
    "    \n",
    "print(d)"
   ]
  },
  {
   "cell_type": "code",
   "execution_count": 31,
   "id": "401e34e7",
   "metadata": {},
   "outputs": [
    {
     "name": "stdout",
     "output_type": "stream",
     "text": [
      "Enter n = 5\n",
      "Enter name = Apple\n",
      "Enter quantity = 25\n",
      "Enter name = Banana\n",
      "Enter quantity = 25\n",
      "Enter name = Cat\n",
      "Enter quantity = 25\n",
      "Enter name = Cat\n",
      "Enter quantity = 25\n",
      "Enter name = Banana\n",
      "Enter quantity = 25\n",
      "{1: {'Nam': 'Apple', 'price': 100, 'quantity': 25, 'Total': 2500}, 2: {'Nam': 'Banana', 'price': 50, 'quantity': 25, 'Total': 1250}, 3: {'Nam': 'Cat', 'price': 200, 'quantity': 25, 'Total': 5000}, 4: {'Nam': 'Cat', 'price': 200, 'quantity': 25, 'Total': 5000}, 5: {'Nam': 'Banana', 'price': 50, 'quantity': 25, 'Total': 1250}}\n"
     ]
    }
   ],
   "source": [
    "d = {}\n",
    "product = {\"Apple\":100,\"Banana\":50,\"Cat\":200}\n",
    "n = int(input(\"Enter n = \"))\n",
    "for i in range(1,n+1):\n",
    "    name = input(\"Enter name = \")\n",
    "    price = product[name]\n",
    "    quantity = int(input(\"Enter quantity = \"))\n",
    "    Total = price*quantity\n",
    "    key = i\n",
    "    value = {\"Nam\":name,\"price\":price,\"quantity\":quantity,\"Total\":Total} \n",
    "    d[key] = value\n",
    "    \n",
    "print(d)"
   ]
  },
  {
   "cell_type": "code",
   "execution_count": 32,
   "id": "102c4be1",
   "metadata": {},
   "outputs": [
    {
     "name": "stdout",
     "output_type": "stream",
     "text": [
      "{'Nam': 'Apple', 'price': 100, 'quantity': 25, 'Total': 2500}\n",
      "{'Nam': 'Banana', 'price': 50, 'quantity': 25, 'Total': 1250}\n",
      "{'Nam': 'Cat', 'price': 200, 'quantity': 25, 'Total': 5000}\n",
      "{'Nam': 'Cat', 'price': 200, 'quantity': 25, 'Total': 5000}\n",
      "{'Nam': 'Banana', 'price': 50, 'quantity': 25, 'Total': 1250}\n"
     ]
    }
   ],
   "source": [
    "for i in d.values():\n",
    "    print(i)"
   ]
  },
  {
   "cell_type": "code",
   "execution_count": 33,
   "id": "4816c0d0",
   "metadata": {},
   "outputs": [
    {
     "name": "stdout",
     "output_type": "stream",
     "text": [
      "('Name', 'Ram')\n",
      "('ntc', [985887554])\n",
      "('ncell', 9865965856)\n",
      "('Name', 'Hari')\n",
      "('ntc', 985652653)\n",
      "('ncell', 9865236568)\n"
     ]
    }
   ],
   "source": [
    "for i in a.values():\n",
    "    for j in i.items():\n",
    "        print(j)"
   ]
  },
  {
   "cell_type": "code",
   "execution_count": 12,
   "id": "f124f04c",
   "metadata": {},
   "outputs": [
    {
     "name": "stdout",
     "output_type": "stream",
     "text": [
      "Enter n = 1\n",
      "Enter name = apple\n"
     ]
    },
    {
     "ename": "KeyError",
     "evalue": "'apple'",
     "output_type": "error",
     "traceback": [
      "\u001b[1;31m---------------------------------------------------------------------------\u001b[0m",
      "\u001b[1;31mKeyError\u001b[0m                                  Traceback (most recent call last)",
      "\u001b[1;32m<ipython-input-12-64f593fedb0b>\u001b[0m in \u001b[0;36m<module>\u001b[1;34m\u001b[0m\n\u001b[0;32m      4\u001b[0m \u001b[1;32mfor\u001b[0m \u001b[0mi\u001b[0m \u001b[1;32min\u001b[0m \u001b[0mrange\u001b[0m\u001b[1;33m(\u001b[0m\u001b[1;36m1\u001b[0m\u001b[1;33m,\u001b[0m\u001b[0mn\u001b[0m\u001b[1;33m+\u001b[0m\u001b[1;36m1\u001b[0m\u001b[1;33m)\u001b[0m\u001b[1;33m:\u001b[0m\u001b[1;33m\u001b[0m\u001b[1;33m\u001b[0m\u001b[0m\n\u001b[0;32m      5\u001b[0m     \u001b[0mname\u001b[0m \u001b[1;33m=\u001b[0m \u001b[0minput\u001b[0m\u001b[1;33m(\u001b[0m\u001b[1;34m\"Enter name = \"\u001b[0m\u001b[1;33m)\u001b[0m\u001b[1;33m\u001b[0m\u001b[1;33m\u001b[0m\u001b[0m\n\u001b[1;32m----> 6\u001b[1;33m     \u001b[0mprice\u001b[0m \u001b[1;33m=\u001b[0m \u001b[0mproduct\u001b[0m\u001b[1;33m[\u001b[0m\u001b[0mname\u001b[0m\u001b[1;33m]\u001b[0m\u001b[1;33m\u001b[0m\u001b[1;33m\u001b[0m\u001b[0m\n\u001b[0m\u001b[0;32m      7\u001b[0m     \u001b[1;32mfor\u001b[0m \u001b[0mi\u001b[0m \u001b[1;32min\u001b[0m \u001b[0mprice\u001b[0m\u001b[1;33m:\u001b[0m\u001b[1;33m\u001b[0m\u001b[1;33m\u001b[0m\u001b[0m\n\u001b[0;32m      8\u001b[0m         \u001b[1;32mif\u001b[0m \u001b[1;34m\"price\"\u001b[0m \u001b[1;33m==\u001b[0m \u001b[1;34m'apple'\u001b[0m\u001b[1;33m:\u001b[0m\u001b[1;33m\u001b[0m\u001b[1;33m\u001b[0m\u001b[0m\n",
      "\u001b[1;31mKeyError\u001b[0m: 'apple'"
     ]
    }
   ],
   "source": [
    "d = {}\n",
    "product = {\"Apple\":100,\"Banana\":50,\"Cat\":200}\n",
    "n = int(input(\"Enter n = \"))\n",
    "for i in range(1,n+1):\n",
    "    name = input(\"Enter name = \")\n",
    "    price = product[name]\n",
    "    for i in price:\n",
    "        if \"price\" == 'apple':\n",
    "            print(price[0].upper)\n",
    "    quantity = int(input(\"Enter quantity = \"))\n",
    "    Total = price*quantity\n",
    "    key = i\n",
    "    value = {\"Nam\":name,\"price\":price,\"quantity\":quantity,\"Total\":Total} \n",
    "    d[key] = value\n",
    "    \n",
    "    \n",
    "print(d)"
   ]
  },
  {
   "cell_type": "code",
   "execution_count": null,
   "id": "d943be94",
   "metadata": {},
   "outputs": [],
   "source": []
  }
 ],
 "metadata": {
  "kernelspec": {
   "display_name": "Python 3",
   "language": "python",
   "name": "python3"
  },
  "language_info": {
   "codemirror_mode": {
    "name": "ipython",
    "version": 3
   },
   "file_extension": ".py",
   "mimetype": "text/x-python",
   "name": "python",
   "nbconvert_exporter": "python",
   "pygments_lexer": "ipython3",
   "version": "3.8.8"
  }
 },
 "nbformat": 4,
 "nbformat_minor": 5
}
