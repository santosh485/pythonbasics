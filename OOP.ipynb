{
 "cells": [
  {
   "cell_type": "code",
   "execution_count": 1,
   "id": "25c78157",
   "metadata": {},
   "outputs": [
    {
     "name": "stdout",
     "output_type": "stream",
     "text": [
      "Hello World\n"
     ]
    }
   ],
   "source": [
    "class Hello: #class\n",
    "    print(\"Hello World\")\n",
    "    \n",
    "obj = Hello() #object"
   ]
  },
  {
   "cell_type": "code",
   "execution_count": 6,
   "id": "6817a642",
   "metadata": {},
   "outputs": [
    {
     "name": "stdout",
     "output_type": "stream",
     "text": [
      "60\n"
     ]
    }
   ],
   "source": [
    "class Cal:\n",
    "    l = 4\n",
    "    b = 5\n",
    "    h = 3\n",
    "    v = l*b*h\n",
    "    print(v)\n",
    "    "
   ]
  },
  {
   "cell_type": "code",
   "execution_count": 5,
   "id": "38b40947",
   "metadata": {},
   "outputs": [
    {
     "name": "stdout",
     "output_type": "stream",
     "text": [
      "60\n"
     ]
    }
   ],
   "source": [
    "class Cal:\n",
    "    l = 4\n",
    "    b = 5\n",
    "    h = 3\n",
    "    v = l*b*h\n",
    "    print(v)\n",
    "    \n",
    "obj = Cal()"
   ]
  },
  {
   "cell_type": "code",
   "execution_count": 8,
   "id": "e686549d",
   "metadata": {},
   "outputs": [
    {
     "name": "stdout",
     "output_type": "stream",
     "text": [
      "60\n"
     ]
    }
   ],
   "source": [
    "class Cal:\n",
    "    def volume(self): #self parameter rakhne natra print hunna\n",
    "        l = 4\n",
    "        b = 5\n",
    "        h = 3\n",
    "        v = l*b*h\n",
    "        print(v)\n",
    "    \n",
    "obj = Cal()\n",
    "obj.volume()  #bahirabat call"
   ]
  },
  {
   "cell_type": "code",
   "execution_count": 9,
   "id": "52169b0c",
   "metadata": {},
   "outputs": [
    {
     "name": "stdout",
     "output_type": "stream",
     "text": [
      "60\n"
     ]
    }
   ],
   "source": [
    "class Cal:\n",
    "    def volume(self,l,b,h): \n",
    "        \n",
    "        v = l*b*h\n",
    "        print(v)\n",
    "l = 4\n",
    "b = 5\n",
    "h = 3    \n",
    "obj = Cal()\n",
    "obj.volume(l,b,h)  #for method ko through value pathauda"
   ]
  },
  {
   "cell_type": "code",
   "execution_count": 10,
   "id": "8bff555f",
   "metadata": {},
   "outputs": [
    {
     "name": "stdout",
     "output_type": "stream",
     "text": [
      "60\n",
      "20\n"
     ]
    }
   ],
   "source": [
    "class Cal:\n",
    "    def volume(self,l,b,h): #function\n",
    "        v = l*b*h\n",
    "        print(v)\n",
    "    def area(self,l,b):\n",
    "        a = l*b\n",
    "        print(a)\n",
    "l = 4\n",
    "b = 5\n",
    "h = 3    \n",
    "obj = Cal()\n",
    "obj.volume(l,b,h)  #for method ko through value pathauda\n",
    "obj.area(l,b)"
   ]
  },
  {
   "cell_type": "code",
   "execution_count": 13,
   "id": "b642af08",
   "metadata": {},
   "outputs": [
    {
     "name": "stdout",
     "output_type": "stream",
     "text": [
      "60\n",
      "20\n"
     ]
    }
   ],
   "source": [
    "class Cal:\n",
    "    def __init__(self,l,b,h):  #constructor  \n",
    "        self.l = l #aghadi j vayeni paxadi same \n",
    "        self.b = b\n",
    "        self.h = h\n",
    "        \n",
    "    def volume(self): \n",
    "        v = self.l*self.b*self.h\n",
    "        print(v)\n",
    "    def area(self):\n",
    "        a = self.l*self.b\n",
    "        print(a)\n",
    "l = 4\n",
    "b = 5\n",
    "h = 3    \n",
    "obj = Cal(l,b,h)\n",
    "obj.volume()  \n",
    "obj.area()"
   ]
  },
  {
   "cell_type": "code",
   "execution_count": 15,
   "id": "91712159",
   "metadata": {},
   "outputs": [
    {
     "name": "stdout",
     "output_type": "stream",
     "text": [
      "Enter l = 56\n",
      "Enter l = 25\n",
      "Enter l = 35\n",
      "120\n",
      "30\n",
      "49000\n",
      "1400\n"
     ]
    }
   ],
   "source": [
    "class Cal:\n",
    "    def __init__(self,l,b,h):  #constructor automatc initialization\n",
    "        self.l = l #aghadi j vayeni paxadi same \n",
    "        self.b = b\n",
    "        self.h = h\n",
    "        \n",
    "    def volume(self): \n",
    "        v = self.l*self.b*self.h\n",
    "        print(v)\n",
    "    def area(self):\n",
    "        a = self.l*self.b\n",
    "        print(a)\n",
    "l = int(input(\"Enter l = \"))\n",
    "b = int(input(\"Enter l = \"))\n",
    "h = int(input(\"Enter l = \"))    \n",
    "obj = Cal(l,b,h)\n",
    "obj1 = Cal(10,3,4) #multiple object\n",
    "obj1.volume()\n",
    "obj1.area()\n",
    "obj.volume()  \n",
    "obj.area()"
   ]
  },
  {
   "cell_type": "code",
   "execution_count": 16,
   "id": "6adfe134",
   "metadata": {},
   "outputs": [
    {
     "name": "stdout",
     "output_type": "stream",
     "text": [
      "Enter l = 25\n",
      "Enter l = 36\n",
      "Enter l = 26\n",
      "23400\n",
      "900\n"
     ]
    }
   ],
   "source": [
    "class Cal:\n",
    "    def __init__(self,l,b):  #constructor automatc initialization\n",
    "        self.l = l #aghadi j vayeni paxadi same \n",
    "        self.b = b\n",
    "                \n",
    "    def volume(self,h): #\n",
    "        v = self.l*self.b*h\n",
    "        print(v)\n",
    "    def area(self):\n",
    "        a = self.l*self.b\n",
    "        print(a)\n",
    "l = int(input(\"Enter l = \"))\n",
    "b = int(input(\"Enter l = \"))\n",
    "h = int(input(\"Enter l = \"))    \n",
    "obj = Cal(l,b)\n",
    "obj.volume(h)  \n",
    "obj.area()"
   ]
  },
  {
   "cell_type": "code",
   "execution_count": 1,
   "id": "1acae3e4",
   "metadata": {},
   "outputs": [
    {
     "name": "stdout",
     "output_type": "stream",
     "text": [
      "Enter l = 25\n",
      "Enter l = 25\n",
      "Enter l = 25\n",
      "15625\n",
      "625\n"
     ]
    }
   ],
   "source": [
    "class Cal:\n",
    "    def __init__(self,l,b):  \n",
    "        self.l = l  \n",
    "        self.b = b\n",
    "                \n",
    "    def volume(self,h): \n",
    "        v = self.l*self.b*h\n",
    "        return v\n",
    "    \n",
    "    def area(self):\n",
    "        a = self.l*self.b\n",
    "        return a\n",
    "    \n",
    "l = int(input(\"Enter l = \"))\n",
    "b = int(input(\"Enter l = \"))\n",
    "h = int(input(\"Enter l = \"))    \n",
    "obj = Cal(l,b)\n",
    "print(obj.volume(h))  \n",
    "print(obj.area())"
   ]
  },
  {
   "cell_type": "code",
   "execution_count": 18,
   "id": "75f460a9",
   "metadata": {},
   "outputs": [
    {
     "name": "stdout",
     "output_type": "stream",
     "text": [
      "Enter l = 25\n",
      "Enter l = 36\n",
      "Enter l = 25\n"
     ]
    },
    {
     "data": {
      "text/plain": [
       "(int, int)"
      ]
     },
     "execution_count": 18,
     "metadata": {},
     "output_type": "execute_result"
    }
   ],
   "source": [
    "class Cal:\n",
    "    def __init__(self,l,b):  \n",
    "        self.l = l  \n",
    "        self.b = b\n",
    "                \n",
    "    def volume(self,h): \n",
    "        v = self.l*self.b*h\n",
    "        return v\n",
    "    \n",
    "    def area(self):\n",
    "        a = self.l*self.b\n",
    "        return a\n",
    "    \n",
    "l = int(input(\"Enter l = \"))\n",
    "b = int(input(\"Enter l = \"))\n",
    "h = int(input(\"Enter l = \"))    \n",
    "obj = Cal(l,b)\n",
    "x = obj.volume(h)\n",
    "y = obj.area()\n",
    "type(x),type(y)"
   ]
  },
  {
   "cell_type": "code",
   "execution_count": 19,
   "id": "8b6a6af3",
   "metadata": {},
   "outputs": [
    {
     "name": "stdout",
     "output_type": "stream",
     "text": [
      "Enter l = 25\n",
      "Enter l = 36\n",
      "Enter l = 56\n",
      "25\n"
     ]
    }
   ],
   "source": [
    "class Cal:\n",
    "    def __init__(self,l,b,h):  \n",
    "        self.l = l  \n",
    "        self.b = b\n",
    "        self.h = h\n",
    "    def __str__(self): #str method should be string\n",
    "        return str(self.l)\n",
    "    \n",
    "l = int(input(\"Enter l = \"))\n",
    "b = int(input(\"Enter l = \"))\n",
    "h = int(input(\"Enter l = \"))    \n",
    "obj = Cal(l,b,h)\n",
    "print(obj)"
   ]
  },
  {
   "cell_type": "code",
   "execution_count": 21,
   "id": "caa02aa6",
   "metadata": {},
   "outputs": [
    {
     "name": "stdout",
     "output_type": "stream",
     "text": [
      "Enter l = 25\n",
      "Enter l = 36\n",
      "Enter l = 46\n",
      "41400\n",
      "<class '__main__.Cal'>\n"
     ]
    }
   ],
   "source": [
    "class Cal:\n",
    "    def __init__(self,l,b,h):  \n",
    "        self.l = l  \n",
    "        self.b = b\n",
    "        self.h = h\n",
    "    def __str__(self): #str method should be string\n",
    "        v = self.l*self.b*self.h\n",
    "        return str(v)\n",
    "    \n",
    "l = int(input(\"Enter l = \"))\n",
    "b = int(input(\"Enter l = \"))\n",
    "h = int(input(\"Enter l = \"))    \n",
    "obj = Cal(l,b,h)\n",
    "print(obj)\n",
    "print(type(obj)) #object use garna paidaina but operator bat garna sakinxa"
   ]
  },
  {
   "cell_type": "code",
   "execution_count": null,
   "id": "2f84ca50",
   "metadata": {},
   "outputs": [],
   "source": [
    "class Cal:\n",
    "    def __init__(self,l,b,h):  \n",
    "        self.l = l  \n",
    "        self.b = b\n",
    "        self.h = h\n",
    "    def __str__(self): #str method should be string\n",
    "        v = self.l*self.b*self.h\n",
    "        return str(v)\n",
    "    \n",
    "l = int(input(\"Enter l = \"))\n",
    "b = int(input(\"Enter l = \"))\n",
    "h = int(input(\"Enter l = \"))    \n",
    "obj = Cal(l,b,h)\n",
    "print(obj)\n",
    "print(type(obj)) #object use garna paidaina but operator bat garna sakinxa"
   ]
  },
  {
   "cell_type": "code",
   "execution_count": 6,
   "id": "91a0b222",
   "metadata": {},
   "outputs": [
    {
     "name": "stdout",
     "output_type": "stream",
     "text": [
      "Enter l = 5\n",
      "Enter l = 5\n",
      "Enter l = 6\n",
      "150object\n",
      "<class '__main__.Cal'>\n"
     ]
    }
   ],
   "source": [
    "class Cal:\n",
    "    def __init__(self,l,b,h):  \n",
    "        self.l = l  \n",
    "        self.b = b\n",
    "        self.h = h\n",
    "    def __repr__(self): #str method should be string\n",
    "        v = self.l*self.b*self.h\n",
    "        return str(v)\n",
    "    \n",
    "l = int(input(\"Enter l = \"))\n",
    "b = int(input(\"Enter l = \"))\n",
    "h = int(input(\"Enter l = \"))    \n",
    "obj = Cal(l,b,h)\n",
    "print(str(obj)+\"object\")\n",
    "print(type(obj))"
   ]
  },
  {
   "cell_type": "code",
   "execution_count": 5,
   "id": "84e6f5c7",
   "metadata": {},
   "outputs": [
    {
     "name": "stdout",
     "output_type": "stream",
     "text": [
      "Enter l = 5\n",
      "Enter l = 6\n",
      "Enter l = 5\n",
      "{'Volume': 150}\n",
      "<class 'dict'>\n"
     ]
    }
   ],
   "source": [
    "class Cal:\n",
    "    def __init__(self,l,b,h):  \n",
    "        self.l = l  \n",
    "        self.b = b\n",
    "        self.h = h\n",
    "    def __repr__(self): #for tabular \n",
    "        v = self.l*self.b*self.h\n",
    "        vo = {\"Volume\":v}\n",
    "        return vo\n",
    "    \n",
    "l = int(input(\"Enter l = \"))\n",
    "b = int(input(\"Enter l = \"))\n",
    "h = int(input(\"Enter l = \"))    \n",
    "obj = Cal(l,b,h)\n",
    "print(obj.__repr__()) #should be called\n",
    "print(type(obj.__repr__()))"
   ]
  },
  {
   "cell_type": "code",
   "execution_count": 6,
   "id": "8a836bb8",
   "metadata": {},
   "outputs": [
    {
     "name": "stdout",
     "output_type": "stream",
     "text": [
      "(1,5)\n"
     ]
    }
   ],
   "source": [
    "class Point:\n",
    "    def __init__(self,x = 0, y = 0):\n",
    "        self.x = x\n",
    "        self.y = y\n",
    "    def __str__(self):\n",
    "        return \"({0},{1})\".format(self.x,self.y) #string format\n",
    "    def __add__(self,other):\n",
    "        x = self.x+other.x\n",
    "        y = self.y+other.y\n",
    "        return Point(x,y)\n",
    "p1 = Point(2,3)\n",
    "p2 = Point(-1,2)\n",
    "print(p1+p2)"
   ]
  },
  {
   "cell_type": "code",
   "execution_count": 9,
   "id": "d0490143",
   "metadata": {},
   "outputs": [
    {
     "name": "stdout",
     "output_type": "stream",
     "text": [
      "1 5\n"
     ]
    }
   ],
   "source": [
    "class Point:\n",
    "    def __init__(self,x = 0, y = 0):\n",
    "        self.x = x\n",
    "        self.y = y\n",
    "    def __str__(self):\n",
    "        return f\"{self.x} {self.y}\"\n",
    "    def __add__(self,other):\n",
    "        x = self.x+other.x\n",
    "        y = self.y+other.y\n",
    "        return Point(x,y)\n",
    "p1 = Point(2,3)\n",
    "p2 = Point(-1,2)\n",
    "print(p1+p2)"
   ]
  },
  {
   "cell_type": "code",
   "execution_count": 11,
   "id": "33bd1022",
   "metadata": {},
   "outputs": [
    {
     "name": "stdout",
     "output_type": "stream",
     "text": [
      "This is init function 1000\n",
      "This is init function 2000\n",
      "This is init function 3455\n",
      "This is add method 3000\n",
      "This is init function 3000\n",
      "This is add method 6455\n",
      "This is init function 6455\n",
      "This is str method 6455\n",
      "6455\n"
     ]
    }
   ],
   "source": [
    "class Point:\n",
    "    def __init__(self,x = 0):\n",
    "        self.x = x\n",
    "        print(\"This is init function\",self.x)\n",
    "    def __str__(self):\n",
    "        print(\"This is str method\",self.x)\n",
    "        return f\"{self.x}\"\n",
    "    def __add__(self,other):\n",
    "        x = self.x+other.x\n",
    "        print(\"This is add method\",x)\n",
    "    \n",
    "        return Point(x)\n",
    "p1 = Point(1000)\n",
    "p2 = Point(2000)\n",
    "p3 = Point(3455)\n",
    "print(p1+p2+p3)"
   ]
  },
  {
   "cell_type": "code",
   "execution_count": 12,
   "id": "90937021",
   "metadata": {},
   "outputs": [
    {
     "name": "stdout",
     "output_type": "stream",
     "text": [
      "6455\n"
     ]
    }
   ],
   "source": [
    "class Point:\n",
    "    def __init__(self,x = 0):\n",
    "        self.x = x\n",
    "        \n",
    "    def __str__(self):\n",
    "        return f\"{self.x}\"\n",
    "    def __add__(self,other):\n",
    "        x = self.x+other.x\n",
    "            \n",
    "        return Point(x)\n",
    "p1 = Point(1000)\n",
    "p2 = Point(2000)\n",
    "p3 = Point(3455)  #for dynamic programme\n",
    "print(p1+p2+p3)"
   ]
  },
  {
   "cell_type": "code",
   "execution_count": 13,
   "id": "cce436c7",
   "metadata": {},
   "outputs": [
    {
     "name": "stdout",
     "output_type": "stream",
     "text": [
      "Parrot can fly\n",
      "Penguin can't fly\n"
     ]
    }
   ],
   "source": [
    "class Parrot:\n",
    "    def fly(self): #polymerphism\n",
    "        print(\"Parrot can fly\")\n",
    "    def swim(self):\n",
    "        print(\"Parrot can't swim\")\n",
    "        \n",
    "class Penguin:\n",
    "    def fly(self):\n",
    "        print(\"Penguin can't fly\")\n",
    "    def swim(self):\n",
    "        print(\"Penguin can swim\")\n",
    "        \n",
    "#common interface\n",
    "def flying_test(bird):\n",
    "    bird.fly()\n",
    "#instantiate objects\n",
    "blu = Parrot()\n",
    "peggy = Penguin()\n",
    "#passing the object\n",
    "flying_test(blu)\n",
    "flying_test(peggy)"
   ]
  },
  {
   "cell_type": "code",
   "execution_count": null,
   "id": "56238fde",
   "metadata": {},
   "outputs": [],
   "source": [
    "class Profile: #inheritance\n",
    "    def__init__()\n",
    "    "
   ]
  }
 ],
 "metadata": {
  "kernelspec": {
   "display_name": "Python 3",
   "language": "python",
   "name": "python3"
  },
  "language_info": {
   "codemirror_mode": {
    "name": "ipython",
    "version": 3
   },
   "file_extension": ".py",
   "mimetype": "text/x-python",
   "name": "python",
   "nbconvert_exporter": "python",
   "pygments_lexer": "ipython3",
   "version": "3.8.8"
  }
 },
 "nbformat": 4,
 "nbformat_minor": 5
}
