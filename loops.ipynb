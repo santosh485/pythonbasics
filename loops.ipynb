{
 "cells": [
  {
   "cell_type": "code",
   "execution_count": 1,
   "id": "ebd8ba73",
   "metadata": {},
   "outputs": [],
   "source": [
    "# for loop\n",
    "# while"
   ]
  },
  {
   "cell_type": "code",
   "execution_count": 2,
   "id": "c2407de7",
   "metadata": {},
   "outputs": [],
   "source": [
    "# range(5) (o,1,2,3,) for(i = 0; i<5 i++){}\n",
    "# range(1,5) (1,2,3,4) for(i=1; i,5, i++\n",
    "# range(1,5,2)"
   ]
  },
  {
   "cell_type": "code",
   "execution_count": 3,
   "id": "60710aa3",
   "metadata": {},
   "outputs": [],
   "source": [
    "# for i in range(<arguments>):\n",
    "#     <operations>"
   ]
  },
  {
   "cell_type": "code",
   "execution_count": 4,
   "id": "c9ab0d6b",
   "metadata": {},
   "outputs": [
    {
     "name": "stdout",
     "output_type": "stream",
     "text": [
      "0 helllo wworld\n",
      "1 helllo wworld\n",
      "2 helllo wworld\n",
      "3 helllo wworld\n",
      "4 helllo wworld\n"
     ]
    }
   ],
   "source": [
    "a = \"helllo wworld\"\n",
    "for i in range(5):\n",
    "    print(i,a)"
   ]
  },
  {
   "cell_type": "code",
   "execution_count": 5,
   "id": "f6ed9ab8",
   "metadata": {},
   "outputs": [
    {
     "name": "stdout",
     "output_type": "stream",
     "text": [
      "1 Hellow World\n",
      "2 Hellow World\n",
      "3 Hellow World\n",
      "4 Hellow World\n",
      "5 Hellow World\n",
      "6 Hellow World\n",
      "7 Hellow World\n",
      "8 Hellow World\n",
      "9 Hellow World\n"
     ]
    }
   ],
   "source": [
    "a = \"Hellow World\"\n",
    "for i in range(1,10):\n",
    "    print(i,a)"
   ]
  },
  {
   "cell_type": "code",
   "execution_count": 6,
   "id": "65412bd0",
   "metadata": {},
   "outputs": [
    {
     "name": "stdout",
     "output_type": "stream",
     "text": [
      "1 helllo wworld\n",
      "2 helllo wworld\n",
      "3 helllo wworld\n",
      "4 helllo wworld\n"
     ]
    }
   ],
   "source": [
    "a = \"helllo wworld\"\n",
    "for i in range(1,5):\n",
    "    print(i,a)"
   ]
  },
  {
   "cell_type": "code",
   "execution_count": 7,
   "id": "4c74ab1a",
   "metadata": {},
   "outputs": [
    {
     "name": "stdout",
     "output_type": "stream",
     "text": [
      "1 helllo wworld\n",
      "3 helllo wworld\n"
     ]
    }
   ],
   "source": [
    "a = \"helllo wworld\"\n",
    "for i in range(1,5,2):\n",
    "    print(i,a)"
   ]
  },
  {
   "cell_type": "code",
   "execution_count": 8,
   "id": "00b3af9b",
   "metadata": {},
   "outputs": [
    {
     "name": "stdout",
     "output_type": "stream",
     "text": [
      "0 helllo wworld\n",
      "2 helllo wworld\n",
      "4 helllo wworld\n"
     ]
    }
   ],
   "source": [
    "a = \"helllo wworld\"\n",
    "for i in range(0,5,2):\n",
    "    print(i,a)"
   ]
  },
  {
   "cell_type": "code",
   "execution_count": null,
   "id": "6bbd0531",
   "metadata": {},
   "outputs": [],
   "source": [
    "n = input(\"Enter n = \")\n",
    "for i in range(1,11):\n",
    "    print(n*i)"
   ]
  },
  {
   "cell_type": "code",
   "execution_count": null,
   "id": "e09b1db6",
   "metadata": {},
   "outputs": [],
   "source": [
    "n = input(\"Enter n = \")\n",
    "for i in range(2,10):\n",
    "    print(n*i)\n",
    "m = input(\"Enter m = \")\n",
    "for i in range(2,15):\n",
    "    print(m*i)"
   ]
  },
  {
   "cell_type": "code",
   "execution_count": null,
   "id": "ceb0059d",
   "metadata": {},
   "outputs": [],
   "source": [
    "n = int(input(\"Enter n = \"))\n",
    "for i in range(1,11):\n",
    "    print(n*i)"
   ]
  },
  {
   "cell_type": "code",
   "execution_count": null,
   "id": "172964db",
   "metadata": {},
   "outputs": [],
   "source": [
    "b = int(input(\"Enter n =\"))\n",
    "for i in range(3,10):\n",
    "    print(b*i)"
   ]
  },
  {
   "cell_type": "code",
   "execution_count": null,
   "id": "a2ad4495",
   "metadata": {},
   "outputs": [],
   "source": [
    "n = int(input(\"Enter n = \"))\n",
    "for i in range(1,11):\n",
    "    print(n,\"*\",i,\"=\",n*i)"
   ]
  },
  {
   "cell_type": "code",
   "execution_count": null,
   "id": "a7e21672",
   "metadata": {},
   "outputs": [],
   "source": [
    "m = int(input(\"Enter m =\"))\n",
    "for i in range(3,11):\n",
    "    print(m,\"*\",i,\"*\",m*i)"
   ]
  },
  {
   "cell_type": "code",
   "execution_count": null,
   "id": "dc3b4b66",
   "metadata": {},
   "outputs": [],
   "source": [
    "n = int(input(\"nter n = \"))\n",
    "for i in range(n):\n",
    "    x = int(input(\"Enter x =\"))\n",
    "    print(x)"
   ]
  },
  {
   "cell_type": "code",
   "execution_count": null,
   "id": "2f4fe7f2",
   "metadata": {},
   "outputs": [],
   "source": [
    "s = 0 #anywhere may be zero\n",
    "n = int(input(\"nter n = \"))\n",
    "for i in range(n): #coke, fanta\n",
    "    x = int(input(\"Enter x =\"))\n",
    "    s = s+x\n",
    "    print(s)"
   ]
  },
  {
   "cell_type": "code",
   "execution_count": null,
   "id": "fb35bc80",
   "metadata": {},
   "outputs": [],
   "source": [
    "s = 0 #anywhere may be zero\n",
    "n = int(input(\"nter n = \"))\n",
    "for i in range(n):\n",
    "    x = int(input(\"Enter x =\"))\n",
    "    x = int(input(\"Enter x =\"))\n",
    "    s = s+x+x\n",
    "    print(s)"
   ]
  },
  {
   "cell_type": "code",
   "execution_count": null,
   "id": "3eba2518",
   "metadata": {},
   "outputs": [],
   "source": [
    "s = \"\"\n",
    "n = int(input(\"Enter n = \"))\n",
    "for i in range(n):\n",
    "    name = input(\"Enter n = \")\n",
    "    s = s+name\n",
    "    print(s)"
   ]
  },
  {
   "cell_type": "code",
   "execution_count": null,
   "id": "3061da06",
   "metadata": {},
   "outputs": [],
   "source": [
    "s = \"Hari\"\n",
    "n = int(input(\"Enter n = \"))\n",
    "for i in range(n):\n",
    "    name = input( \"Enter name = \")\n",
    "    s = s + name\n",
    "    print(s)"
   ]
  },
  {
   "cell_type": "code",
   "execution_count": null,
   "id": "a71b1a81",
   "metadata": {},
   "outputs": [],
   "source": [
    "s = \"\"\n",
    "n = int(input(\"Enter n = \"))\n",
    "for i in range(n):\n",
    "    name = input(\"Enter n = \")\n",
    "    s = s+name+\"\\n\"\n",
    "    print(s)"
   ]
  },
  {
   "cell_type": "code",
   "execution_count": null,
   "id": "33fe97ef",
   "metadata": {},
   "outputs": [],
   "source": [
    "s = \"\"\n",
    "n = int(input(\"Enter n = \"))\n",
    "for i in range(n):\n",
    "    name = input(\"Enter n = \")\n",
    "    phone = input( \"Enter phone = \")\n",
    "    s = s+name+ phone+\"\\n\"\n",
    "    print(s)"
   ]
  },
  {
   "cell_type": "code",
   "execution_count": null,
   "id": "ca136072",
   "metadata": {},
   "outputs": [],
   "source": [
    "s = \"\"\n",
    "n = int(input(\"Enter n = \"))\n",
    "for i in range(n):\n",
    "    name = input(\"Enter name = \")\n",
    "    phone = input(\"Enter phoone = \")\n",
    "    s = s+ name + phone+\"\\n\"\n",
    "    print(s)"
   ]
  },
  {
   "cell_type": "code",
   "execution_count": null,
   "id": "f0dcd888",
   "metadata": {},
   "outputs": [],
   "source": [
    "s = \"\"\n",
    "total = 0\n",
    "n = int(input(\"Enter n = \"))\n",
    "for i in range(n):\n",
    "    name = input(\"Enter name = \")\n",
    "    price = int(input(\"Enter price = \")) #toral\n",
    "    s = s+name+str(price)+\"\\n\" #stringconcatination\n",
    "    total = total+price\n",
    "    print(s)\n",
    "    print(total)"
   ]
  },
  {
   "cell_type": "code",
   "execution_count": null,
   "id": "15168134",
   "metadata": {},
   "outputs": [],
   "source": [
    "a = \"Python\"\n",
    "a[5::-1]"
   ]
  },
  {
   "cell_type": "code",
   "execution_count": null,
   "id": "076c4060",
   "metadata": {},
   "outputs": [],
   "source": [
    "a = \"Python\"\n",
    "n = len(a)\n",
    "print(n)\n",
    "for i in range(5,-1,-1):\n",
    "    print(a[i],end=\"\") #reverse"
   ]
  },
  {
   "cell_type": "code",
   "execution_count": null,
   "id": "ebf712d3",
   "metadata": {},
   "outputs": [],
   "source": [
    "a = \"Python\"\n",
    "for i in a:\n",
    "    print(i)"
   ]
  },
  {
   "cell_type": "code",
   "execution_count": null,
   "id": "3f4f48b2",
   "metadata": {},
   "outputs": [],
   "source": [
    "a = \"Python\"\n",
    "for i in a:\n",
    "    print(i,end= \" \")"
   ]
  },
  {
   "cell_type": "code",
   "execution_count": null,
   "id": "e6d36268",
   "metadata": {},
   "outputs": [],
   "source": [
    "a = \"Python\"\n",
    "for i in a:\n",
    "    print(i,end= \".\")"
   ]
  },
  {
   "cell_type": "code",
   "execution_count": null,
   "id": "1e12e33b",
   "metadata": {},
   "outputs": [],
   "source": [
    "a = [\"Apple\",\"Cat\",\"Dog\"]\n",
    "for i in a:\n",
    "    print(i)"
   ]
  },
  {
   "cell_type": "code",
   "execution_count": null,
   "id": "02d88c64",
   "metadata": {},
   "outputs": [],
   "source": [
    "a = \"Python\"\n",
    "for i in a:\n",
    "    print(\"Hellow World\",end=\" \")"
   ]
  },
  {
   "cell_type": "code",
   "execution_count": null,
   "id": "01bd9b73",
   "metadata": {},
   "outputs": [],
   "source": [
    "# break\n",
    "# continous\n",
    "# pass"
   ]
  },
  {
   "cell_type": "code",
   "execution_count": null,
   "id": "1939afa2",
   "metadata": {},
   "outputs": [],
   "source": [
    "a = 0\n",
    "while a<5:\n",
    "    print(a,\"Hellow World\")\n",
    "    a =a+1\n",
    "    "
   ]
  },
  {
   "cell_type": "code",
   "execution_count": null,
   "id": "87935fb2",
   "metadata": {},
   "outputs": [],
   "source": [
    "a = 0\n",
    "while a<5:\n",
    "    print(\"Hello World\")\n",
    "    a = a+2"
   ]
  },
  {
   "cell_type": "code",
   "execution_count": 1,
   "id": "d74e87c5",
   "metadata": {},
   "outputs": [
    {
     "name": "stdout",
     "output_type": "stream",
     "text": [
      "Hellow\n",
      "Hellow\n"
     ]
    }
   ],
   "source": [
    "a = 0\n",
    "while a<5:\n",
    "    print(\"Hellow\")\n",
    "    a = a+3"
   ]
  },
  {
   "cell_type": "code",
   "execution_count": null,
   "id": "fd2d62d8",
   "metadata": {},
   "outputs": [],
   "source": [
    "a = 0\n",
    "while a<5:\n",
    "    print(a,\"Hellow World\")\n",
    "    a+=2"
   ]
  },
  {
   "cell_type": "code",
   "execution_count": null,
   "id": "587f71df",
   "metadata": {},
   "outputs": [],
   "source": [
    "a = 0\n",
    "while a<5:\n",
    "    print(a,\"Hellow World\")\n",
    "    a =a+1"
   ]
  },
  {
   "cell_type": "code",
   "execution_count": null,
   "id": "5f8ecae7",
   "metadata": {},
   "outputs": [],
   "source": [
    "a = \"Hellow\"\n",
    "print(a)"
   ]
  },
  {
   "cell_type": "code",
   "execution_count": null,
   "id": "dd3cfba7",
   "metadata": {},
   "outputs": [],
   "source": [
    "a = [\"Apple\",\"Cat\",\"Dog\"]\n",
    "for i in a:\n",
    "    print(i)"
   ]
  },
  {
   "cell_type": "code",
   "execution_count": 2,
   "id": "47223247",
   "metadata": {},
   "outputs": [
    {
     "ename": "TypeError",
     "evalue": "'<' not supported between instances of 'list' and 'int'",
     "output_type": "error",
     "traceback": [
      "\u001b[1;31m---------------------------------------------------------------------------\u001b[0m",
      "\u001b[1;31mTypeError\u001b[0m                                 Traceback (most recent call last)",
      "\u001b[1;32m<ipython-input-2-274f0263e7d3>\u001b[0m in \u001b[0;36m<module>\u001b[1;34m\u001b[0m\n\u001b[0;32m      1\u001b[0m \u001b[0ma\u001b[0m \u001b[1;33m=\u001b[0m \u001b[1;33m[\u001b[0m\u001b[1;34m\"Apple\"\u001b[0m\u001b[1;33m,\u001b[0m\u001b[1;34m\"Ram\"\u001b[0m\u001b[1;33m,\u001b[0m\u001b[1;34m\"Shyam\"\u001b[0m\u001b[1;33m]\u001b[0m\u001b[1;33m\u001b[0m\u001b[1;33m\u001b[0m\u001b[0m\n\u001b[1;32m----> 2\u001b[1;33m \u001b[1;32mwhile\u001b[0m \u001b[0ma\u001b[0m\u001b[1;33m<\u001b[0m\u001b[1;36m5\u001b[0m\u001b[1;33m:\u001b[0m\u001b[1;33m\u001b[0m\u001b[1;33m\u001b[0m\u001b[0m\n\u001b[0m\u001b[0;32m      3\u001b[0m     \u001b[0mprint\u001b[0m\u001b[1;33m(\u001b[0m\u001b[0ma\u001b[0m\u001b[1;33m)\u001b[0m\u001b[1;33m\u001b[0m\u001b[1;33m\u001b[0m\u001b[0m\n\u001b[0;32m      4\u001b[0m     \u001b[0ma\u001b[0m \u001b[1;33m=\u001b[0m \u001b[0ma\u001b[0m\u001b[1;33m+\u001b[0m\u001b[1;36m3\u001b[0m\u001b[1;33m\u001b[0m\u001b[1;33m\u001b[0m\u001b[0m\n",
      "\u001b[1;31mTypeError\u001b[0m: '<' not supported between instances of 'list' and 'int'"
     ]
    }
   ],
   "source": [
    "a = [\"Apple\",\"Ram\",\"Shyam\"]\n",
    "while a<5:\n",
    "    print(a)\n",
    "    a = a+3"
   ]
  },
  {
   "cell_type": "code",
   "execution_count": null,
   "id": "4d569cc5",
   "metadata": {},
   "outputs": [],
   "source": []
  },
  {
   "cell_type": "code",
   "execution_count": null,
   "id": "2758cf7f",
   "metadata": {},
   "outputs": [],
   "source": [
    "n = int(input(\"Enter n = \"))\n",
    "a = 1\n",
    "while a<=10:\n",
    "    print(n*a)\n",
    "    a = a+1"
   ]
  },
  {
   "cell_type": "code",
   "execution_count": 1,
   "id": "c050c20e",
   "metadata": {},
   "outputs": [
    {
     "name": "stdout",
     "output_type": "stream",
     "text": [
      "Enter n = 5\n",
      "5\n",
      "10\n",
      "15\n",
      "20\n",
      "25\n",
      "30\n",
      "35\n",
      "40\n",
      "45\n",
      "50\n"
     ]
    }
   ],
   "source": [
    "n = int(input(\"Enter n = \"))\n",
    "a = 1\n",
    "while a<=10:\n",
    "    print(n*a)\n",
    "    a = a+1"
   ]
  },
  {
   "cell_type": "code",
   "execution_count": 3,
   "id": "96b6761a",
   "metadata": {},
   "outputs": [
    {
     "name": "stdout",
     "output_type": "stream",
     "text": [
      "Enter n = 5\n",
      "5\n",
      "10\n",
      "15\n",
      "20\n",
      "25\n",
      "30\n",
      "35\n",
      "40\n",
      "45\n",
      "50\n"
     ]
    }
   ],
   "source": [
    "n = int(input(\"Enter n = \"))\n",
    "a = 1\n",
    "while a<=10:\n",
    "    print(n*a)\n",
    "    a = a+1"
   ]
  },
  {
   "cell_type": "code",
   "execution_count": 2,
   "id": "0de2fb49",
   "metadata": {},
   "outputs": [
    {
     "name": "stdout",
     "output_type": "stream",
     "text": [
      "Enter n = 5\n",
      "5 * 5\n",
      "5 * 10\n",
      "5 * 15\n",
      "5 * 20\n",
      "5 * 25\n",
      "5 * 30\n",
      "5 * 35\n",
      "5 * 40\n",
      "5 * 45\n",
      "5 * 50\n"
     ]
    }
   ],
   "source": [
    "n = int(input(\"Enter n = \"))\n",
    "a = 1\n",
    "while a<=10:\n",
    "    print(n,\"*\",n*a)\n",
    "    a = a+1"
   ]
  },
  {
   "cell_type": "code",
   "execution_count": 13,
   "id": "fb883e6e",
   "metadata": {},
   "outputs": [
    {
     "name": "stdout",
     "output_type": "stream",
     "text": [
      "Enter n = 4\n",
      "4 * 1 = 4\n",
      "4 * 2 = 8\n",
      "4 * 3 = 12\n",
      "4 * 4 = 16\n",
      "4 * 5 = 20\n",
      "4 * 6 = 24\n",
      "4 * 7 = 28\n",
      "4 * 8 = 32\n",
      "4 * 9 = 36\n",
      "4 * 10 = 40\n"
     ]
    }
   ],
   "source": [
    "n = int(input(\"Enter n = \"))\n",
    "a = 1\n",
    "while a<=10:\n",
    "        print(n,\"*\",a,\"=\",n*a)\n",
    "        a = a+1"
   ]
  },
  {
   "cell_type": "code",
   "execution_count": 3,
   "id": "d0518119",
   "metadata": {},
   "outputs": [
    {
     "name": "stdout",
     "output_type": "stream",
     "text": [
      "5\n",
      "4\n",
      "3\n",
      "2\n",
      "1\n"
     ]
    }
   ],
   "source": [
    "a = 5\n",
    "while 0<a:\n",
    "    print(a)\n",
    "    a = a-1"
   ]
  },
  {
   "cell_type": "code",
   "execution_count": 14,
   "id": "4454672b",
   "metadata": {},
   "outputs": [
    {
     "name": "stdout",
     "output_type": "stream",
     "text": [
      "5\n",
      "4\n",
      "3\n",
      "2\n",
      "1\n"
     ]
    }
   ],
   "source": [
    "a = 5\n",
    "while 0<a:\n",
    "    print(a)\n",
    "    a = a-1"
   ]
  },
  {
   "cell_type": "code",
   "execution_count": 5,
   "id": "27305c7d",
   "metadata": {},
   "outputs": [
    {
     "name": "stdout",
     "output_type": "stream",
     "text": [
      "Enter x = 2\n",
      "Enter x = 5\n",
      "Enter x = 5\n",
      "Enter x = 6\n",
      "Enter x = 3\n",
      "0\n"
     ]
    }
   ],
   "source": [
    "a = 0\n",
    "s = 0\n",
    "while a<5:\n",
    "    x = int(input(\"Enter x = \"))\n",
    "    x = s+x\n",
    "    a = a+1\n",
    "print(s)"
   ]
  },
  {
   "cell_type": "code",
   "execution_count": null,
   "id": "434be073",
   "metadata": {},
   "outputs": [
    {
     "name": "stdout",
     "output_type": "stream",
     "text": [
      "Enter x = 4\n",
      "4\n",
      "Enter x = 4\n",
      "4\n",
      "Enter x = 4\n",
      "4\n",
      "Enter x = 4\n",
      "4\n",
      "Enter x = 4\n",
      "4\n",
      "Enter x = 4\n",
      "4\n",
      "Enter x = 4\n",
      "4\n",
      "Enter x = 4\n",
      "4\n",
      "Enter x = 4\n",
      "4\n",
      "Enter x = 4\n",
      "4\n",
      "Enter x = 4\n",
      "4\n",
      "Enter x = 4\n",
      "4\n",
      "Enter x = 4\n",
      "4\n",
      "Enter x = 4\n",
      "4\n",
      "Enter x = 4\n",
      "4\n",
      "Enter x = 4\n",
      "4\n",
      "Enter x = 4\n",
      "4\n",
      "Enter x = 4\n",
      "4\n",
      "Enter x = 4\n",
      "4\n",
      "Enter x = 4\n",
      "4\n",
      "Enter x = 4\n",
      "4\n",
      "Enter x = 5\n",
      "5\n",
      "Enter x = 6\n",
      "6\n",
      "Enter x = 65\n",
      "65\n",
      "Enter x = 5\n",
      "5\n",
      "Enter x = 5\n",
      "5\n",
      "Enter x = 6\n",
      "6\n",
      "Enter x = 65\n",
      "65\n",
      "Enter x = 5\n",
      "5\n",
      "Enter x = 56\n",
      "56\n",
      "Enter x = 655\n",
      "655\n"
     ]
    }
   ],
   "source": [
    "a = 0\n",
    "s = 0\n",
    "while a<5:\n",
    "    x = int(input(\"Enter x = \"))\n",
    "    x = s+x\n",
    "    print(x)"
   ]
  },
  {
   "cell_type": "code",
   "execution_count": 6,
   "id": "ef286820",
   "metadata": {},
   "outputs": [
    {
     "name": "stdout",
     "output_type": "stream",
     "text": [
      "Enter x = 2\n",
      "2\n",
      "Enter x = 3\n",
      "3\n",
      "Enter x = 6\n",
      "6\n"
     ]
    }
   ],
   "source": [
    "a = 0\n",
    "s = 0\n",
    "while a<5:\n",
    "    x = int(input(\"Enter x = \"))\n",
    "    x = s+x\n",
    "    a = a+2\n",
    "    print(x)\n",
    "    "
   ]
  },
  {
   "cell_type": "code",
   "execution_count": 9,
   "id": "ce8d49a0",
   "metadata": {},
   "outputs": [
    {
     "name": "stdout",
     "output_type": "stream",
     "text": [
      "P\n",
      "y\n",
      "t\n",
      "h\n",
      "o\n",
      "n\n"
     ]
    }
   ],
   "source": [
    "a = \"Python\"\n",
    "n = len(a)\n",
    "b = 0\n",
    "while b<n:\n",
    "    print(a[b])\n",
    "    b =b+1"
   ]
  },
  {
   "cell_type": "code",
   "execution_count": null,
   "id": "6b995645",
   "metadata": {},
   "outputs": [],
   "source": [
    "a = \"Python\"\n",
    "n = len(a)\n",
    "b = 0\n",
    "while b<n:\n",
    "    print(a[b])\n",
    "    b = b+2"
   ]
  },
  {
   "cell_type": "code",
   "execution_count": 10,
   "id": "a08f7c38",
   "metadata": {},
   "outputs": [
    {
     "name": "stdout",
     "output_type": "stream",
     "text": [
      "b is greater\n"
     ]
    }
   ],
   "source": [
    "a = 10\n",
    "b = 20\n",
    "while b>a:\n",
    "    print(\"b is greater\")\n",
    "    break #break statement"
   ]
  },
  {
   "cell_type": "code",
   "execution_count": 12,
   "id": "3677345c",
   "metadata": {},
   "outputs": [
    {
     "name": "stdout",
     "output_type": "stream",
     "text": [
      "H\n",
      "e\n",
      "l\n",
      "l\n",
      "o\n"
     ]
    }
   ],
   "source": [
    "a = \"Hello world\"\n",
    "for i in a:\n",
    "    if i ==\" \":\n",
    "        break\n",
    "    else:\n",
    "        print(i)"
   ]
  },
  {
   "cell_type": "code",
   "execution_count": null,
   "id": "fab7f4f8",
   "metadata": {},
   "outputs": [],
   "source": [
    "a = \"S\""
   ]
  },
  {
   "cell_type": "code",
   "execution_count": 14,
   "id": "d652c6a5",
   "metadata": {},
   "outputs": [
    {
     "name": "stdout",
     "output_type": "stream",
     "text": [
      "Hellow worl"
     ]
    }
   ],
   "source": [
    "a = \"Hellow wordl\"\n",
    "for i in a:\n",
    "    if i ==\"d\":\n",
    "        continue\n",
    "    print(i,end = \"\")"
   ]
  },
  {
   "cell_type": "code",
   "execution_count": 16,
   "id": "b1d4a4b6",
   "metadata": {},
   "outputs": [
    {
     "name": "stdout",
     "output_type": "stream",
     "text": [
      "1\n",
      "3\n",
      "5\n",
      "7\n",
      "9\n",
      "11\n",
      "13\n",
      "15\n",
      "17\n",
      "19\n"
     ]
    }
   ],
   "source": [
    "for i in range(1,21):\n",
    "    if i%2==0:\n",
    "        continue\n",
    "    print(i)"
   ]
  },
  {
   "cell_type": "code",
   "execution_count": 17,
   "id": "d3b35da7",
   "metadata": {},
   "outputs": [
    {
     "name": "stdout",
     "output_type": "stream",
     "text": [
      "2\n",
      "4\n",
      "6\n",
      "8\n",
      "10\n",
      "12\n",
      "14\n",
      "16\n",
      "18\n",
      "20\n"
     ]
    }
   ],
   "source": [
    "for i in range(1,21):\n",
    "    if i%2!=0:\n",
    "        continue\n",
    "    print(i)"
   ]
  },
  {
   "cell_type": "code",
   "execution_count": 19,
   "id": "9fdc9d70",
   "metadata": {},
   "outputs": [
    {
     "name": "stdout",
     "output_type": "stream",
     "text": [
      "Ball\n",
      "Cat\n"
     ]
    }
   ],
   "source": [
    "a = [\"Apple\",\"Ball\",\"Cat\"]\n",
    "for i in a:\n",
    "    if i == \"Apple\":\n",
    "        continue\n",
    "    print(i)"
   ]
  },
  {
   "cell_type": "code",
   "execution_count": 21,
   "id": "d334eaab",
   "metadata": {},
   "outputs": [
    {
     "name": "stdout",
     "output_type": "stream",
     "text": [
      "Apple\n",
      "Ball\n"
     ]
    }
   ],
   "source": [
    "a = [\"Apple\",\"Ball\",\"Cat\"]\n",
    "for i in a:\n",
    "    if i == \"Cat\":\n",
    "        break\n",
    "    print(i)"
   ]
  },
  {
   "cell_type": "code",
   "execution_count": 22,
   "id": "7a854007",
   "metadata": {},
   "outputs": [],
   "source": [
    "a = 10\n",
    "b = 20\n",
    "if a<b:\n",
    "    pass"
   ]
  },
  {
   "cell_type": "code",
   "execution_count": 23,
   "id": "29b62200",
   "metadata": {},
   "outputs": [
    {
     "name": "stdout",
     "output_type": "stream",
     "text": [
      "Apple\n",
      "Ball\n",
      "Cat\n"
     ]
    }
   ],
   "source": [
    "a = [\"Apple\",\"Ball\",\"Cat\"]\n",
    "for i in a:\n",
    "    if i == \"Apple\":\n",
    "        pass\n",
    "    print(i)"
   ]
  },
  {
   "cell_type": "code",
   "execution_count": null,
   "id": "9cfa1682",
   "metadata": {},
   "outputs": [],
   "source": []
  }
 ],
 "metadata": {
  "kernelspec": {
   "display_name": "Python 3",
   "language": "python",
   "name": "python3"
  },
  "language_info": {
   "codemirror_mode": {
    "name": "ipython",
    "version": 3
   },
   "file_extension": ".py",
   "mimetype": "text/x-python",
   "name": "python",
   "nbconvert_exporter": "python",
   "pygments_lexer": "ipython3",
   "version": "3.8.8"
  }
 },
 "nbformat": 4,
 "nbformat_minor": 5
}
