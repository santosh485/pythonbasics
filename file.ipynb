{
 "cells": [
  {
   "cell_type": "code",
   "execution_count": 1,
   "id": "22c86af8",
   "metadata": {},
   "outputs": [],
   "source": [
    "# b = open(<file_name>,<mode>)\n",
    "# b.close()"
   ]
  },
  {
   "cell_type": "code",
   "execution_count": 5,
   "id": "53b6bdf3",
   "metadata": {},
   "outputs": [],
   "source": [
    "b = open('data.txt','x')\n",
    "b.close()"
   ]
  },
  {
   "cell_type": "code",
   "execution_count": 13,
   "id": "c34f79f2",
   "metadata": {},
   "outputs": [
    {
     "name": "stdout",
     "output_type": "stream",
     "text": [
      "1. Ram \n",
      "2. Hari\n",
      "3. Hello World\n",
      "4. Hello World\n",
      "\n",
      "<class 'str'>\n"
     ]
    }
   ],
   "source": [
    "b = open('data.txt','r')\n",
    "c = b.read()\n",
    "print(c)\n",
    "print(type(c))\n",
    "b.close()"
   ]
  },
  {
   "cell_type": "code",
   "execution_count": 12,
   "id": "e3ee658e",
   "metadata": {},
   "outputs": [
    {
     "name": "stdout",
     "output_type": "stream",
     "text": [
      "1. Ram \n",
      "2. Hari\n",
      "3. H\n",
      "<class 'str'>\n"
     ]
    }
   ],
   "source": [
    "b = open('data.txt','r')\n",
    "c = b.read(20)\n",
    "print(c)\n",
    "print(type(c))\n",
    "b.close()"
   ]
  },
  {
   "cell_type": "code",
   "execution_count": 15,
   "id": "de47555f",
   "metadata": {},
   "outputs": [
    {
     "name": "stdout",
     "output_type": "stream",
     "text": [
      "Enter n = 1\n",
      "1. Ram \n",
      "2. Hari\n",
      "3. Hello World\n",
      "4. Hello World\n",
      "\n",
      "<class 'str'>\n"
     ]
    }
   ],
   "source": [
    "b = open('data.txt','r')\n",
    "n = int(input(\"Enter n = \"))\n",
    "for i in range(n):\n",
    "    c = b.read()\n",
    "    print(c)\n",
    "    print(type(c))\n",
    "b.close()"
   ]
  },
  {
   "cell_type": "code",
   "execution_count": 19,
   "id": "aa8c4c14",
   "metadata": {},
   "outputs": [
    {
     "name": "stdout",
     "output_type": "stream",
     "text": [
      "Enter n = 1\n",
      "1. Ram \n",
      "\n"
     ]
    }
   ],
   "source": [
    "b = open('data.txt','r')\n",
    "n = int(input(\"Enter n = \"))\n",
    "for i in range(1,n+1): #for else loop syntax\n",
    "    if i != n:\n",
    "        b.readline()\n",
    "else:\n",
    "    c = b.readline()\n",
    "    print(c)\n",
    "b.close()\n"
   ]
  },
  {
   "cell_type": "code",
   "execution_count": 20,
   "id": "2d8fcf38",
   "metadata": {},
   "outputs": [
    {
     "name": "stdout",
     "output_type": "stream",
     "text": [
      "['1. Ram ', '2. Hari', '3. Hello World', '4. Hello World', '']\n"
     ]
    }
   ],
   "source": [
    "b = open('data.txt','r')\n",
    "c = b.read()\n",
    "d = c.split('\\n')\n",
    "print(d)\n",
    "b.close()"
   ]
  },
  {
   "cell_type": "code",
   "execution_count": 21,
   "id": "207c7984",
   "metadata": {},
   "outputs": [],
   "source": [
    "b = open('data.txt','w') #to enter new completely\n",
    "c = '/n.Hello world'\n",
    "b.write(c)\n",
    "b.close()"
   ]
  },
  {
   "cell_type": "code",
   "execution_count": 23,
   "id": "086b9f09",
   "metadata": {},
   "outputs": [],
   "source": [
    "b = open('data.txt','a') \n",
    "c = '/n.Hello world'\n",
    "b.write(c)\n",
    "b.close()"
   ]
  },
  {
   "cell_type": "code",
   "execution_count": 24,
   "id": "e9d848cf",
   "metadata": {},
   "outputs": [
    {
     "name": "stdout",
     "output_type": "stream",
     "text": [
      "Enter n = 2\n",
      "Enter name = Banana\n",
      "Enter price = 25\n",
      "Enter quantity = 25\n",
      "Enter name = Coke\n",
      "Enter price = 25\n",
      "Enter quantity = 25\n",
      "Banana 25 25 625\n",
      "Coke 25 25 625\n",
      "\n",
      "625\n"
     ]
    }
   ],
   "source": [
    "#txt file\n",
    "s = \"\"\n",
    "total = 0\n",
    "n = int(input(\"Enter n = \"))\n",
    "b = open(\"bil.txt\",\"w\")\n",
    "for i in range(n):\n",
    "    name = input(\"Enter name = \")\n",
    "    price = int(input(\"Enter price = \")) #toral\n",
    "    quantity = int(input(\"Enter quantity = \"))\n",
    "    total = quantity*price\n",
    "    s = s+f\"{name} {price} {quantity} {total}\\n\"\n",
    "        \n",
    "print(s)\n",
    "print(total)\n",
    "b.write(s)\n",
    "b.close()"
   ]
  },
  {
   "cell_type": "code",
   "execution_count": 25,
   "id": "e1455dbe",
   "metadata": {},
   "outputs": [
    {
     "name": "stdout",
     "output_type": "stream",
     "text": [
      "Enter n = 2\n",
      "Enter name = Coke\n",
      "Enter price = 25\n",
      "Enter quantity = 25\n",
      "Enter name = Fanta\n",
      "Enter price = 25\n",
      "Enter quantity = 25\n",
      "Coke 25 25 625\n",
      "Fanta 25 25 625\n",
      "\n",
      "625\n"
     ]
    }
   ],
   "source": [
    "#csv file\n",
    "s = \"\"\n",
    "total = 0\n",
    "n = int(input(\"Enter n = \"))\n",
    "b = open(\"bil.csv\",\"w\")\n",
    "for i in range(n):\n",
    "    name = input(\"Enter name = \")\n",
    "    price = int(input(\"Enter price = \")) #toral\n",
    "    quantity = int(input(\"Enter quantity = \"))\n",
    "    total = quantity*price\n",
    "    s = s+f\"{name} {price} {quantity} {total}\\n\"\n",
    "        \n",
    "print(s)\n",
    "print(total)\n",
    "b.write(s)\n",
    "b.close()"
   ]
  },
  {
   "cell_type": "code",
   "execution_count": 28,
   "id": "831ff944",
   "metadata": {},
   "outputs": [
    {
     "name": "stdout",
     "output_type": "stream",
     "text": [
      "Coke 25 25 625\n",
      "Fanta 25 25 625\n",
      "\n"
     ]
    }
   ],
   "source": [
    "b = open(\"bil.csv\",\"r\") #to open\n",
    "c = b.read()\n",
    "print(c)\n",
    "b.close()"
   ]
  },
  {
   "cell_type": "code",
   "execution_count": 1,
   "id": "37fae392",
   "metadata": {},
   "outputs": [
    {
     "ename": "NameError",
     "evalue": "name 'c' is not defined",
     "output_type": "error",
     "traceback": [
      "\u001b[1;31m---------------------------------------------------------------------------\u001b[0m",
      "\u001b[1;31mNameError\u001b[0m                                 Traceback (most recent call last)",
      "\u001b[1;32m<ipython-input-1-be51f0991bbe>\u001b[0m in \u001b[0;36m<module>\u001b[1;34m\u001b[0m\n\u001b[1;32m----> 1\u001b[1;33m \u001b[0md\u001b[0m \u001b[1;33m=\u001b[0m \u001b[0mc\u001b[0m\u001b[1;33m.\u001b[0m\u001b[0mreplace\u001b[0m\u001b[1;33m(\u001b[0m\u001b[1;34m'Apple'\u001b[0m\u001b[1;33m,\u001b[0m\u001b[1;34m'Pin'\u001b[0m\u001b[1;33m)\u001b[0m\u001b[1;33m\u001b[0m\u001b[1;33m\u001b[0m\u001b[0m\n\u001b[0m\u001b[0;32m      2\u001b[0m \u001b[0md\u001b[0m\u001b[1;33m\u001b[0m\u001b[1;33m\u001b[0m\u001b[0m\n",
      "\u001b[1;31mNameError\u001b[0m: name 'c' is not defined"
     ]
    }
   ],
   "source": [
    "d = c.replace('Apple','Pin')\n",
    "d"
   ]
  },
  {
   "cell_type": "code",
   "execution_count": 32,
   "id": "68922087",
   "metadata": {},
   "outputs": [
    {
     "name": "stdout",
     "output_type": "stream",
     "text": [
      "31\n"
     ]
    }
   ],
   "source": [
    "b = open(\"bil.csv\",\"w\")\n",
    "c = b.write(d)\n",
    "print(c)\n",
    "b.close()"
   ]
  },
  {
   "cell_type": "code",
   "execution_count": null,
   "id": "b96a3e40",
   "metadata": {},
   "outputs": [],
   "source": [
    "import os #delete\n",
    "os.remove('bil.csv')"
   ]
  },
  {
   "cell_type": "code",
   "execution_count": 2,
   "id": "2459a1a2",
   "metadata": {},
   "outputs": [
    {
     "data": {
      "text/plain": [
       "'Untitled Folder\\\\bil.csv'"
      ]
     },
     "execution_count": 2,
     "metadata": {},
     "output_type": "execute_result"
    }
   ],
   "source": [
    "import shutil #copy\n",
    "src = 'bil.csv'\n",
    "dst = 'Untitled Folder'\n",
    "shutil.copy(src,dst)"
   ]
  },
  {
   "cell_type": "code",
   "execution_count": 4,
   "id": "7be000e5",
   "metadata": {},
   "outputs": [
    {
     "data": {
      "text/plain": [
       "'new'"
      ]
     },
     "execution_count": 4,
     "metadata": {},
     "output_type": "execute_result"
    }
   ],
   "source": [
    "import shutil #folder copy\n",
    "src = 'Untitled Folder'\n",
    "dst = 'new'\n",
    "shutil.copytree(src,dst)"
   ]
  },
  {
   "cell_type": "code",
   "execution_count": 5,
   "id": "b3b31c9f",
   "metadata": {},
   "outputs": [
    {
     "data": {
      "text/plain": [
       "'Untitled Folder1'"
      ]
     },
     "execution_count": 5,
     "metadata": {},
     "output_type": "execute_result"
    }
   ],
   "source": [
    "import shutil #folder move\n",
    "src = 'Untitled Folder'\n",
    "dst = 'Untitled Folder1'\n",
    "shutil.move(src,dst)"
   ]
  },
  {
   "cell_type": "code",
   "execution_count": 7,
   "id": "6e078bf3",
   "metadata": {},
   "outputs": [],
   "source": [
    "import os\n",
    "os.rename('Untitled Folder1','Santosh')"
   ]
  },
  {
   "cell_type": "code",
   "execution_count": 1,
   "id": "36598019",
   "metadata": {},
   "outputs": [
    {
     "name": "stdout",
     "output_type": "stream",
     "text": [
      "REMARK   4      COMPLIES WITH FORMAT V. 3.0, 1-DEC-2006\n",
      "REMARK 888\n",
      "REMARK 888 WRITTEN BY MAESTRO (A PRODUCT OF SCHRODINGER, LLC)\n",
      "TITLE     11766372\n",
      "MODEL        1\n",
      "HETATM    1  O1  UNK   900       3.943  -1.520   0.015  1.00  0.00           O  \n",
      "HETATM    2  O2  UNK   900       1.640   0.003   2.530  1.00  0.00           O  \n",
      "HETATM    3  O3  UNK   900       0.028  -0.224  -0.001  1.00  0.00           O  \n",
      "HETATM    4  O4  UNK   900       1.700   0.014  -2.412  1.00  0.00           O  \n",
      "HETATM    5  O5  UNK   900       4.084   0.581  -1.057  1.00  0.00           O  \n",
      "HETATM    6  O6  UNK   900       3.680  -1.656   3.686  1.00  0.00           O  \n",
      "HETATM    7  O7  UNK   900       2.540   2.051   1.971  1.00  0.00           O  \n",
      "HETATM    8  O8  UNK   900      -0.468   1.947   0.539  1.00  0.00           O  \n",
      "HETATM    9  O9  UNK   900      -0.137  -1.261  -2.901  1.00  0.00           O  \n",
      "HETATM   10  O10 UNK   900       6.273  -0.126  -1.199  1.00  0.00           O  \n",
      "HETATM   11  O11 UNK   900       4.431  -1.215   5.769  1.00  0.00           O  \n",
      "HETATM   12  O12 UNK   900       4.216   2.181   7.030  1.00  0.00           O1-\n",
      "HETATM   13  O13 UNK   900       4.723   3.956   4.014  1.00  0.00           O  \n",
      "HETATM   14  O14 UNK   900      -0.513   2.021   6.859  1.00  0.00           O  \n",
      "HETATM   15  O15 UNK   900       1.800   2.404   8.341  1.00  0.00           O  \n",
      "HETATM   16  O16 UNK   900       7.113   3.674   2.657  1.00  0.00           O  \n",
      "HETATM   17  O17 UNK   900       8.138   1.127   2.164  1.00  0.00           O  \n",
      "HETATM   18  O18 UNK   900      -5.518   2.060  -0.307  1.00  0.00           O  \n",
      "HETATM   19  O19 UNK   900      -4.360  -2.616  -0.008  1.00  0.00           O  \n",
      "HETATM   20  O20 UNK   900       1.652   3.801  -5.659  1.00  0.00           O  \n",
      "HETATM   21  O21 UNK   900      -1.765   0.812  -7.285  1.00  0.00           O  \n",
      "HETATM   22  O22 UNK   900      -6.309  -0.621  -0.297  1.00  0.00           O  \n",
      "HETATM   23  O23 UNK   900       4.292   5.393   0.210  1.00  0.00           O  \n",
      "HETATM   24  O24 UNK   900       8.856   4.271  -0.894  1.00  0.00           O  \n",
      "HETATM   25  O25 UNK   900      -0.279   3.162  -7.579  1.00  0.00           O  \n",
      "HETATM   26  O26 UNK   900       6.964   6.179  -0.111  1.00  0.00           O  \n",
      "HETATM   27  C1  UNK   900       2.010  -0.703   1.335  1.00  0.00           C  \n",
      "HETATM   28  C2  UNK   900       1.448  -0.070   0.035  1.00  0.00           C  \n",
      "HETATM   29  C3  UNK   900       3.548  -0.965   1.277  1.00  0.00           C  \n",
      "HETATM   30  C4  UNK   900       2.070  -0.704  -1.231  1.00  0.00           C  \n",
      "HETATM   31  C5  UNK   900       3.599  -0.743  -1.108  1.00  0.00           C  \n",
      "HETATM   32  C6  UNK   900       4.059  -1.961   2.344  1.00  0.00           C  \n",
      "HETATM   33  C7  UNK   900       2.027   1.284   2.789  1.00  0.00           C  \n",
      "HETATM   34  C8  UNK   900      -0.829   0.798   0.270  1.00  0.00           C  \n",
      "HETATM   35  C9  UNK   900       0.599  -0.301  -3.148  1.00  0.00           C  \n",
      "HETATM   36  C10 UNK   900       2.013   1.558   4.250  1.00  0.00           C  \n",
      "HETATM   37  C11 UNK   900       5.441   0.771  -1.030  1.00  0.00           C  \n",
      "HETATM   38  C12 UNK   900       4.455  -0.962   4.566  1.00  0.00           C  \n",
      "HETATM   39  C13 UNK   900       3.217   1.731   4.972  1.00  0.00           C  \n",
      "HETATM   40  C14 UNK   900       5.096   0.282   4.037  1.00  0.00           C  \n",
      "HETATM   41  C15 UNK   900      -2.265   0.402   0.115  1.00  0.00           C  \n",
      "HETATM   42  C16 UNK   900       4.550   1.564   4.281  1.00  0.00           C  \n",
      "HETATM   43  C17 UNK   900       0.391   0.620  -4.312  1.00  0.00           C  \n",
      "HETATM   44  C18 UNK   900       5.816   2.205  -0.805  1.00  0.00           C  \n",
      "HETATM   45  C19 UNK   900       0.781   1.652   4.899  1.00  0.00           C  \n",
      "HETATM   46  C20 UNK   900       3.145   2.023   6.353  1.00  0.00           C  \n",
      "HETATM   47  C21 UNK   900       5.239   2.698   3.809  1.00  0.00           C  \n",
      "HETATM   48  C22 UNK   900       6.301   0.161   3.335  1.00  0.00           C  \n",
      "HETATM   49  C23 UNK   900       0.719   1.933   6.260  1.00  0.00           C  \n",
      "HETATM   50  C24 UNK   900      -2.667  -0.943   0.119  1.00  0.00           C  \n",
      "HETATM   51  C25 UNK   900      -3.245   1.394  -0.024  1.00  0.00           C  \n",
      "HETATM   52  C26 UNK   900       1.895   2.124   6.994  1.00  0.00           C  \n",
      "HETATM   53  C27 UNK   900      -0.581   0.311  -5.274  1.00  0.00           C  \n",
      "HETATM   54  C28 UNK   900       1.130   1.805  -4.464  1.00  0.00           C  \n",
      "HETATM   55  C29 UNK   900       6.444   2.561   3.107  1.00  0.00           C  \n",
      "HETATM   56  C30 UNK   900       7.151   2.604  -0.960  1.00  0.00           C  \n",
      "HETATM   57  C31 UNK   900       4.873   3.167  -0.409  1.00  0.00           C  \n",
      "HETATM   58  C32 UNK   900       6.967   1.289   2.863  1.00  0.00           C  \n",
      "HETATM   59  C33 UNK   900      -4.592   1.057  -0.165  1.00  0.00           C  \n",
      "HETATM   60  C34 UNK   900      -4.012  -1.289  -0.018  1.00  0.00           C  \n",
      "HETATM   61  C35 UNK   900       0.910   2.653  -5.549  1.00  0.00           C  \n",
      "HETATM   62  C36 UNK   900      -0.806   1.153  -6.364  1.00  0.00           C  \n",
      "HETATM   63  C37 UNK   900      -4.982  -0.288  -0.161  1.00  0.00           C  \n",
      "HETATM   64  C38 UNK   900       5.250   4.490  -0.179  1.00  0.00           C  \n",
      "HETATM   65  C39 UNK   900       7.537   3.927  -0.734  1.00  0.00           C  \n",
      "HETATM   66  C40 UNK   900      -0.059   2.329  -6.507  1.00  0.00           C  \n",
      "HETATM   67  C41 UNK   900       6.586   4.878  -0.343  1.00  0.00           C  \n",
      "HETATM   68  H1  UNK   900       1.529  -1.675   1.447  1.00  0.00           H  \n",
      "HETATM   69  H2  UNK   900       1.694   0.991  -0.006  1.00  0.00           H  \n",
      "HETATM   70  H3  UNK   900       4.089  -0.029   1.413  1.00  0.00           H  \n",
      "HETATM   71  H4  UNK   900       1.743  -1.741  -1.329  1.00  0.00           H  \n",
      "HETATM   72  H5  UNK   900       4.047  -1.257  -1.961  1.00  0.00           H  \n",
      "HETATM   73  H6  UNK   900       5.141  -2.073   2.268  1.00  0.00           H  \n",
      "HETATM   74  H7  UNK   900       3.651  -2.946   2.118  1.00  0.00           H  \n",
      "HETATM   75  H8  UNK   900      -0.138   1.515   4.345  1.00  0.00           H  \n",
      "HETATM   76  H9  UNK   900       6.735  -0.813   3.159  1.00  0.00           H  \n",
      "HETATM   77  H10 UNK   900      -1.939  -1.735   0.233  1.00  0.00           H  \n",
      "HETATM   78  H11 UNK   900      -2.967   2.440  -0.029  1.00  0.00           H  \n",
      "HETATM   79  H12 UNK   900      -1.171  -0.591  -5.184  1.00  0.00           H  \n",
      "HETATM   80  H13 UNK   900       1.882   2.087  -3.739  1.00  0.00           H  \n",
      "HETATM   81  H14 UNK   900       7.905   1.888  -1.256  1.00  0.00           H  \n",
      "HETATM   82  H15 UNK   900       3.835   2.900  -0.267  1.00  0.00           H  \n",
      "HETATM   83  H16 UNK   900       5.287   4.645   3.655  1.00  0.00           H  \n",
      "HETATM   84  H17 UNK   900      -1.235   1.873   6.245  1.00  0.00           H  \n",
      "HETATM   85  H18 UNK   900       0.891   2.444   8.645  1.00  0.00           H  \n",
      "HETATM   86  H19 UNK   900       7.921   3.453   2.187  1.00  0.00           H  \n",
      "HETATM   87  H20 UNK   900       8.391   0.206   2.069  1.00  0.00           H  \n",
      "HETATM   88  H21 UNK   900      -5.126   2.936  -0.301  1.00  0.00           H  \n",
      "HETATM   89  H22 UNK   900      -3.606  -3.202   0.094  1.00  0.00           H  \n",
      "HETATM   90  H23 UNK   900       1.421   4.314  -6.437  1.00  0.00           H  \n",
      "HETATM   91  H24 UNK   900      -2.212  -0.011  -7.073  1.00  0.00           H  \n",
      "HETATM   92  H25 UNK   900      -6.874   0.149  -0.393  1.00  0.00           H  \n",
      "HETATM   93  H26 UNK   900       4.639   6.276   0.349  1.00  0.00           H  \n",
      "HETATM   94  H27 UNK   900       9.406   3.537  -1.177  1.00  0.00           H  \n",
      "HETATM   95  H28 UNK   900      -0.963   2.831  -8.166  1.00  0.00           H  \n",
      "HETATM   96  H29 UNK   900       6.240   6.739   0.178  1.00  0.00           H  \n",
      "CONECT    1   29   31\n",
      "CONECT    2   27   33\n",
      "CONECT    3   28   34\n",
      "CONECT    4   30   35\n",
      "CONECT    5   31   37\n",
      "CONECT    6   32   38\n",
      "CONECT    7   33\n",
      "CONECT    7   33\n",
      "CONECT    8   34\n",
      "CONECT    8   34\n",
      "CONECT    9   35\n",
      "CONECT    9   35\n",
      "CONECT   10   37\n",
      "CONECT   10   37\n",
      "CONECT   11   38\n",
      "CONECT   11   38\n",
      "CONECT   12   46\n",
      "CONECT   13   47   83\n",
      "CONECT   14   49   84\n",
      "CONECT   15   52   85\n",
      "CONECT   16   55   86\n",
      "CONECT   17   58   87\n",
      "CONECT   18   59   88\n",
      "CONECT   19   60   89\n",
      "CONECT   20   61   90\n",
      "CONECT   21   62   91\n",
      "CONECT   22   63   92\n",
      "CONECT   23   64   93\n",
      "CONECT   24   65   94\n",
      "CONECT   25   66   95\n",
      "CONECT   26   67   96\n",
      "CONECT   27    2   28   29   68\n",
      "CONECT   28    3   27   30   69\n",
      "CONECT   29    1   27   32   70\n",
      "CONECT   30    4   28   31   71\n",
      "CONECT   31    1    5   30   72\n",
      "CONECT   32    6   29   73   74\n",
      "CONECT   33    2    7   36\n",
      "CONECT   33    7\n",
      "CONECT   34    3    8   41\n",
      "CONECT   34    8\n",
      "CONECT   35    4    9   43\n",
      "CONECT   35    9\n",
      "CONECT   36   33   39   45\n",
      "CONECT   36   45\n",
      "CONECT   37    5   10   44\n",
      "CONECT   37   10\n",
      "CONECT   38    6   11   40\n",
      "CONECT   38   11\n",
      "CONECT   39   36   42   46\n",
      "CONECT   39   46\n",
      "CONECT   40   38   42   48\n",
      "CONECT   40   48\n",
      "CONECT   41   34   50   51\n",
      "CONECT   41   50\n",
      "CONECT   42   39   40   47\n",
      "CONECT   42   47\n",
      "CONECT   43   35   53   54\n",
      "CONECT   43   53\n",
      "CONECT   44   37   56   57\n",
      "CONECT   44   56\n",
      "CONECT   45   36   49   75\n",
      "CONECT   45   36\n",
      "CONECT   46   12   39   52\n",
      "CONECT   46   39\n",
      "CONECT   47   13   42   55\n",
      "CONECT   47   42\n",
      "CONECT   48   40   58   76\n",
      "CONECT   48   40\n",
      "CONECT   49   14   45   52\n",
      "CONECT   49   52\n",
      "CONECT   50   41   60   77\n",
      "CONECT   50   41\n",
      "CONECT   51   41   59   78\n",
      "CONECT   51   59\n",
      "CONECT   52   15   46   49\n",
      "CONECT   52   49\n",
      "CONECT   53   43   62   79\n",
      "CONECT   53   43\n",
      "CONECT   54   43   61   80\n",
      "CONECT   54   61\n",
      "CONECT   55   16   47   58\n",
      "CONECT   55   58\n",
      "CONECT   56   44   65   81\n",
      "CONECT   56   44\n",
      "CONECT   57   44   64   82\n",
      "CONECT   57   64\n",
      "CONECT   58   17   48   55\n",
      "CONECT   58   55\n",
      "CONECT   59   18   51   63\n",
      "CONECT   59   51\n",
      "CONECT   60   19   50   63\n",
      "CONECT   60   63\n",
      "CONECT   61   20   54   66\n",
      "CONECT   61   54\n",
      "CONECT   62   21   53   66\n",
      "CONECT   62   66\n",
      "CONECT   63   22   59   60\n",
      "CONECT   63   60\n",
      "CONECT   64   23   57   67\n",
      "CONECT   64   57\n",
      "CONECT   65   24   56   67\n",
      "CONECT   65   67\n",
      "CONECT   66   25   61   62\n",
      "CONECT   66   62\n",
      "CONECT   67   26   64   65\n",
      "CONECT   67   65\n",
      "CONECT   68   27\n",
      "CONECT   69   28\n",
      "CONECT   70   29\n",
      "CONECT   71   30\n",
      "CONECT   72   31\n",
      "CONECT   73   32\n",
      "CONECT   74   32\n",
      "CONECT   75   45\n",
      "CONECT   76   48\n",
      "CONECT   77   50\n",
      "CONECT   78   51\n",
      "CONECT   79   53\n",
      "CONECT   80   54\n",
      "CONECT   81   56\n",
      "CONECT   82   57\n",
      "CONECT   83   13\n",
      "CONECT   84   14\n",
      "CONECT   85   15\n",
      "CONECT   86   16\n",
      "CONECT   87   17\n",
      "CONECT   88   18\n",
      "CONECT   89   19\n",
      "CONECT   90   20\n",
      "CONECT   91   21\n",
      "CONECT   92   22\n",
      "CONECT   93   23\n",
      "CONECT   94   24\n",
      "CONECT   95   25\n",
      "CONECT   96   26\n",
      "ENDMDL\n",
      "END   \n",
      "\n"
     ]
    }
   ],
   "source": [
    "b = open(\"TellimagranidinII.pdb\",\"r\") #to open\n",
    "c = b.read()\n",
    "print(c)\n",
    "b.close()"
   ]
  },
  {
   "cell_type": "code",
   "execution_count": null,
   "id": "e685f8cc",
   "metadata": {},
   "outputs": [],
   "source": []
  }
 ],
 "metadata": {
  "kernelspec": {
   "display_name": "Python 3",
   "language": "python",
   "name": "python3"
  },
  "language_info": {
   "codemirror_mode": {
    "name": "ipython",
    "version": 3
   },
   "file_extension": ".py",
   "mimetype": "text/x-python",
   "name": "python",
   "nbconvert_exporter": "python",
   "pygments_lexer": "ipython3",
   "version": "3.8.8"
  }
 },
 "nbformat": 4,
 "nbformat_minor": 5
}
